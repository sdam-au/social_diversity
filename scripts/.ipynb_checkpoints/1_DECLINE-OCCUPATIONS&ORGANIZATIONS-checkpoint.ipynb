{
 "cells": [
  {
   "cell_type": "markdown",
   "metadata": {},
   "source": [
    "# Requirements"
   ]
  },
  {
   "cell_type": "code",
   "execution_count": 10,
   "metadata": {},
   "outputs": [
    {
     "name": "stdout",
     "output_type": "stream",
     "text": [
      "kernel successfully changed\n"
     ]
    }
   ],
   "source": [
    "# first, setup the kernel for virtual environment\n",
    "from IPython.display import Javascript\n",
    "Javascript(\"Jupyter.notebook.session.restart({kernel_name: 'socdiv_venv'})\") # execution of javascript command\n",
    "print(\"kernel successfully changed\")"
   ]
  },
  {
   "cell_type": "code",
   "execution_count": 21,
   "metadata": {},
   "outputs": [],
   "source": [
    "import pandas as pd\n",
    "import re\n",
    "import json"
   ]
  },
  {
   "cell_type": "code",
   "execution_count": 10,
   "metadata": {},
   "outputs": [
    {
     "data": {
      "text/html": [
       "<div>\n",
       "<style scoped>\n",
       "    .dataframe tbody tr th:only-of-type {\n",
       "        vertical-align: middle;\n",
       "    }\n",
       "\n",
       "    .dataframe tbody tr th {\n",
       "        vertical-align: top;\n",
       "    }\n",
       "\n",
       "    .dataframe thead th {\n",
       "        text-align: right;\n",
       "    }\n",
       "</style>\n",
       "<table border=\"1\" class=\"dataframe\">\n",
       "  <thead>\n",
       "    <tr style=\"text-align: right;\">\n",
       "      <th></th>\n",
       "      <th>Term</th>\n",
       "      <th>gen_sg</th>\n",
       "      <th>Vocab_nom_sg</th>\n",
       "      <th>Source</th>\n",
       "      <th>HISCO_majorgroup</th>\n",
       "      <th>HISCO_minorgroup</th>\n",
       "      <th>Harris_Category</th>\n",
       "      <th>Subcategory</th>\n",
       "      <th>Translation_eng</th>\n",
       "    </tr>\n",
       "  </thead>\n",
       "  <tbody>\n",
       "    <tr>\n",
       "      <th>0</th>\n",
       "      <td>abetarius</td>\n",
       "      <td>i</td>\n",
       "      <td>NaN</td>\n",
       "      <td>Petrikovits 1981a</td>\n",
       "      <td>8.0</td>\n",
       "      <td>81.0</td>\n",
       "      <td>Building</td>\n",
       "      <td>Wood worker</td>\n",
       "      <td>a joiner, wood worker</td>\n",
       "    </tr>\n",
       "    <tr>\n",
       "      <th>1</th>\n",
       "      <td>abietarius</td>\n",
       "      <td>i</td>\n",
       "      <td>NaN</td>\n",
       "      <td>Petrikovits 1981a</td>\n",
       "      <td>8.0</td>\n",
       "      <td>81.0</td>\n",
       "      <td>Building</td>\n",
       "      <td>Wood worker</td>\n",
       "      <td>a joiner, wood worker</td>\n",
       "    </tr>\n",
       "    <tr>\n",
       "      <th>2</th>\n",
       "      <td>acceptor</td>\n",
       "      <td>oris</td>\n",
       "      <td>acceptor</td>\n",
       "      <td>Waltzing - Rome</td>\n",
       "      <td>3.0</td>\n",
       "      <td>31.0</td>\n",
       "      <td>Finance</td>\n",
       "      <td>NaN</td>\n",
       "      <td>collector, gold quality checker</td>\n",
       "    </tr>\n",
       "    <tr>\n",
       "      <th>3</th>\n",
       "      <td>accomodator</td>\n",
       "      <td>oris</td>\n",
       "      <td>NaN</td>\n",
       "      <td>Petrikovits 1981a</td>\n",
       "      <td>9.0</td>\n",
       "      <td>99.0</td>\n",
       "      <td>Unclear meaning</td>\n",
       "      <td>NaN</td>\n",
       "      <td>uncertain, craftsman</td>\n",
       "    </tr>\n",
       "    <tr>\n",
       "      <th>4</th>\n",
       "      <td>aceptor</td>\n",
       "      <td>oris</td>\n",
       "      <td>NaN</td>\n",
       "      <td>Petrikovits 1981a</td>\n",
       "      <td>3.0</td>\n",
       "      <td>31.0</td>\n",
       "      <td>Finance</td>\n",
       "      <td>NaN</td>\n",
       "      <td>collector, gold quality checker</td>\n",
       "    </tr>\n",
       "  </tbody>\n",
       "</table>\n",
       "</div>"
      ],
      "text/plain": [
       "          Term gen_sg Vocab_nom_sg             Source  HISCO_majorgroup  \\\n",
       "0    abetarius      i          NaN  Petrikovits 1981a               8.0   \n",
       "1   abietarius      i          NaN  Petrikovits 1981a               8.0   \n",
       "2     acceptor   oris     acceptor    Waltzing - Rome               3.0   \n",
       "3  accomodator   oris          NaN  Petrikovits 1981a               9.0   \n",
       "4      aceptor   oris          NaN  Petrikovits 1981a               3.0   \n",
       "\n",
       "   HISCO_minorgroup  Harris_Category  Subcategory  \\\n",
       "0              81.0         Building  Wood worker   \n",
       "1              81.0         Building  Wood worker   \n",
       "2              31.0          Finance          NaN   \n",
       "3              99.0  Unclear meaning          NaN   \n",
       "4              31.0          Finance          NaN   \n",
       "\n",
       "                   Translation_eng  \n",
       "0            a joiner, wood worker  \n",
       "1            a joiner, wood worker  \n",
       "2  collector, gold quality checker  \n",
       "3             uncertain, craftsman  \n",
       "4  collector, gold quality checker  "
      ]
     },
     "execution_count": 10,
     "metadata": {},
     "output_type": "execute_result"
    }
   ],
   "source": [
    "occupations_df = pd.read_csv(\"../data/occupations_list_hisco.csv\")\n",
    "occupations_df.head(5)"
   ]
  },
  {
   "cell_type": "code",
   "execution_count": 11,
   "metadata": {},
   "outputs": [
    {
     "data": {
      "text/plain": [
       "[('abetarius', 'i', nan),\n",
       " ('abietarius', 'i', nan),\n",
       " ('acceptor', 'oris', 'acceptor'),\n",
       " ('accomodator', 'oris', nan),\n",
       " ('aceptor', 'oris', nan)]"
      ]
     },
     "execution_count": 11,
     "metadata": {},
     "output_type": "execute_result"
    }
   ],
   "source": [
    "occup_tups = [(occup_nom, occup_gen, word_to_dec) for occup_nom, occup_gen, word_to_dec in zip(occupations_df[\"Term\"].tolist(), occupations_df[\"gen_sg\"].tolist(), occupations_df[\"Vocab_nom_sg\"].tolist())]\n",
    "occup_tups[:5]"
   ]
  },
  {
   "cell_type": "code",
   "execution_count": 12,
   "metadata": {},
   "outputs": [
    {
     "data": {
      "text/plain": [
       "[('exactor auri argenti et aeris', 'oris', 'exactor'),\n",
       " ('inclusor auri et gemmarum', 'oris', 'inclusor'),\n",
       " ('tesserarius lignarius', 'i', 'tesserarius'),\n",
       " ('refector pectinarius', 'oris', 'refector'),\n",
       " ('instructor parietum', 'oris', 'instructor')]"
      ]
     },
     "execution_count": 12,
     "metadata": {},
     "output_type": "execute_result"
    }
   ],
   "source": [
    "# reorder from longest to shortest\n",
    "occup_tups = sorted(occup_tups, key = lambda x: len(x[0]), reverse=True)\n",
    "occup_tups[:5]"
   ]
  },
  {
   "cell_type": "code",
   "execution_count": 13,
   "metadata": {},
   "outputs": [
    {
     "data": {
      "text/html": [
       "<div>\n",
       "<style scoped>\n",
       "    .dataframe tbody tr th:only-of-type {\n",
       "        vertical-align: middle;\n",
       "    }\n",
       "\n",
       "    .dataframe tbody tr th {\n",
       "        vertical-align: top;\n",
       "    }\n",
       "\n",
       "    .dataframe thead th {\n",
       "        text-align: right;\n",
       "    }\n",
       "</style>\n",
       "<table border=\"1\" class=\"dataframe\">\n",
       "  <thead>\n",
       "    <tr style=\"text-align: right;\">\n",
       "      <th></th>\n",
       "      <th>Term</th>\n",
       "      <th>gen_sg</th>\n",
       "      <th>Vocab_nom_sg</th>\n",
       "      <th>Source</th>\n",
       "      <th>Category</th>\n",
       "      <th>Translation_eng_LewisShort</th>\n",
       "    </tr>\n",
       "  </thead>\n",
       "  <tbody>\n",
       "    <tr>\n",
       "      <th>0</th>\n",
       "      <td>colegium</td>\n",
       "      <td>i</td>\n",
       "      <td>colegium</td>\n",
       "      <td>Waltzing</td>\n",
       "      <td>Organization</td>\n",
       "      <td>variant spelling of collegium</td>\n",
       "    </tr>\n",
       "    <tr>\n",
       "      <th>1</th>\n",
       "      <td>collegium</td>\n",
       "      <td>i</td>\n",
       "      <td>collegium</td>\n",
       "      <td>Waltzing</td>\n",
       "      <td>Organization</td>\n",
       "      <td>the connection of associates, colleagues, etc....</td>\n",
       "    </tr>\n",
       "    <tr>\n",
       "      <th>2</th>\n",
       "      <td>collegiatus</td>\n",
       "      <td>i</td>\n",
       "      <td>collegiatus</td>\n",
       "      <td>Waltzing</td>\n",
       "      <td>Membership</td>\n",
       "      <td>he who is with one in a society, college, corp...</td>\n",
       "    </tr>\n",
       "    <tr>\n",
       "      <th>3</th>\n",
       "      <td>collegius</td>\n",
       "      <td>i</td>\n",
       "      <td>collegius</td>\n",
       "      <td>Waltzing</td>\n",
       "      <td>Membership</td>\n",
       "      <td>belonging to collegium</td>\n",
       "    </tr>\n",
       "    <tr>\n",
       "      <th>4</th>\n",
       "      <td>collega</td>\n",
       "      <td>ae</td>\n",
       "      <td>collega</td>\n",
       "      <td>Petra's addition</td>\n",
       "      <td>Membership</td>\n",
       "      <td>member of collegium, a partner in office, a co...</td>\n",
       "    </tr>\n",
       "  </tbody>\n",
       "</table>\n",
       "</div>"
      ],
      "text/plain": [
       "          Term gen_sg Vocab_nom_sg            Source      Category  \\\n",
       "0     colegium      i     colegium          Waltzing  Organization   \n",
       "1    collegium      i    collegium          Waltzing  Organization   \n",
       "2  collegiatus      i  collegiatus          Waltzing    Membership   \n",
       "3    collegius      i    collegius          Waltzing    Membership   \n",
       "4      collega     ae      collega  Petra's addition    Membership   \n",
       "\n",
       "                          Translation_eng_LewisShort  \n",
       "0                      variant spelling of collegium  \n",
       "1  the connection of associates, colleagues, etc....  \n",
       "2  he who is with one in a society, college, corp...  \n",
       "3                             belonging to collegium  \n",
       "4  member of collegium, a partner in office, a co...  "
      ]
     },
     "execution_count": 13,
     "metadata": {},
     "output_type": "execute_result"
    }
   ],
   "source": [
    "organizations_df = pd.read_csv(\"../data/organizations_list.csv\")\n",
    "organizations_df.head(5)"
   ]
  },
  {
   "cell_type": "code",
   "execution_count": 14,
   "metadata": {},
   "outputs": [
    {
     "data": {
      "text/plain": [
       "[('colegium', 'i', 'colegium'),\n",
       " ('collegium', 'i', 'collegium'),\n",
       " ('collegiatus', 'i', 'collegiatus'),\n",
       " ('collegius', 'i', 'collegius'),\n",
       " ('collega', 'ae', 'collega')]"
      ]
     },
     "execution_count": 14,
     "metadata": {},
     "output_type": "execute_result"
    }
   ],
   "source": [
    "organ_tups = [(organ_nom, organ_gen, word_to_dec) for organ_nom, organ_gen, word_to_dec in zip(organizations_df[\"Term\"].tolist(), organizations_df[\"gen_sg\"].tolist(), organizations_df[\"Vocab_nom_sg\"].tolist())]\n",
    "organ_tups[:5]"
   ]
  },
  {
   "cell_type": "code",
   "execution_count": 15,
   "metadata": {},
   "outputs": [
    {
     "data": {
      "text/plain": [
       "[('collegatarius', 'i', 'collegatarius'),\n",
       " ('collegiarius', 'i', 'collegiarius'),\n",
       " ('collegiatus', 'i', 'collegiatus'),\n",
       " ('corporatus', 'i', 'corporatus'),\n",
       " ('sodalicium', 'i', 'sodalitium')]"
      ]
     },
     "execution_count": 15,
     "metadata": {},
     "output_type": "execute_result"
    }
   ],
   "source": [
    "# reorder from longest to shortest\n",
    "organ_tups = sorted(organ_tups, key = lambda x: len(x[0]), reverse=True)\n",
    "organ_tups[:5]"
   ]
  },
  {
   "cell_type": "code",
   "execution_count": 16,
   "metadata": {},
   "outputs": [],
   "source": [
    "# manually define declinations\n",
    "decs = {\n",
    "\"first_f\" : [\"a\", \"ae\", \"am\", \"e\", \"as\", \"arum\", \"is\"],\n",
    "\"first_gr_es\" : [\"es\",  \"ae\", \"en\", \"am\", \"e\", \"as\", \"arum\", \"is\", \"a\"],\n",
    "\n",
    "\"sec_m_us\" : [\"us\", \"i\", \"o\", \"um\", \"orum\", \"os\", \"is\"],\n",
    "\"sec_n\" : [\"um\", \"i\", \"o\", \"a\", \"orum\", \"is\"],\n",
    "\"sec_m_er\" : [\"er\", \"eri\", \"ero\", \"erum\" , \"eros\", \"erorum\", \"eris\"],\n",
    "\"sec_m_r\" : [\"er\", \"ri\", \"ro\", \"rum\" , \"ros\", \"rorum\", \"ris\"],\n",
    "\n",
    "\"sec_gr_os\" : [\"os\", \"i\", \"o\", \"on\" , \"e\", \"rorum\", \"ris\"],\n",
    "\"sec_gr_on\" : [\"on\", \"i\", \"o\", \"a\", \"orum\", \"is\"],\n",
    "\n",
    "\"third_m_1\" : [\"es\", \"itis\", \"iti\", \"ite\", \"ites\", \"itibus\", \"itum\"],\n",
    "\"third_m_2\" : [\"ix\", \"icis\", \"icem\", \"ici\", \"ice\", \"ices\", \"icibus\", \"icum\"],\n",
    "\"third_m_3\" : [\"ex\", \"icis\", \"icem\", \"ici\", \"ice\", \"ices\", \"icibus\", \"icum\"],\n",
    "\"third_m_4\" : [\"o\", \"onis\", \"onem\", \"oni\", \"one\", \"ones\", \"onibus\", \"onum\"],\n",
    "\"third_m_5a\" : [\"or\", \"oris\", \"orem\", \"ori\", \"ore\", \"ores\", \"oribus\", \"orum\"],\n",
    "\"third_m_5b\" : [\"ur\", \"uris\", \"urem\", \"uri\", \"ure\", \"ures\", \"uribus\", \"urum\"],\n",
    "\"third_m_6\" : [\"n\", \"nis\", \"nem\", \"ni\", \"ne\", \"nes\", \"nibus\", \"num\"],\n",
    "\"third_m_7a\" : [\"ensis\", \"ensis\", \"ensem\", \"ensi\", \"ense\", \"enses\", \"ensibus\", \"ensum\", \"ensium\"],\n",
    "\"third_m_7b\" : [\"esis\", \"esis\", \"esem\", \"esi\", \"ese\", \"eses\", \"esibus\", \"esum\", \"esium\"],\n",
    "\"third_m_8\" : [\"er\", \"eris\", \"erem\", \"eri\", \"ere\", \"eres\", \"eribus\", \"erum\", \"erium\"],\n",
    "\"third_m_9\" : [\"eps\", \"ipis\", \"ipem\", \"ipi\", \"ipe\", \"ipes\", \"ipibus\", \"ipum\"],\n",
    "\"third_m_10\" : [\"ans\", \"antis\", \"antem\", \"ante\", \"antes\", \"antium\", \"antum\", \"antibus\"],\n",
    "\"third_m_11\" : [\"er\", \"ineris\", \"ineri\", \"inere\", \"inera\", \"inerum\", \"ineribus\"],\n",
    "\"third_m_12\" : [\"ut\", \"itis\", \"iti\", \"ite\", \"ita\", \"itibus\", \"itum\"],\n",
    "\"third_m_13\" : [\"us\", \"oris\", \"ori\", \"ore\", \"ora\", \"orum\", \"oribus\"],\n",
    "    \n",
    "\"third_f_1\" : [\"as\", \"adis\", \"adi\", \"ade\", \"ades\", \"adum\", \"adium\", \"adibus\"],\n",
    "\"third_f_2\" : [\"as\", \"atis\", \"ati\", \"atem\", \"ate\", \"ates\", \"atum\", \"atibus\"],\n",
    "\n",
    "\"third_mix_1\" : [\"is\", \"is\", \"i\", \"em\", \"e\", \"es\", \"ium\", \"um\", \"ibus\"],\n",
    "\"third_mix_2\" : [\"ns\", \"ntis\", \"nti\", \"ntem\", \"nte\", \"ntes\", \"ntium\", \"ntum\", \"ntibus\"],\n",
    "    \n",
    "\"fourth_us\" : [\"us\", \"us\", \"ui\", \"um\", \"u\", \"uum\", \"ibus\"]\n",
    "}"
   ]
  },
  {
   "cell_type": "code",
   "execution_count": 17,
   "metadata": {},
   "outputs": [
    {
     "data": {
      "text/plain": [
       "[('exactor auri argenti et aeris', 'oris', 'exactor'),\n",
       " ('inclusor auri et gemmarum', 'oris', 'inclusor'),\n",
       " ('tesserarius lignarius', 'i', 'tesserarius'),\n",
       " ('refector pectinarius', 'oris', 'refector'),\n",
       " ('instructor parietum', 'oris', 'instructor')]"
      ]
     },
     "execution_count": 17,
     "metadata": {},
     "output_type": "execute_result"
    }
   ],
   "source": [
    "occup_tups = sorted(occup_tups, key = lambda x: len(x[0]), reverse=True)\n",
    "occup_tups[:5]"
   ]
  },
  {
   "cell_type": "code",
   "execution_count": 18,
   "metadata": {},
   "outputs": [],
   "source": [
    "def decline(nom_sg, ending):\n",
    "    possible_decs = []\n",
    "    for dec in decs.keys(): \n",
    "        if ending == decs[dec][1]:\n",
    "            possible_decs.append(dec)\n",
    "    for pos_dec in possible_decs:\n",
    "        nom_end = decs[pos_dec][0]\n",
    "        if re.match(\"\\w+\" + nom_end + \"$\", nom_sg):\n",
    "            root = re.split(nom_end + \"$\", nom_sg)[0]\n",
    "            all_morphs = list(set([str(root) + end for end in decs[pos_dec]])) # unique forms\n",
    "            break\n",
    "    try:\n",
    "        return all_morphs\n",
    "    except:\n",
    "        print(\"declining unsuccesful: \" + nom_sg, ending)\n",
    "        return [nom_sg] \n",
    "occups_declined = []\n",
    "for occup_tup in occup_tups:\n",
    "    if re.match(\"\\w+\\s\\w+\", occup_tup[0]):\n",
    "        all_morphs = [occup_tup[0].replace(str(occup_tup[2]), morph) for morph in decline(occup_tup[2], occup_tup[1])] \n",
    "    else:\n",
    "        all_morphs = decline(occup_tup[0], occup_tup[1])\n",
    "    occups_declined.append([str(occup_tup[0]), all_morphs])\n",
    "    \n",
    "organizations_declined = []\n",
    "for organ_tup in organ_tups:\n",
    "    if re.match(\"\\w+\\s\\w+\", organ_tup[0]):\n",
    "        all_morphs = [organ_tup[0].replace(str(organ_tup[2]), morph) for morph in decline(organ_tup[2], organ_tup[1])] \n",
    "    else:\n",
    "        all_morphs = decline(organ_tup[0], organ_tup[1])\n",
    "    organizations_declined.append([str(organ_tup[0]), all_morphs])"
   ]
  },
  {
   "cell_type": "code",
   "execution_count": 19,
   "metadata": {},
   "outputs": [],
   "source": [
    "occups_declined_dict = dict(occups_declined)\n",
    "organizations_declined_dict = dict(organizations_declined)"
   ]
  },
  {
   "cell_type": "code",
   "execution_count": 23,
   "metadata": {},
   "outputs": [],
   "source": [
    "with open(\"../data/occups_declined_dict.json\", \"w\") as fp:\n",
    "    json.dump(occups_declined_dict, fp, indent=4)\n",
    "    \n",
    "with open(\"../data/organizations_declined_dict.json\", \"w\") as fp:\n",
    "    json.dump(organizations_declined_dict, fp, indent=4)"
   ]
  },
  {
   "cell_type": "code",
   "execution_count": null,
   "metadata": {},
   "outputs": [],
   "source": []
  }
 ],
 "metadata": {
  "colab": {
   "authorship_tag": "ABX9TyOKWnvxv3tTbNERCRAysPtc",
   "include_colab_link": true,
   "name": "WORKING_WITH_CLEANED_TEXTS.ipynb",
   "provenance": []
  },
  "hide_input": false,
  "kernelspec": {
   "display_name": "socdiv_venv",
   "language": "python",
   "name": "socdiv_venv"
  },
  "language_info": {
   "codemirror_mode": {
    "name": "ipython",
    "version": 3
   },
   "file_extension": ".py",
   "mimetype": "text/x-python",
   "name": "python",
   "nbconvert_exporter": "python",
   "pygments_lexer": "ipython3",
   "version": "3.6.9"
  },
  "toc": {
   "base_numbering": 1,
   "nav_menu": {},
   "number_sections": true,
   "sideBar": true,
   "skip_h1_title": false,
   "title_cell": "Table of Contents",
   "title_sidebar": "Contents",
   "toc_cell": false,
   "toc_position": {},
   "toc_section_display": true,
   "toc_window_display": false
  },
  "varInspector": {
   "cols": {
    "lenName": 16,
    "lenType": 16,
    "lenVar": 40
   },
   "kernels_config": {
    "python": {
     "delete_cmd_postfix": "",
     "delete_cmd_prefix": "del ",
     "library": "var_list.py",
     "varRefreshCmd": "print(var_dic_list())"
    },
    "r": {
     "delete_cmd_postfix": ") ",
     "delete_cmd_prefix": "rm(",
     "library": "var_list.r",
     "varRefreshCmd": "cat(var_dic_list()) "
    }
   },
   "types_to_exclude": [
    "module",
    "function",
    "builtin_function_or_method",
    "instance",
    "_Feature"
   ],
   "window_display": false
  }
 },
 "nbformat": 4,
 "nbformat_minor": 1
}
