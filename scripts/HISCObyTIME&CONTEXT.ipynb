{
 "cells": [
  {
   "cell_type": "code",
   "execution_count": 12,
   "outputs": [],
   "source": [
    "import pandas as pd\n",
    "import geopandas as gpd\n",
    "import numpy as np"
   ],
   "metadata": {
    "collapsed": false,
    "pycharm": {
     "name": "#%%\n"
    }
   }
  },
  {
   "cell_type": "code",
   "execution_count": 2,
   "outputs": [
    {
     "data": {
      "text/plain": "         EDCS-ID                                        publication province  \\\n0  EDCS-03700724  ZPE-108-159 = Thesprotia 00001 = AE 1993, 0140...   Achaia   \n1  EDCS-03300852                                     AE 1995, 01409   Achaia   \n2  EDCS-28500283  CIL 03, 07251 = D 00214 = NDIEC-07, p 81 = AE ...   Achaia   \n3  EDCS-09400671  CIMRM-02, 02350 = IG-12, 00274 = Andros 00124 ...   Achaia   \n4  EDCS-24600769                    AE 1995, 01407 = AE 2001, 01812   Achaia   \n\n  province_list                                       place  \\\n0        Achaia                  Agios Athanasios / Photike   \n1        Achaia                                Alea / Tegea   \n2        Achaia                                Alea / Tegea   \n3        Achaia                                      Andros   \n4        Achaia  Archea Olimpia / Archaia Olympia / Olympia   \n\n                                         place_list end_yr_list  \\\n0                   ['Agios Athanasios', 'Photike']         313   \n1                                 ['Alea', 'Tegea']         276   \n2                                 ['Alea', 'Tegea']          50   \n3                                            Andros         209   \n4  ['Archea Olimpia', 'Archaia Olympia', 'Olympia']          96   \n\n                             notes_dating  \\\n0                                           \n1  to 276;   b:  276 to 282         \\n\\n    \n2                                           \n3                                           \n4                                           \n\n                                         status_list        inscr_type  ...  \\\n0  ['Augusti/Augustae', 'litterae erasae', 'ordo ...  tituli honorarii  ...   \n1           ['Augusti/Augustae', 'miliaria', 'viri']          miliaria  ...   \n2              ['Augusti/Augustae', 'leges', 'viri']             leges  ...   \n3                ['litterae erasae', 'tituli sacri']      tituli sacri  ...   \n4                                                { }               { }  ...   \n\n  medium_city_dist small_city_ID          small_city_geo small_city_dist  \\\n0         37687.28            31  [20.787767, 39.546432]        10725.84   \n1         23430.85            73  [22.336587, 37.462155]         7876.09   \n2         23430.85            73  [22.336587, 37.462155]         7876.09   \n3         60414.04            47   [24.34625, 37.633122]        47547.59   \n4         45272.69            35  [21.435443, 37.827452]        26125.55   \n\n  urban_context_alt occups occups_N  organizations organizations_N occups_cats  \n0             rural     []        0             []               0          []  \n1             large     []        0             []               0          []  \n2             large     []        0             []               0          []  \n3             rural     []        0             []               0          []  \n4             rural     []        0             []               0          []  \n\n[5 rows x 128 columns]",
      "text/html": "<div>\n<style scoped>\n    .dataframe tbody tr th:only-of-type {\n        vertical-align: middle;\n    }\n\n    .dataframe tbody tr th {\n        vertical-align: top;\n    }\n\n    .dataframe thead th {\n        text-align: right;\n    }\n</style>\n<table border=\"1\" class=\"dataframe\">\n  <thead>\n    <tr style=\"text-align: right;\">\n      <th></th>\n      <th>EDCS-ID</th>\n      <th>publication</th>\n      <th>province</th>\n      <th>province_list</th>\n      <th>place</th>\n      <th>place_list</th>\n      <th>end_yr_list</th>\n      <th>notes_dating</th>\n      <th>status_list</th>\n      <th>inscr_type</th>\n      <th>...</th>\n      <th>medium_city_dist</th>\n      <th>small_city_ID</th>\n      <th>small_city_geo</th>\n      <th>small_city_dist</th>\n      <th>urban_context_alt</th>\n      <th>occups</th>\n      <th>occups_N</th>\n      <th>organizations</th>\n      <th>organizations_N</th>\n      <th>occups_cats</th>\n    </tr>\n  </thead>\n  <tbody>\n    <tr>\n      <th>0</th>\n      <td>EDCS-03700724</td>\n      <td>ZPE-108-159 = Thesprotia 00001 = AE 1993, 0140...</td>\n      <td>Achaia</td>\n      <td>Achaia</td>\n      <td>Agios Athanasios / Photike</td>\n      <td>['Agios Athanasios', 'Photike']</td>\n      <td>313</td>\n      <td></td>\n      <td>['Augusti/Augustae', 'litterae erasae', 'ordo ...</td>\n      <td>tituli honorarii</td>\n      <td>...</td>\n      <td>37687.28</td>\n      <td>31</td>\n      <td>[20.787767, 39.546432]</td>\n      <td>10725.84</td>\n      <td>rural</td>\n      <td>[]</td>\n      <td>0</td>\n      <td>[]</td>\n      <td>0</td>\n      <td>[]</td>\n    </tr>\n    <tr>\n      <th>1</th>\n      <td>EDCS-03300852</td>\n      <td>AE 1995, 01409</td>\n      <td>Achaia</td>\n      <td>Achaia</td>\n      <td>Alea / Tegea</td>\n      <td>['Alea', 'Tegea']</td>\n      <td>276</td>\n      <td>to 276;   b:  276 to 282         \\n\\n</td>\n      <td>['Augusti/Augustae', 'miliaria', 'viri']</td>\n      <td>miliaria</td>\n      <td>...</td>\n      <td>23430.85</td>\n      <td>73</td>\n      <td>[22.336587, 37.462155]</td>\n      <td>7876.09</td>\n      <td>large</td>\n      <td>[]</td>\n      <td>0</td>\n      <td>[]</td>\n      <td>0</td>\n      <td>[]</td>\n    </tr>\n    <tr>\n      <th>2</th>\n      <td>EDCS-28500283</td>\n      <td>CIL 03, 07251 = D 00214 = NDIEC-07, p 81 = AE ...</td>\n      <td>Achaia</td>\n      <td>Achaia</td>\n      <td>Alea / Tegea</td>\n      <td>['Alea', 'Tegea']</td>\n      <td>50</td>\n      <td></td>\n      <td>['Augusti/Augustae', 'leges', 'viri']</td>\n      <td>leges</td>\n      <td>...</td>\n      <td>23430.85</td>\n      <td>73</td>\n      <td>[22.336587, 37.462155]</td>\n      <td>7876.09</td>\n      <td>large</td>\n      <td>[]</td>\n      <td>0</td>\n      <td>[]</td>\n      <td>0</td>\n      <td>[]</td>\n    </tr>\n    <tr>\n      <th>3</th>\n      <td>EDCS-09400671</td>\n      <td>CIMRM-02, 02350 = IG-12, 00274 = Andros 00124 ...</td>\n      <td>Achaia</td>\n      <td>Achaia</td>\n      <td>Andros</td>\n      <td>Andros</td>\n      <td>209</td>\n      <td></td>\n      <td>['litterae erasae', 'tituli sacri']</td>\n      <td>tituli sacri</td>\n      <td>...</td>\n      <td>60414.04</td>\n      <td>47</td>\n      <td>[24.34625, 37.633122]</td>\n      <td>47547.59</td>\n      <td>rural</td>\n      <td>[]</td>\n      <td>0</td>\n      <td>[]</td>\n      <td>0</td>\n      <td>[]</td>\n    </tr>\n    <tr>\n      <th>4</th>\n      <td>EDCS-24600769</td>\n      <td>AE 1995, 01407 = AE 2001, 01812</td>\n      <td>Achaia</td>\n      <td>Achaia</td>\n      <td>Archea Olimpia / Archaia Olympia / Olympia</td>\n      <td>['Archea Olimpia', 'Archaia Olympia', 'Olympia']</td>\n      <td>96</td>\n      <td></td>\n      <td>{ }</td>\n      <td>{ }</td>\n      <td>...</td>\n      <td>45272.69</td>\n      <td>35</td>\n      <td>[21.435443, 37.827452]</td>\n      <td>26125.55</td>\n      <td>rural</td>\n      <td>[]</td>\n      <td>0</td>\n      <td>[]</td>\n      <td>0</td>\n      <td>[]</td>\n    </tr>\n  </tbody>\n</table>\n<p>5 rows × 128 columns</p>\n</div>"
     },
     "execution_count": 2,
     "metadata": {},
     "output_type": "execute_result"
    }
   ],
   "source": [
    "LIRE = gpd.read_parquet(\"../data/large_data/LIRE_occupsorgs_cats.parquet\")\n",
    "LIRE.head(5)"
   ],
   "metadata": {
    "collapsed": false,
    "pycharm": {
     "name": "#%%\n"
    }
   }
  },
  {
   "cell_type": "code",
   "execution_count": 4,
   "outputs": [
    {
     "data": {
      "text/plain": "           EDCS-ID                                        publication  \\\n53   EDCS-27800728  CIL 03, 07286 (p 2316,37) = CLE 01511 = InscrA...   \n108  EDCS-32001657                               Corinth-08-03, 00156   \n109  EDCS-32001664                               Corinth-08-03, 00164   \n115  EDCS-09701686       ILGR 00094 = AE 1968, 00474 = AE 1972, 00567   \n122  EDCS-08200632  CIL 03, 00567 (p 987) = CIL 03, 07303 = CIG 01...   \n\n    province province_list                            place  \\\n53    Achaia        Achaia       Athens / Athinai / Athenae   \n108   Achaia        Achaia  Corinth / Korinthos / Corinthus   \n109   Achaia        Achaia  Corinth / Korinthos / Corinthus   \n115   Achaia        Achaia  Corinth / Korinthos / Corinthus   \n122   Achaia        Achaia                 Delphoi / Delphi   \n\n                                place_list end_yr_list notes_dating  \\\n53        ['Athens', 'Athinai', 'Athenae']         161                \n108  ['Corinth', 'Korinthos', 'Corinthus']          50                \n109  ['Corinth', 'Korinthos', 'Corinthus']         150                \n115  ['Corinth', 'Korinthos', 'Corinthus']         200                \n122                  ['Delphoi', 'Delphi']         110                \n\n                                           status_list inscr_type  ...  \\\n53   ['Augusti/Augustae', 'carmina', 'milites', 'of...    carmina  ...   \n108                                  sacerdotes pagani        { }  ...   \n109                                                { }        { }  ...   \n115                                                { }        { }  ...   \n122                                                { }        { }  ...   \n\n    medium_city_dist small_city_ID          small_city_geo small_city_dist  \\\n53          36224.02            38  [23.737382, 37.916867]         7585.86   \n108         23062.42            78  [22.548344, 38.043207]        33094.02   \n109         23062.42            78  [22.548344, 38.043207]        33094.02   \n115         23062.42            78  [22.548344, 38.043207]        33094.02   \n122         41669.39            29       [22.5, 38.483333]          684.49   \n\n    urban_context_alt      occups occups_N  organizations organizations_N  \\\n53              large     [poeta]        1             []               0   \n108             large     [faber]        1             []               0   \n109             large   [curator]        1             []               0   \n115             large   [curator]        1             []               0   \n122             small  [navigans]        1             []               0   \n\n                                           occups_cats  \n53       [Professional, technical and related workers]  \n108  [Production and related workers, transport equ...  \n109            [Administrative and managerial workers]  \n115            [Administrative and managerial workers]  \n122  [Production and related workers, transport equ...  \n\n[5 rows x 128 columns]",
      "text/html": "<div>\n<style scoped>\n    .dataframe tbody tr th:only-of-type {\n        vertical-align: middle;\n    }\n\n    .dataframe tbody tr th {\n        vertical-align: top;\n    }\n\n    .dataframe thead th {\n        text-align: right;\n    }\n</style>\n<table border=\"1\" class=\"dataframe\">\n  <thead>\n    <tr style=\"text-align: right;\">\n      <th></th>\n      <th>EDCS-ID</th>\n      <th>publication</th>\n      <th>province</th>\n      <th>province_list</th>\n      <th>place</th>\n      <th>place_list</th>\n      <th>end_yr_list</th>\n      <th>notes_dating</th>\n      <th>status_list</th>\n      <th>inscr_type</th>\n      <th>...</th>\n      <th>medium_city_dist</th>\n      <th>small_city_ID</th>\n      <th>small_city_geo</th>\n      <th>small_city_dist</th>\n      <th>urban_context_alt</th>\n      <th>occups</th>\n      <th>occups_N</th>\n      <th>organizations</th>\n      <th>organizations_N</th>\n      <th>occups_cats</th>\n    </tr>\n  </thead>\n  <tbody>\n    <tr>\n      <th>53</th>\n      <td>EDCS-27800728</td>\n      <td>CIL 03, 07286 (p 2316,37) = CLE 01511 = InscrA...</td>\n      <td>Achaia</td>\n      <td>Achaia</td>\n      <td>Athens / Athinai / Athenae</td>\n      <td>['Athens', 'Athinai', 'Athenae']</td>\n      <td>161</td>\n      <td></td>\n      <td>['Augusti/Augustae', 'carmina', 'milites', 'of...</td>\n      <td>carmina</td>\n      <td>...</td>\n      <td>36224.02</td>\n      <td>38</td>\n      <td>[23.737382, 37.916867]</td>\n      <td>7585.86</td>\n      <td>large</td>\n      <td>[poeta]</td>\n      <td>1</td>\n      <td>[]</td>\n      <td>0</td>\n      <td>[Professional, technical and related workers]</td>\n    </tr>\n    <tr>\n      <th>108</th>\n      <td>EDCS-32001657</td>\n      <td>Corinth-08-03, 00156</td>\n      <td>Achaia</td>\n      <td>Achaia</td>\n      <td>Corinth / Korinthos / Corinthus</td>\n      <td>['Corinth', 'Korinthos', 'Corinthus']</td>\n      <td>50</td>\n      <td></td>\n      <td>sacerdotes pagani</td>\n      <td>{ }</td>\n      <td>...</td>\n      <td>23062.42</td>\n      <td>78</td>\n      <td>[22.548344, 38.043207]</td>\n      <td>33094.02</td>\n      <td>large</td>\n      <td>[faber]</td>\n      <td>1</td>\n      <td>[]</td>\n      <td>0</td>\n      <td>[Production and related workers, transport equ...</td>\n    </tr>\n    <tr>\n      <th>109</th>\n      <td>EDCS-32001664</td>\n      <td>Corinth-08-03, 00164</td>\n      <td>Achaia</td>\n      <td>Achaia</td>\n      <td>Corinth / Korinthos / Corinthus</td>\n      <td>['Corinth', 'Korinthos', 'Corinthus']</td>\n      <td>150</td>\n      <td></td>\n      <td>{ }</td>\n      <td>{ }</td>\n      <td>...</td>\n      <td>23062.42</td>\n      <td>78</td>\n      <td>[22.548344, 38.043207]</td>\n      <td>33094.02</td>\n      <td>large</td>\n      <td>[curator]</td>\n      <td>1</td>\n      <td>[]</td>\n      <td>0</td>\n      <td>[Administrative and managerial workers]</td>\n    </tr>\n    <tr>\n      <th>115</th>\n      <td>EDCS-09701686</td>\n      <td>ILGR 00094 = AE 1968, 00474 = AE 1972, 00567</td>\n      <td>Achaia</td>\n      <td>Achaia</td>\n      <td>Corinth / Korinthos / Corinthus</td>\n      <td>['Corinth', 'Korinthos', 'Corinthus']</td>\n      <td>200</td>\n      <td></td>\n      <td>{ }</td>\n      <td>{ }</td>\n      <td>...</td>\n      <td>23062.42</td>\n      <td>78</td>\n      <td>[22.548344, 38.043207]</td>\n      <td>33094.02</td>\n      <td>large</td>\n      <td>[curator]</td>\n      <td>1</td>\n      <td>[]</td>\n      <td>0</td>\n      <td>[Administrative and managerial workers]</td>\n    </tr>\n    <tr>\n      <th>122</th>\n      <td>EDCS-08200632</td>\n      <td>CIL 03, 00567 (p 987) = CIL 03, 07303 = CIG 01...</td>\n      <td>Achaia</td>\n      <td>Achaia</td>\n      <td>Delphoi / Delphi</td>\n      <td>['Delphoi', 'Delphi']</td>\n      <td>110</td>\n      <td></td>\n      <td>{ }</td>\n      <td>{ }</td>\n      <td>...</td>\n      <td>41669.39</td>\n      <td>29</td>\n      <td>[22.5, 38.483333]</td>\n      <td>684.49</td>\n      <td>small</td>\n      <td>[navigans]</td>\n      <td>1</td>\n      <td>[]</td>\n      <td>0</td>\n      <td>[Production and related workers, transport equ...</td>\n    </tr>\n  </tbody>\n</table>\n<p>5 rows × 128 columns</p>\n</div>"
     },
     "execution_count": 4,
     "metadata": {},
     "output_type": "execute_result"
    }
   ],
   "source": [
    "LIRE[LIRE[\"occups_cats\"].apply(lambda x: len(x) > 0)].head(5)"
   ],
   "metadata": {
    "collapsed": false,
    "pycharm": {
     "name": "#%%\n"
    }
   }
  },
  {
   "cell_type": "code",
   "execution_count": 7,
   "outputs": [],
   "source": [
    "# generate a dictionary of occupations by type\n",
    "occupations_df = pd.read_csv(\"../data/occupations_list_hisco.csv\")\n",
    "\n",
    "def term1_plus_term2(row):\n",
    "    term1_2 = row[\"Term\"]\n",
    "    if isinstance(row[\"Term2\"], str):\n",
    "        term1_2 += \" \" + row[\"Term2\"]\n",
    "    return term1_2\n",
    "\n",
    "occupations_df[\"Term\"] = occupations_df.apply(lambda row: term1_plus_term2(row), axis=1)"
   ],
   "metadata": {
    "collapsed": false,
    "pycharm": {
     "name": "#%%\n"
    }
   }
  },
  {
   "cell_type": "code",
   "execution_count": 8,
   "outputs": [],
   "source": [
    "occups_cats_dict = dict(zip(occupations_df[\"Term\"], occupations_df[\"HISCO_majorgroup\"]))"
   ],
   "metadata": {
    "collapsed": false,
    "pycharm": {
     "name": "#%%\n"
    }
   }
  },
  {
   "cell_type": "code",
   "execution_count": 9,
   "outputs": [
    {
     "data": {
      "text/plain": "{'abetarius': 8.0,\n 'abietarius': 8.0,\n 'acceptor': 3.0,\n 'accomodator': 9.0,\n 'aceptor': 3.0,\n 'aciarius': 7.0,\n 'aciscularius': 9.0,\n 'acuarius': 8.0,\n 'acuclarius': 8.0,\n 'acucularius': 8.0,\n 'acutarius': 8.0,\n 'acutiator': 6.0,\n 'adplumbator': 7.0,\n 'adulterator': 3.0,\n 'aedifex': 0.0,\n 'aedificator': 0.0,\n 'aeneator': 1.0,\n 'aequator monetae': 3.0,\n 'aerarius': 8.0,\n 'agricola': 6.0,\n 'agrimensor': 0.0,\n 'agrimesor': 0.0,\n 'albarius': 9.0,\n 'alicarius': 6.0,\n 'allecarius': 6.0,\n 'aluminarius': 7.0,\n 'ampullarius': 8.0,\n 'anabolicarius': 9.0,\n 'anaglitarius': 1.0,\n 'anaglypharius': 1.0,\n 'anaglyptarius': 1.0,\n 'anellarius': 8.0,\n 'annellarius': 8.0,\n 'annonarius': 3.0,\n 'anularius': 8.0,\n 'apothecarius': 4.0,\n 'apparator': 9.0,\n 'applumbator': 7.0,\n 'aquarius': 9.0,\n 'aquator': 9.0,\n 'arcarius': 3.0,\n 'archimagirus': 5.0,\n 'architecton': 0.0,\n 'architectus': 0.0,\n 'arcuarius': 3.0,\n 'arcularius': 8.0,\n 'arecarius': 0.0,\n 'arenarius': 1.0,\n 'argentarius': 8.0,\n 'armamentarius': 5.0,\n 'armamintarius': 5.0,\n 'armariarius': 8.0,\n 'armilarius': 8.0,\n 'armillarius': 8.0,\n 'aromatarius': 4.0,\n 'artefex': 1.0,\n 'artifex': 1.0,\n 'asinarius': 9.0,\n 'assator': 5.0,\n 'athleta': 1.0,\n 'aulopoios': 1.0,\n 'aupiciarius': 9.0,\n 'aurarius': 7.0,\n 'aurator': 8.0,\n 'auricaesor': 8.0,\n 'auricoctor': 7.0,\n 'aurifaber': 8.0,\n 'aurifex': 8.0,\n 'aurificus': 8.0,\n 'aurifossor': 7.0,\n 'aurufex': 8.0,\n 'automatarius': 9.0,\n 'axearius': 8.0,\n 'baiulius': 9.0,\n 'ballistarius': 0.0,\n 'ballistrarius': 0.0,\n 'baltearius': 8.0,\n 'barbaricarius': 7.0,\n 'barbaricas': 7.0,\n 'bastagarius': 8.0,\n 'baxearius': 8.0,\n 'baxiarius': 8.0,\n 'biroigallus': nan,\n 'blattiarius': 7.0,\n 'boarius': 6.0,\n 'botularius': 5.0,\n 'bracarius': 7.0,\n 'braccarius': 7.0,\n 'bractearius': 8.0,\n 'bracteator': 8.0,\n 'brattearius': 8.0,\n 'brattiarius': 8.0,\n 'bucaeda': 5.0,\n 'buccularius': 8.0,\n 'bucida': 5.0,\n 'budinarius': 8.0,\n 'burrarius': 9.0,\n 'bustuarius': 5.0,\n 'cabator': 8.0,\n 'cabidarius': 8.0,\n 'caelator': 1.0,\n 'caementarius': 9.0,\n 'caesor': 9.0,\n 'calcarensis': 7.0,\n 'calcariensis': 7.0,\n 'calcarius': 7.0,\n 'calcearius': 7.0,\n 'calceator': 8.0,\n 'calceolarius': 8.0,\n 'calciamentarius': 8.0,\n 'calciator': 8.0,\n 'calcis coctor': 7.0,\n 'calegarius': 8.0,\n 'caligarius': 8.0,\n 'camararius': 9.0,\n 'camarius': 9.0,\n 'canalicularius': 9.0,\n 'candelabrarius': 8.0,\n 'candidarius': 5.0,\n 'candidator': 7.0,\n 'canephorus': 9.0,\n 'capidarius': 8.0,\n 'capistrarius': 8.0,\n 'caplator': 9.0,\n 'capsarius': 0.0,\n 'capulator': 5.0,\n 'carbonarius': 7.0,\n 'carbonarus': 7.0,\n 'carinarius': 7.0,\n 'caritor': 7.0,\n 'carminator': 7.0,\n 'carnarius': 5.0,\n 'carpentarius': 9.0,\n 'carrarius': 9.0,\n 'carrocarpentarius': 9.0,\n 'cartharius': 9.0,\n 'cassidarius': 8.0,\n 'catabolensis': 9.0,\n 'caudicarius': 9.0,\n 'caupo': 4.0,\n 'cauponarius': 5.0,\n 'cavator': 8.0,\n 'cavidarius': 8.0,\n 'cellararius': 5.0,\n 'cellariarius': 5.0,\n 'cellaricarius': 5.0,\n 'cellarius': 5.0,\n 'cellio': 5.0,\n 'cementarius': 9.0,\n 'centonarius': 7.0,\n 'cerarius': 7.0,\n 'cerdo': 9.0,\n 'cerearius': 5.0,\n 'ceriolarius': 7.0,\n 'ceromatita': 5.0,\n 'cervesarius': 5.0,\n 'cesor': 9.0,\n 'characteraria': 9.0,\n 'chartarius': 9.0,\n 'chorographarius': 0.0,\n 'chorographus': 0.0,\n 'ciliciarius': 7.0,\n 'circitor': 2.0,\n 'circumitor': 2.0,\n 'cisianus': 9.0,\n 'cisiarius': 9.0,\n 'citrarius': 8.0,\n 'citratius': 4.0,\n 'claharus': 8.0,\n 'clastrarius': 8.0,\n 'claustrarius': 8.0,\n 'clavarius': 8.0,\n 'clavicarius': 8.0,\n 'claviclarius': 8.0,\n 'clavicularius': 8.0,\n 'clepsydrarius': 9.0,\n 'clibanarius': 5.0,\n 'cloacarius': 9.0,\n 'clostrarius': 8.0,\n 'clusor': 9.0,\n 'coactarius': 7.0,\n 'coactiliarius': 7.0,\n 'coactor': 7.0,\n 'coator': 7.0,\n 'coctarius': 5.0,\n 'coctiliarius': 9.0,\n 'coctor': 5.0,\n 'coctuarius': 5.0,\n 'cocus': 5.0,\n 'codicarius': 9.0,\n 'collectiarius': 3.0,\n 'colorator': 7.0,\n 'columnarius': 9.0,\n 'conchylegulus': 7.0,\n 'conchyliarius': 7.0,\n 'conchyliolegulus': 7.0,\n 'condeatis': 0.0,\n 'conditarius': 5.0,\n 'conditor': 5.0,\n 'confector': 7.0,\n 'confectorarius': 5.0,\n 'confectuarius': 5.0,\n 'conflator': 8.0,\n 'conquiliarius': 7.0,\n 'consutor': 8.0,\n 'copiata': 5.0,\n 'copo': 5.0,\n 'coquus': 5.0,\n 'corarianus': 7.0,\n 'corarius': 7.0,\n 'coriarius': 7.0,\n 'cornicen': 1.0,\n 'cornuarius': 9.0,\n 'coronarius': 8.0,\n 'cotiarius': 8.0,\n 'crepidarius': 8.0,\n 'cretaria': 4.0,\n 'cretarius': 4.0,\n 'cribrarius': 9.0,\n 'crocotarius': 7.0,\n 'crustarius': 1.0,\n 'crustularius': 5.0,\n 'cucullarius': 7.0,\n 'culcitarius': 7.0,\n 'culinarius': 5.0,\n 'cullearius': 8.0,\n 'cultellarius': 8.0,\n 'cultrarius': 8.0,\n 'cunaria': 5.0,\n 'cunarius': 5.0,\n 'cunicularius': 0.0,\n 'cuniculator': 0.0,\n 'cuparius': 8.0,\n 'cuppedinarius': 5.0,\n 'curator': 2.0,\n 'curator navium': 2.0,\n 'custodiarius': 5.0,\n 'dactilidiogliphus': 1.0,\n 'dealbator': 9.0,\n 'deaurator': 8.0,\n 'decanus': 2.0,\n 'decempedator': 0.0,\n 'dendrophorus': 9.0,\n 'diabathrarius': 8.0,\n 'diatretarius': 1.0,\n 'diffusitrix': 4.0,\n 'diffusor': 4.0,\n 'diffusor oleari': 4.0,\n 'dissignator': 2.0,\n 'dogarius': 8.0,\n 'dolabrarius': 8.0,\n 'dolator': 9.0,\n 'dolearius': 8.0,\n 'doliarius': 8.0,\n 'dominus navium': 0.0,\n 'domnicomontanus': nan,\n 'dulciarius': 5.0,\n 'eborarius': 8.0,\n 'eburarius': 8.0,\n 'embaenitarius': nan,\n 'emplastrator': 9.0,\n 'emporus': 4.0,\n 'ephippiarius': 8.0,\n 'epippiarius': 8.0,\n 'erarius': 8.0,\n 'essedarius': 5.0,\n 'exactor auri argenti et aeris': 3.0,\n 'exceptor': 3.0,\n 'exclussor': 8.0,\n 'excusor': 8.0,\n 'exemptor': 8.0,\n 'exonerator': 9.0,\n 'extructor': 0.0,\n 'faber': 9.0,\n 'faber aciarius': 7.0,\n 'faber aerarius': 8.0,\n 'faber anularius': 8.0,\n 'faber argentarius': 8.0,\n 'faber carpentarius': 9.0,\n 'faber centonarius': 7.0,\n 'faber dolabrarius': 8.0,\n 'faber ferrarius': 8.0,\n 'faber intestinarius': 9.0,\n 'faber lapidarius': 7.0,\n 'faber lectarius': 8.0,\n 'faber limarius': 8.0,\n 'faber navalis': 9.0,\n 'faber ocularius': 0.0,\n 'faber soliarius': 8.0,\n 'faber soliarius baxiarius': 8.0,\n 'faber subaedianus': nan,\n 'faber tignarius': 0.0,\n 'faber tignuarius': 0.0,\n 'faber vascularius': 8.0,\n 'fabricator': 9.0,\n 'fabricensis': 8.0,\n 'fabriciensis': 8.0,\n 'fabriciensius': 8.0,\n 'fabriciesis': 8.0,\n 'factor': 6.0,\n 'faenarius': 3.0,\n 'falancarius': 9.0,\n 'falcarius': 8.0,\n 'farmacopola': 0.0,\n 'ferramentarius': 8.0,\n 'ferrariarius': 7.0,\n 'ferrarius': 8.0,\n 'ferrius': 8.0,\n 'fictiliarius': 8.0,\n 'fictor': 1.0,\n 'fidicinus': 1.0,\n 'figelus': 8.0,\n 'figlinator': 8.0,\n 'figlus': 8.0,\n 'figularius': 8.0,\n 'figulator': 8.0,\n 'figulus': 8.0,\n 'figurator': 1.0,\n 'finctor': 1.0,\n 'flammarius': 7.0,\n 'flammearius': 7.0,\n 'flator': 8.0,\n 'flaturarius': 8.0,\n 'florentinarius': nan,\n 'focarius': 5.0,\n 'fontanus': 9.0,\n 'forensis': 2.0,\n 'fornacator': 9.0,\n 'fosor': 9.0,\n 'fossor': 9.0,\n 'frenarius': 8.0,\n 'frixor': 5.0,\n 'fructuarius': 5.0,\n 'frumentarius': 4.0,\n 'frygio': 8.0,\n 'fullo': 7.0,\n 'funerarius': 5.0,\n 'funerator': 5.0,\n 'furnaria': 5.0,\n 'furnarius': 5.0,\n 'fusor': 7.0,\n 'gallicarius': 8.0,\n 'gallinarius': 6.0,\n 'gaunacarius': 7.0,\n 'gelator': 1.0,\n 'gemmarius': 1.0,\n 'gerdius': 7.0,\n 'gerulus': 9.0,\n 'gisiarius': 9.0,\n 'gladiarius': 8.0,\n 'gladiator': 1.0,\n 'glutinarius': 7.0,\n 'glutinator': 7.0,\n 'grabatarius': 8.0,\n 'gupsarius': 9.0,\n 'gynaeciarius': 2.0,\n 'gypsarius': 9.0,\n 'gypsoplastes': 9.0,\n 'harenarius': 1.0,\n 'harundinarius': 4.0,\n 'hastifer': 5.0,\n 'hilitor': 6.0,\n 'holitor': 6.0,\n 'horologarius': 9.0,\n 'horrearius': 2.0,\n 'hortolanus': 5.0,\n 'hortulanus': 5.0,\n 'imaginarius': 1.0,\n 'impiliarius': 8.0,\n 'inaurator': 8.0,\n 'inclusor auri et gemmarum': 8.0,\n 'indusiarius': 7.0,\n 'infector': 7.0,\n 'inpaestator': 1.0,\n 'inpiliarius': 8.0,\n 'inscriptor': 3.0,\n 'insignarius': 1.0,\n 'insignitor': 1.0,\n 'institor': 4.0,\n 'instructor': 9.0,\n 'instructor parietum': 9.0,\n 'interrasor': 1.0,\n 'intestinarius': 8.0,\n 'intestinus': 8.0,\n 'inundatoris': nan,\n 'isicarius': 5.0,\n 'ispeclararia': 8.0,\n 'iumentarius': 9.0,\n 'jumentarius': 9.0,\n 'lactarius': 5.0,\n 'lactearius': 5.0,\n 'lacunarius': 5.0,\n 'lagoenaria': 8.0,\n 'lagunaria': 8.0,\n 'lanarius': 7.0,\n 'laniarius': 5.0,\n 'lanifex': 7.0,\n 'lanifica': 7.0,\n 'lanificus': 7.0,\n 'lanifricarius': 7.0,\n 'lanilotor': 7.0,\n 'lanio': 7.0,\n 'lanionus': 7.0,\n 'lanipendia': 7.0,\n 'lanipendius': 7.0,\n 'lanius': 7.0,\n 'lanternarius': 8.0,\n 'lapedarius': 8.0,\n 'lapicida': 7.0,\n 'lapicidinarius': 7.0,\n 'lapidarius': 7.0,\n 'lapidecesor': 7.0,\n 'lapidicaesor': 7.0,\n 'lapidicida': 7.0,\n 'laquearius': 9.0,\n 'laterarius': 8.0,\n 'latomus': 9.0,\n 'lavator': 7.0,\n 'lectarius': 8.0,\n 'lecticarius': 5.0,\n 'lectuarius': 8.0,\n 'legulus': 6.0,\n 'lenuncularius': 9.0,\n 'levamentarius': 9.0,\n 'libarius': 5.0,\n 'libitinarius': 5.0,\n 'librator': 0.0,\n 'lignarius': 9.0,\n 'limarius': 8.0,\n 'limbularius': 7.0,\n 'linarius': 7.0,\n 'lintarius': 7.0,\n 'lintearius': 9.0,\n 'linteator': 7.0,\n 'linteo': 7.0,\n 'lintiarius': 7.0,\n 'lintio': 7.0,\n 'lintrarius': 9.0,\n 'linyfarius': 7.0,\n 'linyfio': 7.0,\n 'linyfus': 7.0,\n 'linypharius': 7.0,\n 'linyphus': 7.0,\n 'lithotomos': 9.0,\n 'liticinus': 1.0,\n 'loclarius': 5.0,\n 'locularius': 5.0,\n 'lorarius': 8.0,\n 'loricarius': 8.0,\n 'lotor': 7.0,\n 'lotorus': 7.0,\n 'lucernarius': 9.0,\n 'lupinarius': 4.0,\n 'lusorius': 1.0,\n 'lyntrarius': 9.0,\n 'macellarius': 7.0,\n 'machinarius': 9.0,\n 'machinator': 0.0,\n 'machio': 9.0,\n 'magira': 5.0,\n 'magnarius': 4.0,\n 'malleator': 8.0,\n 'malliator': 8.0,\n 'manceps salinarum': 2.0,\n 'manceps thermarum': 2.0,\n 'manciparius': 4.0,\n 'manicarius': 8.0,\n 'manticularius': 7.0,\n 'manulearius': 7.0,\n 'manupretiarius': 9.0,\n 'margaritarius': 4.0,\n 'marmarius': 9.0,\n 'marmorarienses': 9.0,\n 'marmorarius': 9.0,\n 'massarius': 8.0,\n 'materiarius': 9.0,\n 'medicamentarius': 0.0,\n 'medicator': 0.0,\n 'medicus': 0.0,\n 'membranarius': 7.0,\n 'mensor': 0.0,\n 'mercator': 4.0,\n 'mesor': 0.0,\n 'metallarius': 7.0,\n 'metallicus': 7.0,\n 'metator': 0.0,\n 'mimus': 1.0,\n 'miniarius': 7.0,\n 'molator': 6.0,\n 'molendarius': 6.0,\n 'molendinarius': 6.0,\n 'molinarius': 6.0,\n 'molitor': 6.0,\n 'molochinarius': 7.0,\n 'molocinarius': 7.0,\n 'monetarius': 3.0,\n 'montanarius': 5.0,\n 'moritex': nan,\n 'mulionus': 9.0,\n 'multiciarius': 7.0,\n 'murilegulus': 7.0,\n 'murobatharius': 4.0,\n 'musaearius': 1.0,\n 'musarius': 1.0,\n 'museiarius': 1.0,\n 'musivarius': nan,\n 'myrepsicus': 9.0,\n 'myrrepsius': 9.0,\n 'nauclerus': 0.0,\n 'nauicularius': 0.0,\n 'naupegiarius': 9.0,\n 'naupegus': 9.0,\n 'nauta': 9.0,\n 'nauticarius': 0.0,\n 'navalis': 9.0,\n 'navicularius': 0.0,\n 'navigans': 9.0,\n 'navigator': 9.0,\n 'navigiarius': 9.0,\n 'negotians ferrarius': 4.0,\n 'negotians materiarius': 4.0,\n 'negotians': 4.0,\n 'negotiator allecarius': 4.0,\n 'negotiator boarius': 4.0,\n 'negotiator cervesarius': 4.0,\n 'negotiator cretarius': 4.0,\n 'negotiator eborarius': 4.0,\n 'negotiator ferrarius': 4.0,\n 'negotiator frumentarius': 4.0,\n 'negotiator gladiarius': 4.0,\n 'negotiator lanarius': 4.0,\n 'negotiator lintiarius': 4.0,\n 'negotiator manticularius': 4.0,\n 'negotiator margaritarius': 4.0,\n 'negotiator marmorarius': 4.0,\n 'negotiator materiarius': 4.0,\n 'negotiator nummularius': 4.0,\n 'negotiator olearius': 4.0,\n 'negotiator paenularius': 4.0,\n 'negotiator sagarius et pellicarius': 4.0,\n 'negotiator sagarius': 4.0,\n 'negotiator salarius': 4.0,\n 'negotiator salsamentarius et vinarius': 4.0,\n 'negotiator salsarius': 4.0,\n 'negotiator sericarius': 4.0,\n 'negotiator vascularius': 4.0,\n 'negotiator vestiarius': 4.0,\n 'negotiator vinarius': 4.0,\n 'negotiator': 4.0,\n 'negotiator artis cretaria': 4.0,\n 'negotiator artis cretaria et vestiaria': 4.0,\n 'negotiator artis macellariae': 4.0,\n 'negotiator artis prossariae': 4.0,\n 'negotiator artis purpurariae': 4.0,\n 'negotiator artis ratiariae': 4.0,\n 'negotiator artis vestiariae': 4.0,\n 'negotiator artis vestiariae et lintiariae': 4.0,\n 'negotiator campi pecuarii': 4.0,\n 'negotiator cellarum vinarium': 4.0,\n 'negotiator frumentariae et legumenaria': 4.0,\n 'negotiator iuvencario': 4.0,\n 'negotiator laudecenarii': 4.0,\n 'negotiator penoris et vinorum': 4.0,\n 'negotiator perticario': 4.0,\n 'negotiator salsari leguminari': 4.0,\n 'negotiator seplasiario': 4.0,\n 'negotiator suariae et pecuariae': 4.0,\n 'negotiator vini': 4.0,\n 'netrix': 8.0,\n 'nitionus': 6.0,\n 'nummularius': 3.0,\n 'numularius': 3.0,\n 'oculariarius': 1.0,\n 'ocularius': 0.0,\n 'offarius': 5.0,\n 'offector': 7.0,\n 'offectorus': 7.0,\n 'officinator': 5.0,\n 'officinatrix': 5.0,\n 'olarius': 8.0,\n 'oleareus': 6.0,\n 'olearius': 6.0,\n 'olitor': 6.0,\n 'ollarius': 8.0,\n 'operarius': 9.0,\n 'opifex': 0.0,\n 'orchestopolarius': 1.0,\n 'ornator': 5.0,\n 'ornatrix': 5.0,\n 'paenularius': 7.0,\n 'palangarius': 5.0,\n 'palariacus': nan,\n 'panarius': 4.0,\n 'panchrestiarius': 5.0,\n 'pancrestarius': 5.0,\n 'panifex': 5.0,\n 'panificus': 5.0,\n 'pantapolus': 4.0,\n 'pantomimus': 1.0,\n 'parabolanus': 0.0,\n 'paracharactes': 3.0,\n 'parasitus': 1.0,\n 'parietarius': 1.0,\n 'parmaluraius': 8.0,\n 'pastilarius': 5.0,\n 'pastillarius': 5.0,\n 'patagiarius': 7.0,\n 'pausarius': 3.0,\n 'pavimentarius': 9.0,\n 'pectenarius': 8.0,\n 'pectinarius': 8.0,\n 'pectinator': 8.0,\n 'pecuarius': 6.0,\n 'pellarius': 7.0,\n 'pellio': 7.0,\n 'pellionarius': 7.0,\n 'peponarius': 4.0,\n 'pequarius': 6.0,\n 'perfector': nan,\n 'pernarius': 4.0,\n 'perpendiculator': 9.0,\n 'personarius': 8.0,\n 'pharmacopola': 4.0,\n 'phrygio': 8.0,\n 'picarius': 7.0,\n 'pictor': 1.0,\n 'pigmentarius': 4.0,\n 'pincerna': 5.0,\n 'pinctor': 1.0,\n 'piscator': 6.0,\n 'piscicapus': 6.0,\n 'pisticarius': 5.0,\n 'pistor': 6.0,\n 'pistrinarius': 6.0,\n 'pistrix': 5.0,\n 'pistur': 6.0,\n 'placentarius': 5.0,\n 'plasta': 1.0,\n 'plastes': 1.0,\n 'plasticator': 1.0,\n 'plasticus': 1.0,\n 'plaustrarius': 9.0,\n 'plicatrix': 7.0,\n 'plombarius': 8.0,\n 'plostrarius': 9.0,\n 'plumarius': 7.0,\n 'plumbarius': 8.0,\n 'plutearius': 9.0,\n 'plutiarius': 9.0,\n 'poeta': 1.0,\n 'polio': 5.0,\n 'politor': 5.0,\n 'pollictor': 5.0,\n 'pollinctor': 5.0,\n 'pollio': 5.0,\n 'polymitarius': 7.0,\n 'pomarius': 4.0,\n 'popinarius': 5.0,\n 'popinator': 5.0,\n 'porcinarius': 6.0,\n 'possessor': 2.0,\n 'professor': 1.0,\n 'promus': 5.0,\n 'propola': 4.0,\n 'prosmonus': nan,\n 'prossaria': 7.0,\n 'psaltes': 1.0,\n 'psecas': 5.0,\n 'pugillariarius': 7.0,\n 'purpurarius': 7.0,\n 'putearius': 9.0,\n 'quadratarius': 9.0,\n 'quadratatorius': 9.0,\n 'quadrigularius': 1.0,\n 'quasillaria': 7.0,\n 'raedarius': 3.0,\n 'ratiarius': 9.0,\n 'redemptor': 5.0,\n 'refector pectinarius': 8.0,\n 'resinaria': 7.0,\n 'restiarius': 4.0,\n 'resticularius': 4.0,\n 'restio': 4.0,\n 'retiarius': 1.0,\n 'retifex': 7.0,\n 'rhedarius': 3.0,\n 'rhypararographus': 1.0,\n 'rosarius': 4.0,\n 'saburrarius': 9.0,\n 'sacarius': 9.0,\n 'saccarius': 9.0,\n 'sacomarius': 8.0,\n 'sagarius': 4.0,\n 'sagittarius': 8.0,\n 'sagmarius': 8.0,\n 'salarius': 4.0,\n 'salgamarius': 4.0,\n 'salinator': 4.0,\n 'salsamentarius': 4.0,\n 'salsarius': 6.0,\n 'samiarius': 5.0,\n 'samiator': 5.0,\n 'sandaliarius': 8.0,\n 'sandapilarius': 5.0,\n 'saponarius': 7.0,\n 'sarcinator': 7.0,\n 'sarcinatrix': 7.0,\n 'sarcitor': 7.0,\n 'sarsor': 6.0,\n 'sartcitrix': 7.0,\n 'sartor': 6.0,\n 'sartrix': 6.0,\n 'sartur': 6.0,\n 'scabillarius': 9.0,\n 'scaenarius': 1.0,\n 'scaenaticus': 1.0,\n 'scaenicus': 1.0,\n 'scalarius': 9.0,\n 'scalptor': 1.0,\n 'scamillarius': 9.0,\n 'scandularius': 9.0,\n 'scapharius': 0.0,\n 'scaurarius': 7.0,\n 'scholasticus': 1.0,\n 'scissor': 8.0,\n 'scordiscarius': 8.0,\n 'scriba': 3.0,\n 'scriblitarius': 5.0,\n 'scriptor': 3.0,\n 'sculptor': 1.0,\n 'scultor': 1.0,\n 'scutarius': 8.0,\n 'scutularius': 8.0,\n 'sector': 8.0,\n 'securicularius': 8.0,\n 'segmentarius': 8.0,\n 'sellularius': 8.0,\n 'seplasiarius': 9.0,\n 'sericarius': 7.0,\n 'serrarius': 8.0,\n 'sessoriarius': 8.0,\n 'sigillariarius': 8.0,\n 'sigillarius': 8.0,\n 'sigillator': 8.0,\n 'signarius': 1.0,\n 'signator': 3.0,\n 'silicarius': 9.0,\n 'siliginarius': 5.0,\n 'silvicaedus': 8.0,\n 'similaginarius': 5.0,\n 'simpulariarius': 8.0,\n 'sindiniacus': 7.0,\n 'sindoniacus': 7.0,\n 'sintoniacus': 7.0,\n 'siricaria': 7.0,\n 'siricarius': 7.0,\n 'solatarius': 8.0,\n 'solearius': 8.0,\n 'soliarius': 8.0,\n 'sonarius': 7.0,\n 'spadicarius': 7.0,\n 'spatharius': 8.0,\n 'speclariarius': 8.0,\n 'speclarius': 8.0,\n 'speculariarius': 8.0,\n 'specularius': 8.0,\n 'sructor': 9.0,\n 'stagnarius': 8.0,\n 'stagnator': 7.0,\n 'stannator': 7.0,\n 'statuarius': 1.0,\n 'strophiarius': 1.0,\n 'structor': 9.0,\n 'stuppator': 8.0,\n 'stuppatorius': 4.0,\n 'suarius': 6.0,\n 'subactarius': 7.0,\n 'subaedanus': 5.0,\n 'subaedianus': 9.0,\n 'subaedius': 5.0,\n 'subedius': 5.0,\n 'subidianus': 9.0,\n 'subonatris': 5.0,\n 'subrutor': 9.0,\n 'suffossor': 7.0,\n 'suppostor': 3.0,\n 'susceptor': 9.0,\n 'sutor': 8.0,\n 'sutriballus': 8.0,\n 'symphonicus': 1.0,\n 'tabernaclarius': 7.0,\n 'tabernacularius': 7.0,\n 'tabernarius': 4.0,\n 'tector': 9.0,\n 'tegetarius': 7.0,\n 'tegularius': 9.0,\n 'tellionarius': 8.0,\n 'tentorarius': 7.0,\n 'tentorius': 7.0,\n 'tessalarius': 1.0,\n 'tesselator': 1.0,\n 'tessellarius': 1.0,\n 'tesserarius lignarius': 8.0,\n 'testarius': 9.0,\n 'textor': 7.0,\n 'textricula': 7.0,\n 'textrix': 7.0,\n 'tibiarius': 9.0,\n 'tibicinus': 1.0,\n 'ticnarius': 9.0,\n 'tignarius': 9.0,\n 'tignor': 9.0,\n 'tignoserrarius': 8.0,\n 'tignuarius': 9.0,\n 'tinctor': 7.0,\n 'tomacularius': 7.0,\n 'tonsillaria': 5.0,\n 'tonsor': 5.0,\n 'tonstricula': 5.0,\n 'tonstrix': 5.0,\n 'topiarius': 5.0,\n 'torcularius': 5.0,\n 'toreuta': 1.0,\n 'toreutes': 1.0,\n 'toreuticesis': 8.0,\n 'tornator': 9.0,\n 'tosillaria': 5.0,\n 'tosor': 5.0,\n 'tostrix': 5.0,\n 'tractator': 0.0,\n 'transvectuarius': 0.0,\n 'trapezita': 3.0,\n 'tribor argentarius': 8.0,\n 'trigalianus': nan,\n 'triliciarius': 7.0,\n 'tubarius': 8.0,\n 'tubularius': 8.0,\n 'tudiator': 7.0,\n 'tussor': 5.0,\n 'uctor': 5.0,\n 'unctor': 5.0,\n 'unctrix': 5.0,\n 'ungnetarius': 5.0,\n 'unguentarius': 5.0,\n 'urinator': 6.0,\n 'ursarus': 6.0,\n 'ustor': 5.0,\n 'utriclarius': 0.0,\n 'utricularius': 0.0,\n 'valvarius': 8.0,\n 'varietarius': 0.0,\n 'vasarius': 8.0,\n 'vasclarius': 8.0,\n 'vascularius': 8.0,\n 'vector': 9.0,\n 'vecturarius': 3.0,\n 'vehicularius': 9.0,\n 'venator': 6.0,\n 'vespillo': 5.0,\n 'vestiarius': 4.0,\n 'vestifex': 7.0,\n 'vestificus': 7.0,\n 'vestiplex': 7.0,\n 'vestiplicus': 7.0,\n 'vestitor': 7.0,\n 'vestrix': 8.0,\n 'veteramentarius': 8.0,\n 'veterarius': 9.0,\n 'vexillarius': 8.0,\n 'vietor': 8.0,\n 'viminarius': 8.0,\n 'vinariarius': 4.0,\n 'vinarius': 4.0,\n 'violarius': 7.0,\n 'viridarius': 5.0,\n 'vispillo': 5.0,\n 'vitor': 8.0,\n 'vitrarius': 8.0,\n 'vitrearius': 8.0,\n 'vitriarius': 8.0,\n 'zonarius': 7.0,\n 'pellicarius': 4.0}"
     },
     "execution_count": 9,
     "metadata": {},
     "output_type": "execute_result"
    }
   ],
   "source": [
    "occups_cats_dict"
   ],
   "metadata": {
    "collapsed": false,
    "pycharm": {
     "name": "#%%\n"
    }
   }
  },
  {
   "cell_type": "code",
   "execution_count": 10,
   "outputs": [],
   "source": [
    "def cat_for_occup(list_of_occups):\n",
    "    try:\n",
    "        return [occups_cats_dict[occup] for occup in list_of_occups]\n",
    "    except:\n",
    "        return []\n",
    "LIRE[\"occups\"] = LIRE[\"occups\"].apply(list)\n",
    "LIRE[\"occups_cats_hisco\"] = LIRE[\"occups\"].apply(cat_for_occup)"
   ],
   "metadata": {
    "collapsed": false,
    "pycharm": {
     "name": "#%%\n"
    }
   }
  },
  {
   "cell_type": "code",
   "execution_count": 36,
   "outputs": [
    {
     "data": {
      "text/plain": "4.691717791411043"
     },
     "execution_count": 36,
     "metadata": {},
     "output_type": "execute_result"
    }
   ],
   "source": [
    "# what is the mean HISCO value over the dataset as a whole?\n",
    "np.mean([el for sublist in LIRE[\"occups_cats_hisco\"].tolist() for el in sublist if el >= 0])"
   ],
   "metadata": {
    "collapsed": false,
    "pycharm": {
     "name": "#%%\n"
    }
   }
  },
  {
   "cell_type": "code",
   "execution_count": 40,
   "outputs": [],
   "source": [
    "def get_mean_hisco(df):\n",
    "    hisco_values_list = [el for sublist in df[\"occups_cats_hisco\"].tolist() for el in sublist if el >= 0]\n",
    "    hisco_desc_dict = {\"mean\" : np.mean(hisco_values_list), \"median\" : np.median(hisco_values_list), \"std\" : np.std(hisco_values_list)}\n",
    "    return hisco_desc_dict"
   ],
   "metadata": {
    "collapsed": false,
    "pycharm": {
     "name": "#%%\n"
    }
   }
  },
  {
   "cell_type": "code",
   "execution_count": 41,
   "outputs": [
    {
     "data": {
      "text/plain": "{'mean': 4.691717791411043, 'median': 4.0, 'std': 3.151476252594181}"
     },
     "execution_count": 41,
     "metadata": {},
     "output_type": "execute_result"
    }
   ],
   "source": [
    "get_mean_hisco(LIRE)"
   ],
   "metadata": {
    "collapsed": false,
    "pycharm": {
     "name": "#%%\n"
    }
   }
  },
  {
   "cell_type": "code",
   "execution_count": 42,
   "outputs": [
    {
     "data": {
      "text/plain": "{'mean': 4.28437654016757, 'median': 4.0, 'std': 2.98318887073939}"
     },
     "execution_count": 42,
     "metadata": {},
     "output_type": "execute_result"
    }
   ],
   "source": [
    "get_mean_hisco(LIRE[LIRE[\"urban_context_alt\"]==\"large\"])"
   ],
   "metadata": {
    "collapsed": false,
    "pycharm": {
     "name": "#%%\n"
    }
   }
  },
  {
   "cell_type": "code",
   "execution_count": 43,
   "outputs": [
    {
     "data": {
      "text/plain": "{'mean': 4.739984289080911, 'median': 4.0, 'std': 3.147204747338485}"
     },
     "execution_count": 43,
     "metadata": {},
     "output_type": "execute_result"
    }
   ],
   "source": [
    "get_mean_hisco(LIRE[LIRE[\"urban_context_alt\"]==\"medium\"])"
   ],
   "metadata": {
    "collapsed": false,
    "pycharm": {
     "name": "#%%\n"
    }
   }
  },
  {
   "cell_type": "code",
   "execution_count": 44,
   "outputs": [
    {
     "data": {
      "text/plain": "{'mean': 4.925988225399496, 'median': 4.0, 'std': 3.307036482651884}"
     },
     "execution_count": 44,
     "metadata": {},
     "output_type": "execute_result"
    }
   ],
   "source": [
    "get_mean_hisco(LIRE[LIRE[\"urban_context_alt\"]==\"small\"])"
   ],
   "metadata": {
    "collapsed": false,
    "pycharm": {
     "name": "#%%\n"
    }
   }
  },
  {
   "cell_type": "code",
   "execution_count": 45,
   "outputs": [
    {
     "data": {
      "text/plain": "{'mean': 5.362758620689656, 'median': 7.0, 'std': 3.195599233160724}"
     },
     "execution_count": 45,
     "metadata": {},
     "output_type": "execute_result"
    }
   ],
   "source": [
    "get_mean_hisco(LIRE[LIRE[\"urban_context_alt\"]==\"rural\"])"
   ],
   "metadata": {
    "collapsed": false,
    "pycharm": {
     "name": "#%%\n"
    }
   }
  },
  {
   "cell_type": "code",
   "execution_count": null,
   "outputs": [],
   "source": [],
   "metadata": {
    "collapsed": false,
    "pycharm": {
     "name": "#%%\n"
    }
   }
  }
 ],
 "metadata": {
  "kernelspec": {
   "display_name": "Python 3",
   "language": "python",
   "name": "python3"
  },
  "language_info": {
   "codemirror_mode": {
    "name": "ipython",
    "version": 2
   },
   "file_extension": ".py",
   "mimetype": "text/x-python",
   "name": "python",
   "nbconvert_exporter": "python",
   "pygments_lexer": "ipython2",
   "version": "2.7.6"
  }
 },
 "nbformat": 4,
 "nbformat_minor": 0
}