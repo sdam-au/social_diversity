{
 "cells": [
  {
   "cell_type": "code",
   "execution_count": 1,
   "metadata": {
    "collapsed": true
   },
   "outputs": [],
   "source": [
    "import pandas as pd\n",
    "import geopandas as gpd\n",
    "\n",
    "import matplotlib.pyplot as plt\n",
    "\n",
    "import sddk"
   ]
  },
  {
   "cell_type": "code",
   "execution_count": 2,
   "outputs": [
    {
     "name": "stdout",
     "output_type": "stream",
     "text": [
      "connection with shared folder established with you as its owner\n",
      "endpoint variable has been configured to: https://sciencedata.dk/files/SDAM_root/\n"
     ]
    }
   ],
   "source": [
    "s = sddk.cloudSession(\"sciencedata.dk\", \"SDAM_root\", \"648597@au.dk\")\n",
    "figpath = \"SDAM_data/social_diversity/socdiv_figures/\"\n",
    "\n",
    "# global parameters for plots\n",
    "plt.style.use(\"seaborn-white\")\n",
    "plt.rcParams['figure.dpi'] = 300\n",
    "plt.rcParams[\"font.family\"] = \"sans-serif\"\n",
    "plt.rcParams['font.size'] = 8\n",
    "\n",
    "def save_figure(fig, fig_name):\n",
    "    #each figure to be saved in four different versions\n",
    "    fig.savefig(\"../figures/\" + fig_name + \".eps\", format=\"eps\")\n",
    "    fig.savefig(\"../figures/\" + fig_name + \".png\")\n",
    "    s.write_file(figpath + fig_name + \".eps\", fig)\n",
    "    s.write_file(figpath + fig_name + \".png\", fig)"
   ],
   "metadata": {
    "collapsed": false,
    "pycharm": {
     "name": "#%%\n"
    }
   }
  },
  {
   "cell_type": "code",
   "execution_count": 3,
   "outputs": [],
   "source": [
    "roman_cities = gpd.read_file(\"../data/roman_cities_pop.geojson\")"
   ],
   "metadata": {
    "collapsed": false,
    "pycharm": {
     "name": "#%%\n"
    }
   }
  },
  {
   "cell_type": "code",
   "execution_count": 4,
   "outputs": [
    {
     "data": {
      "text/plain": "   Primary key                   Name              Province  Population  \\\n0          992                   Roma  Italia (VII Etruria)      923406   \n1          110  Alexandria (Aegyptus)              Aegyptus      410535   \n2          172               Carthago  Africa Proconsularis      102170   \n3         1320              Syracusae               Silicia       83834   \n4          276                Ephesus                  Asia       71587   \n\n   associations  inscriptions          D(N) West / East  \n0           155        119532   1197.402620        West  \n1             7           203  14156.379310        East  \n2             7          8445     84.687981        West  \n3             1           578    145.041522        West  \n4             4           373    767.689008        East  ",
      "text/html": "<div>\n<style scoped>\n    .dataframe tbody tr th:only-of-type {\n        vertical-align: middle;\n    }\n\n    .dataframe tbody tr th {\n        vertical-align: top;\n    }\n\n    .dataframe thead th {\n        text-align: right;\n    }\n</style>\n<table border=\"1\" class=\"dataframe\">\n  <thead>\n    <tr style=\"text-align: right;\">\n      <th></th>\n      <th>Primary key</th>\n      <th>Name</th>\n      <th>Province</th>\n      <th>Population</th>\n      <th>associations</th>\n      <th>inscriptions</th>\n      <th>D(N)</th>\n      <th>West / East</th>\n    </tr>\n  </thead>\n  <tbody>\n    <tr>\n      <th>0</th>\n      <td>992</td>\n      <td>Roma</td>\n      <td>Italia (VII Etruria)</td>\n      <td>923406</td>\n      <td>155</td>\n      <td>119532</td>\n      <td>1197.402620</td>\n      <td>West</td>\n    </tr>\n    <tr>\n      <th>1</th>\n      <td>110</td>\n      <td>Alexandria (Aegyptus)</td>\n      <td>Aegyptus</td>\n      <td>410535</td>\n      <td>7</td>\n      <td>203</td>\n      <td>14156.379310</td>\n      <td>East</td>\n    </tr>\n    <tr>\n      <th>2</th>\n      <td>172</td>\n      <td>Carthago</td>\n      <td>Africa Proconsularis</td>\n      <td>102170</td>\n      <td>7</td>\n      <td>8445</td>\n      <td>84.687981</td>\n      <td>West</td>\n    </tr>\n    <tr>\n      <th>3</th>\n      <td>1320</td>\n      <td>Syracusae</td>\n      <td>Silicia</td>\n      <td>83834</td>\n      <td>1</td>\n      <td>578</td>\n      <td>145.041522</td>\n      <td>West</td>\n    </tr>\n    <tr>\n      <th>4</th>\n      <td>276</td>\n      <td>Ephesus</td>\n      <td>Asia</td>\n      <td>71587</td>\n      <td>4</td>\n      <td>373</td>\n      <td>767.689008</td>\n      <td>East</td>\n    </tr>\n  </tbody>\n</table>\n</div>"
     },
     "execution_count": 4,
     "metadata": {},
     "output_type": "execute_result"
    }
   ],
   "source": [
    "# Hanson et al. 2017 on associations\n",
    "hanson_assoc = pd.read_excel(\"../data/hanson2017_supplementary.xlsx\")\n",
    "hanson_assoc.head(5)"
   ],
   "metadata": {
    "collapsed": false,
    "pycharm": {
     "name": "#%%\n"
    }
   }
  },
  {
   "cell_type": "code",
   "execution_count": 5,
   "outputs": [],
   "source": [
    "hanson_assoc[\"ID\"] = hanson_assoc[\"Primary key\"].apply(str)"
   ],
   "metadata": {
    "collapsed": false,
    "pycharm": {
     "name": "#%%\n"
    }
   }
  },
  {
   "cell_type": "code",
   "execution_count": 6,
   "outputs": [],
   "source": [
    "LIRE = gpd.read_parquet(\"../data/large_data/LIRE_occupsorgs_cats.parquet\")"
   ],
   "metadata": {
    "collapsed": false,
    "pycharm": {
     "name": "#%%\n"
    }
   }
  },
  {
   "cell_type": "code",
   "execution_count": 7,
   "outputs": [],
   "source": [
    "def get_5K_city(row):\n",
    "    city_id = None\n",
    "    if row[\"large_city_dist\"] <= 5000:\n",
    "        city_id = row[\"large_city_ID\"]\n",
    "    else:\n",
    "        if row[\"medium_city_dist\"] <= 5000:\n",
    "            city_id = row[\"medium_city_ID\"]\n",
    "        else:\n",
    "            if row[\"small_city_dist\"] <= 5000:\n",
    "                city_id = \"small\"\n",
    "    return city_id\n",
    "\n",
    "LIRE[\"5Kcity\"] = LIRE.apply(lambda row: get_5K_city(row), axis=1)"
   ],
   "metadata": {
    "collapsed": false,
    "pycharm": {
     "name": "#%%\n"
    }
   }
  },
  {
   "cell_type": "code",
   "execution_count": 8,
   "outputs": [],
   "source": [
    "def get_inscriptions(ID):\n",
    "    city_dict = {}\n",
    "    city_data = LIRE[LIRE[\"5Kcity\"]==str(ID)]\n",
    "    if len(city_data) > 0:\n",
    "        city_dict[\"inscr_N\"] = len(city_data)\n",
    "        city_dict[\"occups_list\"] = [el for sublist in city_data[\"occups\"] for el in sublist]\n",
    "        city_dict[\"occups_N\"] = city_data[\"occups_N\"].sum()\n",
    "        city_dict[\"organizations_N\"] = city_data[\"organizations_N\"].sum()\n",
    "        city_dict[\"organizations\"] = [el for sublist in city_data[\"organizations\"] for el in sublist]\n",
    "    return city_dict\n",
    "\n",
    "cities_dict_data = roman_cities[\"ID\"].apply(get_inscriptions)\n",
    "cities_inscr_data = pd.DataFrame(cities_dict_data.tolist())"
   ],
   "metadata": {
    "collapsed": false,
    "pycharm": {
     "name": "#%%\n"
    }
   }
  },
  {
   "cell_type": "code",
   "execution_count": 9,
   "outputs": [],
   "source": [
    "roman_cities = pd.concat([roman_cities, cities_inscr_data], axis=1)"
   ],
   "metadata": {
    "collapsed": false,
    "pycharm": {
     "name": "#%%\n"
    }
   }
  },
  {
   "cell_type": "markdown",
   "source": [],
   "metadata": {
    "collapsed": false
   }
  },
  {
   "cell_type": "code",
   "execution_count": 10,
   "outputs": [
    {
     "data": {
      "text/plain": "      Primary Key        Ancient Toponym Modern Toponym            Province_x  \\\n0   Hanson2016_13     Argos (Achaea) (2)          Argos                Achaea   \n1   Hanson2016_14                Athenae         Athens                Achaea   \n2   Hanson2016_28                  Delos          Delos                Achaea   \n3  Hanson2016_110  Alexandria (Aegyptus)     Alexandria              Aegyptus   \n4  Hanson2016_172               Carthago          Tunis  Africa Proconsularis   \n\n   Country Barrington Atlas Rank Barrington Atlas Reference  Start Date  \\\n0   Greece                     2                      58 D2        -900   \n1   Greece                     1                      59 B3        -900   \n2   Greece                4 or 5                      61 A3        -700   \n3    Egypt                     1                      74 B2        -322   \n4  Tunisia                     1                      32 F3         -49   \n\n   End Date                                Select Bibliography  ...  \\\n0       NaN  BNP; Boatwright 2000; DGRG; Hansen 2006; Hanse...  ...   \n1       NaN  Beloch 1886; BNP; Boatwright 2000; DGRG; Hanse...  ...   \n2       NaN  BNP; DGRG; Hansen and Nielsen 2004; PECS; Sear...  ...   \n3       NaN  Beloch 1886; Bowman 2011; Cohen 2006; Humphrey...  ...   \n4       NaN  Bomgardner 2000; Brunt 1971; Cornell and Mathe...  ...   \n\n   organizations_N organizations  Primary key                   Name  \\\n0              0.0            []           13                  Argos   \n1              0.0            []           14                Athenae   \n2              NaN           NaN           28                  Delos   \n3              0.0            []          110  Alexandria (Aegyptus)   \n4              0.0            []          172               Carthago   \n\n             Province_y  Population  associations  inscriptions          D(N)  \\\n0                Achaea       49453             1            24   2060.541667   \n1                Achaea       58114             5           275   1056.618182   \n2                Achaea       18364             7           149    862.738255   \n3              Aegyptus      410535             7           203  14156.379310   \n4  Africa Proconsularis      102170             7          8445     84.687981   \n\n   West / East  \n0         East  \n1         East  \n2         East  \n3         East  \n4         West  \n\n[5 rows x 35 columns]",
      "text/html": "<div>\n<style scoped>\n    .dataframe tbody tr th:only-of-type {\n        vertical-align: middle;\n    }\n\n    .dataframe tbody tr th {\n        vertical-align: top;\n    }\n\n    .dataframe thead th {\n        text-align: right;\n    }\n</style>\n<table border=\"1\" class=\"dataframe\">\n  <thead>\n    <tr style=\"text-align: right;\">\n      <th></th>\n      <th>Primary Key</th>\n      <th>Ancient Toponym</th>\n      <th>Modern Toponym</th>\n      <th>Province_x</th>\n      <th>Country</th>\n      <th>Barrington Atlas Rank</th>\n      <th>Barrington Atlas Reference</th>\n      <th>Start Date</th>\n      <th>End Date</th>\n      <th>Select Bibliography</th>\n      <th>...</th>\n      <th>organizations_N</th>\n      <th>organizations</th>\n      <th>Primary key</th>\n      <th>Name</th>\n      <th>Province_y</th>\n      <th>Population</th>\n      <th>associations</th>\n      <th>inscriptions</th>\n      <th>D(N)</th>\n      <th>West / East</th>\n    </tr>\n  </thead>\n  <tbody>\n    <tr>\n      <th>0</th>\n      <td>Hanson2016_13</td>\n      <td>Argos (Achaea) (2)</td>\n      <td>Argos</td>\n      <td>Achaea</td>\n      <td>Greece</td>\n      <td>2</td>\n      <td>58 D2</td>\n      <td>-900</td>\n      <td>NaN</td>\n      <td>BNP; Boatwright 2000; DGRG; Hansen 2006; Hanse...</td>\n      <td>...</td>\n      <td>0.0</td>\n      <td>[]</td>\n      <td>13</td>\n      <td>Argos</td>\n      <td>Achaea</td>\n      <td>49453</td>\n      <td>1</td>\n      <td>24</td>\n      <td>2060.541667</td>\n      <td>East</td>\n    </tr>\n    <tr>\n      <th>1</th>\n      <td>Hanson2016_14</td>\n      <td>Athenae</td>\n      <td>Athens</td>\n      <td>Achaea</td>\n      <td>Greece</td>\n      <td>1</td>\n      <td>59 B3</td>\n      <td>-900</td>\n      <td>NaN</td>\n      <td>Beloch 1886; BNP; Boatwright 2000; DGRG; Hanse...</td>\n      <td>...</td>\n      <td>0.0</td>\n      <td>[]</td>\n      <td>14</td>\n      <td>Athenae</td>\n      <td>Achaea</td>\n      <td>58114</td>\n      <td>5</td>\n      <td>275</td>\n      <td>1056.618182</td>\n      <td>East</td>\n    </tr>\n    <tr>\n      <th>2</th>\n      <td>Hanson2016_28</td>\n      <td>Delos</td>\n      <td>Delos</td>\n      <td>Achaea</td>\n      <td>Greece</td>\n      <td>4 or 5</td>\n      <td>61 A3</td>\n      <td>-700</td>\n      <td>NaN</td>\n      <td>BNP; DGRG; Hansen and Nielsen 2004; PECS; Sear...</td>\n      <td>...</td>\n      <td>NaN</td>\n      <td>NaN</td>\n      <td>28</td>\n      <td>Delos</td>\n      <td>Achaea</td>\n      <td>18364</td>\n      <td>7</td>\n      <td>149</td>\n      <td>862.738255</td>\n      <td>East</td>\n    </tr>\n    <tr>\n      <th>3</th>\n      <td>Hanson2016_110</td>\n      <td>Alexandria (Aegyptus)</td>\n      <td>Alexandria</td>\n      <td>Aegyptus</td>\n      <td>Egypt</td>\n      <td>1</td>\n      <td>74 B2</td>\n      <td>-322</td>\n      <td>NaN</td>\n      <td>Beloch 1886; Bowman 2011; Cohen 2006; Humphrey...</td>\n      <td>...</td>\n      <td>0.0</td>\n      <td>[]</td>\n      <td>110</td>\n      <td>Alexandria (Aegyptus)</td>\n      <td>Aegyptus</td>\n      <td>410535</td>\n      <td>7</td>\n      <td>203</td>\n      <td>14156.379310</td>\n      <td>East</td>\n    </tr>\n    <tr>\n      <th>4</th>\n      <td>Hanson2016_172</td>\n      <td>Carthago</td>\n      <td>Tunis</td>\n      <td>Africa Proconsularis</td>\n      <td>Tunisia</td>\n      <td>1</td>\n      <td>32 F3</td>\n      <td>-49</td>\n      <td>NaN</td>\n      <td>Bomgardner 2000; Brunt 1971; Cornell and Mathe...</td>\n      <td>...</td>\n      <td>0.0</td>\n      <td>[]</td>\n      <td>172</td>\n      <td>Carthago</td>\n      <td>Africa Proconsularis</td>\n      <td>102170</td>\n      <td>7</td>\n      <td>8445</td>\n      <td>84.687981</td>\n      <td>West</td>\n    </tr>\n  </tbody>\n</table>\n<p>5 rows × 35 columns</p>\n</div>"
     },
     "execution_count": 10,
     "metadata": {},
     "output_type": "execute_result"
    }
   ],
   "source": [
    "cities_merged = pd.merge(roman_cities, hanson_assoc, on=\"ID\", how=\"inner\")\n",
    "cities_merged.head(5)"
   ],
   "metadata": {
    "collapsed": false,
    "pycharm": {
     "name": "#%%\n"
    }
   }
  },
  {
   "cell_type": "code",
   "execution_count": 11,
   "outputs": [
    {
     "data": {
      "text/plain": "210"
     },
     "execution_count": 11,
     "metadata": {},
     "output_type": "execute_result"
    }
   ],
   "source": [
    "len(cities_merged)"
   ],
   "metadata": {
    "collapsed": false,
    "pycharm": {
     "name": "#%%\n"
    }
   }
  },
  {
   "cell_type": "code",
   "execution_count": 67,
   "outputs": [
    {
     "data": {
      "text/plain": "     inscr_N  occups_N  organizations_N  associations  inscriptions\n0        7.0       0.0              0.0             1            24\n1       60.0       1.0              0.0             5           275\n2        NaN       NaN              NaN             7           149\n3       35.0       0.0              0.0             7           203\n4      409.0       8.0              0.0             7          8445\n..       ...       ...              ...           ...           ...\n205     13.0       0.0              0.0             1            69\n206      NaN       NaN              NaN             1            28\n207      5.0       0.0              0.0             1            15\n208      4.0       0.0              0.0             1            22\n209      NaN       NaN              NaN             5            45\n\n[210 rows x 5 columns]",
      "text/html": "<div>\n<style scoped>\n    .dataframe tbody tr th:only-of-type {\n        vertical-align: middle;\n    }\n\n    .dataframe tbody tr th {\n        vertical-align: top;\n    }\n\n    .dataframe thead th {\n        text-align: right;\n    }\n</style>\n<table border=\"1\" class=\"dataframe\">\n  <thead>\n    <tr style=\"text-align: right;\">\n      <th></th>\n      <th>inscr_N</th>\n      <th>occups_N</th>\n      <th>organizations_N</th>\n      <th>associations</th>\n      <th>inscriptions</th>\n    </tr>\n  </thead>\n  <tbody>\n    <tr>\n      <th>0</th>\n      <td>7.0</td>\n      <td>0.0</td>\n      <td>0.0</td>\n      <td>1</td>\n      <td>24</td>\n    </tr>\n    <tr>\n      <th>1</th>\n      <td>60.0</td>\n      <td>1.0</td>\n      <td>0.0</td>\n      <td>5</td>\n      <td>275</td>\n    </tr>\n    <tr>\n      <th>2</th>\n      <td>NaN</td>\n      <td>NaN</td>\n      <td>NaN</td>\n      <td>7</td>\n      <td>149</td>\n    </tr>\n    <tr>\n      <th>3</th>\n      <td>35.0</td>\n      <td>0.0</td>\n      <td>0.0</td>\n      <td>7</td>\n      <td>203</td>\n    </tr>\n    <tr>\n      <th>4</th>\n      <td>409.0</td>\n      <td>8.0</td>\n      <td>0.0</td>\n      <td>7</td>\n      <td>8445</td>\n    </tr>\n    <tr>\n      <th>...</th>\n      <td>...</td>\n      <td>...</td>\n      <td>...</td>\n      <td>...</td>\n      <td>...</td>\n    </tr>\n    <tr>\n      <th>205</th>\n      <td>13.0</td>\n      <td>0.0</td>\n      <td>0.0</td>\n      <td>1</td>\n      <td>69</td>\n    </tr>\n    <tr>\n      <th>206</th>\n      <td>NaN</td>\n      <td>NaN</td>\n      <td>NaN</td>\n      <td>1</td>\n      <td>28</td>\n    </tr>\n    <tr>\n      <th>207</th>\n      <td>5.0</td>\n      <td>0.0</td>\n      <td>0.0</td>\n      <td>1</td>\n      <td>15</td>\n    </tr>\n    <tr>\n      <th>208</th>\n      <td>4.0</td>\n      <td>0.0</td>\n      <td>0.0</td>\n      <td>1</td>\n      <td>22</td>\n    </tr>\n    <tr>\n      <th>209</th>\n      <td>NaN</td>\n      <td>NaN</td>\n      <td>NaN</td>\n      <td>5</td>\n      <td>45</td>\n    </tr>\n  </tbody>\n</table>\n<p>210 rows × 5 columns</p>\n</div>"
     },
     "execution_count": 67,
     "metadata": {},
     "output_type": "execute_result"
    }
   ],
   "source": [
    "cities_merged[['inscr_N', 'occups_N', \"organizations_N\", \"associations\", \"inscriptions\"]]"
   ],
   "metadata": {
    "collapsed": false,
    "pycharm": {
     "name": "#%%\n"
    }
   }
  },
  {
   "cell_type": "code",
   "execution_count": 12,
   "outputs": [
    {
     "data": {
      "text/plain": "210"
     },
     "execution_count": 12,
     "metadata": {},
     "output_type": "execute_result"
    }
   ],
   "source": [
    "len(cities_merged)"
   ],
   "metadata": {
    "collapsed": false,
    "pycharm": {
     "name": "#%%\n"
    }
   }
  },
  {
   "cell_type": "code",
   "execution_count": 13,
   "outputs": [
    {
     "data": {
      "text/plain": "175"
     },
     "execution_count": 13,
     "metadata": {},
     "output_type": "execute_result"
    }
   ],
   "source": [
    "cities_merged_w = cities_merged[(cities_merged[\"western_province\"]==True) & (cities_merged[\"Ancient Toponym\"]!=\"Roma\")]\n",
    "len(cities_merged_w)"
   ],
   "metadata": {
    "collapsed": false,
    "pycharm": {
     "name": "#%%\n"
    }
   }
  },
  {
   "cell_type": "code",
   "execution_count": 16,
   "outputs": [
    {
     "data": {
      "text/plain": "         Primary Key     Ancient Toponym Modern Toponym            Province_x  \\\n4     Hanson2016_172            Carthago          Tunis  Africa Proconsularis   \n5     Hanson2016_210              Thugga         Dougga  Africa Proconsularis   \n6     Hanson2016_223  Augusta Taurinorum          Turin         Alpes Cottiae   \n7     Hanson2016_224             Segusio           Susa         Alpes Cottiae   \n8     Hanson2016_227           Cemelenum         Cimiez       Alpes Maritimae   \n..               ...                 ...            ...                   ...   \n198  Hanson2016_1288  Augusta Vindelicum       Augsburg                Raetia   \n199  Hanson2016_1298             Catania        Catania               Sicilia   \n200  Hanson2016_1312             Messana        Messina               Sicilia   \n201  Hanson2016_1316            Panormus        Palermo               Sicilia   \n202  Hanson2016_1320           Syracusae       Syracuse               Sicilia   \n\n     Country Barrington Atlas Rank Barrington Atlas Reference  Start Date  \\\n4    Tunisia                     1                      32 F3         -49   \n5    Tunisia                     3                      32 D4        -200   \n6      Italy                     3                      39 B3         -27   \n7      Italy                4 or 5                      17 I3        -100   \n8     France                     3                      16 D2         -25   \n..       ...                   ...                        ...         ...   \n198  Germany                     2                      12 D4         -15   \n199    Italy                     3                      47 G3        -729   \n200    Italy                     3                      47 H2        -730   \n201    Italy                     2                      47 C2        -700   \n202    Italy                     2                      47 G4        -733   \n\n     End Date                                Select Bibliography  ...  \\\n4         NaN  Bomgardner 2000; Brunt 1971; Cornell and Mathe...  ...   \n5         NaN  BNP; Lepelley 1979-1981; PECS; Quinn and Wilso...  ...   \n6         NaN  Beloch 1880; Beloch 1886; BNP; Cornell and Mat...  ...   \n7         NaN  Beloch 1880; de Ligt 2012; DGRG; Golvin 1988; ...  ...   \n8         NaN  Bedon 2001; Bedon et al 1988; Beloch 1880; de ...  ...   \n..        ...                                                ...  ...   \n198       NaN  BNP; Boatwright 2000; McEvedy 2011; PECS; Quin...  ...   \n199       NaN  Benario 1981; Brunt 1971; Cornell and Mathews ...  ...   \n200       NaN  Brunt 1971; Cornell and Mathews 1982; Hansen 2...  ...   \n201       NaN  Beloch 1886; BNP; Brunt 1971; Cornell and Math...  ...   \n202       NaN  Beloch 1886; Benario 1981; Brunt 1971; Cornell...  ...   \n\n     organizations_N             organizations  Primary key  \\\n4                0.0                        []          172   \n5                NaN                       NaN          210   \n6                2.0  [sodalicium, sodalicium]          223   \n7                NaN                       NaN          224   \n8                NaN                       NaN          227   \n..               ...                       ...          ...   \n198              0.0                        []         1288   \n199              0.0                        []         1298   \n200              0.0                        []         1312   \n201              0.0                        []         1316   \n202              0.0                        []         1320   \n\n                   Name            Province_y  Population  associations  \\\n4              Carthago  Africa Proconsularis      102170             7   \n5                Thugga  Africa Proconsularis        3085             1   \n6    Augusta Taurinorum         Alpes Cottiae        8633             4   \n7               Segusio         Alpes Cottiae         563             1   \n8             Cemelenum       Alpes Maritimae        1989             5   \n..                  ...                   ...         ...           ...   \n198  Augusta Vindelicum                Raetia       10608             2   \n199             Catania               Silicia       28211             2   \n200             Messana               Silicia       11531             1   \n201            Panormus               Silicia        5067             1   \n202           Syracusae               Silicia       83834             1   \n\n     inscriptions        D(N)  West / East  \n4            8445   84.687981         West  \n5            2028    1.521203         West  \n6             352   98.102273         West  \n7             163    3.453988         West  \n8             295   33.711864         West  \n..            ...         ...          ...  \n198           317   66.927445         West  \n199           658   85.747720         West  \n200           156   73.916667         West  \n201           213   23.788732         West  \n202           578  145.041522         West  \n\n[175 rows x 35 columns]",
      "text/html": "<div>\n<style scoped>\n    .dataframe tbody tr th:only-of-type {\n        vertical-align: middle;\n    }\n\n    .dataframe tbody tr th {\n        vertical-align: top;\n    }\n\n    .dataframe thead th {\n        text-align: right;\n    }\n</style>\n<table border=\"1\" class=\"dataframe\">\n  <thead>\n    <tr style=\"text-align: right;\">\n      <th></th>\n      <th>Primary Key</th>\n      <th>Ancient Toponym</th>\n      <th>Modern Toponym</th>\n      <th>Province_x</th>\n      <th>Country</th>\n      <th>Barrington Atlas Rank</th>\n      <th>Barrington Atlas Reference</th>\n      <th>Start Date</th>\n      <th>End Date</th>\n      <th>Select Bibliography</th>\n      <th>...</th>\n      <th>organizations_N</th>\n      <th>organizations</th>\n      <th>Primary key</th>\n      <th>Name</th>\n      <th>Province_y</th>\n      <th>Population</th>\n      <th>associations</th>\n      <th>inscriptions</th>\n      <th>D(N)</th>\n      <th>West / East</th>\n    </tr>\n  </thead>\n  <tbody>\n    <tr>\n      <th>4</th>\n      <td>Hanson2016_172</td>\n      <td>Carthago</td>\n      <td>Tunis</td>\n      <td>Africa Proconsularis</td>\n      <td>Tunisia</td>\n      <td>1</td>\n      <td>32 F3</td>\n      <td>-49</td>\n      <td>NaN</td>\n      <td>Bomgardner 2000; Brunt 1971; Cornell and Mathe...</td>\n      <td>...</td>\n      <td>0.0</td>\n      <td>[]</td>\n      <td>172</td>\n      <td>Carthago</td>\n      <td>Africa Proconsularis</td>\n      <td>102170</td>\n      <td>7</td>\n      <td>8445</td>\n      <td>84.687981</td>\n      <td>West</td>\n    </tr>\n    <tr>\n      <th>5</th>\n      <td>Hanson2016_210</td>\n      <td>Thugga</td>\n      <td>Dougga</td>\n      <td>Africa Proconsularis</td>\n      <td>Tunisia</td>\n      <td>3</td>\n      <td>32 D4</td>\n      <td>-200</td>\n      <td>NaN</td>\n      <td>BNP; Lepelley 1979-1981; PECS; Quinn and Wilso...</td>\n      <td>...</td>\n      <td>NaN</td>\n      <td>NaN</td>\n      <td>210</td>\n      <td>Thugga</td>\n      <td>Africa Proconsularis</td>\n      <td>3085</td>\n      <td>1</td>\n      <td>2028</td>\n      <td>1.521203</td>\n      <td>West</td>\n    </tr>\n    <tr>\n      <th>6</th>\n      <td>Hanson2016_223</td>\n      <td>Augusta Taurinorum</td>\n      <td>Turin</td>\n      <td>Alpes Cottiae</td>\n      <td>Italy</td>\n      <td>3</td>\n      <td>39 B3</td>\n      <td>-27</td>\n      <td>NaN</td>\n      <td>Beloch 1880; Beloch 1886; BNP; Cornell and Mat...</td>\n      <td>...</td>\n      <td>2.0</td>\n      <td>[sodalicium, sodalicium]</td>\n      <td>223</td>\n      <td>Augusta Taurinorum</td>\n      <td>Alpes Cottiae</td>\n      <td>8633</td>\n      <td>4</td>\n      <td>352</td>\n      <td>98.102273</td>\n      <td>West</td>\n    </tr>\n    <tr>\n      <th>7</th>\n      <td>Hanson2016_224</td>\n      <td>Segusio</td>\n      <td>Susa</td>\n      <td>Alpes Cottiae</td>\n      <td>Italy</td>\n      <td>4 or 5</td>\n      <td>17 I3</td>\n      <td>-100</td>\n      <td>NaN</td>\n      <td>Beloch 1880; de Ligt 2012; DGRG; Golvin 1988; ...</td>\n      <td>...</td>\n      <td>NaN</td>\n      <td>NaN</td>\n      <td>224</td>\n      <td>Segusio</td>\n      <td>Alpes Cottiae</td>\n      <td>563</td>\n      <td>1</td>\n      <td>163</td>\n      <td>3.453988</td>\n      <td>West</td>\n    </tr>\n    <tr>\n      <th>8</th>\n      <td>Hanson2016_227</td>\n      <td>Cemelenum</td>\n      <td>Cimiez</td>\n      <td>Alpes Maritimae</td>\n      <td>France</td>\n      <td>3</td>\n      <td>16 D2</td>\n      <td>-25</td>\n      <td>NaN</td>\n      <td>Bedon 2001; Bedon et al 1988; Beloch 1880; de ...</td>\n      <td>...</td>\n      <td>NaN</td>\n      <td>NaN</td>\n      <td>227</td>\n      <td>Cemelenum</td>\n      <td>Alpes Maritimae</td>\n      <td>1989</td>\n      <td>5</td>\n      <td>295</td>\n      <td>33.711864</td>\n      <td>West</td>\n    </tr>\n    <tr>\n      <th>...</th>\n      <td>...</td>\n      <td>...</td>\n      <td>...</td>\n      <td>...</td>\n      <td>...</td>\n      <td>...</td>\n      <td>...</td>\n      <td>...</td>\n      <td>...</td>\n      <td>...</td>\n      <td>...</td>\n      <td>...</td>\n      <td>...</td>\n      <td>...</td>\n      <td>...</td>\n      <td>...</td>\n      <td>...</td>\n      <td>...</td>\n      <td>...</td>\n      <td>...</td>\n      <td>...</td>\n    </tr>\n    <tr>\n      <th>198</th>\n      <td>Hanson2016_1288</td>\n      <td>Augusta Vindelicum</td>\n      <td>Augsburg</td>\n      <td>Raetia</td>\n      <td>Germany</td>\n      <td>2</td>\n      <td>12 D4</td>\n      <td>-15</td>\n      <td>NaN</td>\n      <td>BNP; Boatwright 2000; McEvedy 2011; PECS; Quin...</td>\n      <td>...</td>\n      <td>0.0</td>\n      <td>[]</td>\n      <td>1288</td>\n      <td>Augusta Vindelicum</td>\n      <td>Raetia</td>\n      <td>10608</td>\n      <td>2</td>\n      <td>317</td>\n      <td>66.927445</td>\n      <td>West</td>\n    </tr>\n    <tr>\n      <th>199</th>\n      <td>Hanson2016_1298</td>\n      <td>Catania</td>\n      <td>Catania</td>\n      <td>Sicilia</td>\n      <td>Italy</td>\n      <td>3</td>\n      <td>47 G3</td>\n      <td>-729</td>\n      <td>NaN</td>\n      <td>Benario 1981; Brunt 1971; Cornell and Mathews ...</td>\n      <td>...</td>\n      <td>0.0</td>\n      <td>[]</td>\n      <td>1298</td>\n      <td>Catania</td>\n      <td>Silicia</td>\n      <td>28211</td>\n      <td>2</td>\n      <td>658</td>\n      <td>85.747720</td>\n      <td>West</td>\n    </tr>\n    <tr>\n      <th>200</th>\n      <td>Hanson2016_1312</td>\n      <td>Messana</td>\n      <td>Messina</td>\n      <td>Sicilia</td>\n      <td>Italy</td>\n      <td>3</td>\n      <td>47 H2</td>\n      <td>-730</td>\n      <td>NaN</td>\n      <td>Brunt 1971; Cornell and Mathews 1982; Hansen 2...</td>\n      <td>...</td>\n      <td>0.0</td>\n      <td>[]</td>\n      <td>1312</td>\n      <td>Messana</td>\n      <td>Silicia</td>\n      <td>11531</td>\n      <td>1</td>\n      <td>156</td>\n      <td>73.916667</td>\n      <td>West</td>\n    </tr>\n    <tr>\n      <th>201</th>\n      <td>Hanson2016_1316</td>\n      <td>Panormus</td>\n      <td>Palermo</td>\n      <td>Sicilia</td>\n      <td>Italy</td>\n      <td>2</td>\n      <td>47 C2</td>\n      <td>-700</td>\n      <td>NaN</td>\n      <td>Beloch 1886; BNP; Brunt 1971; Cornell and Math...</td>\n      <td>...</td>\n      <td>0.0</td>\n      <td>[]</td>\n      <td>1316</td>\n      <td>Panormus</td>\n      <td>Silicia</td>\n      <td>5067</td>\n      <td>1</td>\n      <td>213</td>\n      <td>23.788732</td>\n      <td>West</td>\n    </tr>\n    <tr>\n      <th>202</th>\n      <td>Hanson2016_1320</td>\n      <td>Syracusae</td>\n      <td>Syracuse</td>\n      <td>Sicilia</td>\n      <td>Italy</td>\n      <td>2</td>\n      <td>47 G4</td>\n      <td>-733</td>\n      <td>NaN</td>\n      <td>Beloch 1886; Benario 1981; Brunt 1971; Cornell...</td>\n      <td>...</td>\n      <td>0.0</td>\n      <td>[]</td>\n      <td>1320</td>\n      <td>Syracusae</td>\n      <td>Silicia</td>\n      <td>83834</td>\n      <td>1</td>\n      <td>578</td>\n      <td>145.041522</td>\n      <td>West</td>\n    </tr>\n  </tbody>\n</table>\n<p>175 rows × 35 columns</p>\n</div>"
     },
     "execution_count": 16,
     "metadata": {},
     "output_type": "execute_result"
    }
   ],
   "source": [
    "cities_merged_w"
   ],
   "metadata": {
    "collapsed": false,
    "pycharm": {
     "name": "#%%\n"
    }
   }
  },
  {
   "cell_type": "code",
   "execution_count": 14,
   "outputs": [],
   "source": [
    "cities_merged_quant = cities_merged[cities_merged[\"Ancient Toponym\"]!=\"Roma\"][['inscr_N', 'occups_N', 'organizations_N', \"associations\", \"inscriptions\", \"D(N)\"]]"
   ],
   "metadata": {
    "collapsed": false,
    "pycharm": {
     "name": "#%%\n"
    }
   }
  },
  {
   "cell_type": "code",
   "execution_count": 15,
   "outputs": [],
   "source": [
    "corr_matrix = cities_merged_quant.corr().round(2)"
   ],
   "metadata": {
    "collapsed": false,
    "pycharm": {
     "name": "#%%\n"
    }
   }
  },
  {
   "cell_type": "code",
   "execution_count": 80,
   "outputs": [
    {
     "data": {
      "text/plain": "                 inscr_N  occups_N  organizations_N  associations  \\\ninscr_N             1.00      0.69             0.68          0.50   \noccups_N            0.69      1.00             0.88          0.71   \norganizations_N     0.68      0.88             1.00          0.59   \nassociations        0.50      0.71             0.59          1.00   \ninscriptions        0.76      0.47             0.40          0.60   \nD(N)               -0.01      0.01             0.01          0.08   \n\n                 inscriptions  D(N)  \ninscr_N                  0.76 -0.01  \noccups_N                 0.47  0.01  \norganizations_N          0.40  0.01  \nassociations             0.60  0.08  \ninscriptions             1.00 -0.08  \nD(N)                    -0.08  1.00  ",
      "text/html": "<div>\n<style scoped>\n    .dataframe tbody tr th:only-of-type {\n        vertical-align: middle;\n    }\n\n    .dataframe tbody tr th {\n        vertical-align: top;\n    }\n\n    .dataframe thead th {\n        text-align: right;\n    }\n</style>\n<table border=\"1\" class=\"dataframe\">\n  <thead>\n    <tr style=\"text-align: right;\">\n      <th></th>\n      <th>inscr_N</th>\n      <th>occups_N</th>\n      <th>organizations_N</th>\n      <th>associations</th>\n      <th>inscriptions</th>\n      <th>D(N)</th>\n    </tr>\n  </thead>\n  <tbody>\n    <tr>\n      <th>inscr_N</th>\n      <td>1.00</td>\n      <td>0.69</td>\n      <td>0.68</td>\n      <td>0.50</td>\n      <td>0.76</td>\n      <td>-0.01</td>\n    </tr>\n    <tr>\n      <th>occups_N</th>\n      <td>0.69</td>\n      <td>1.00</td>\n      <td>0.88</td>\n      <td>0.71</td>\n      <td>0.47</td>\n      <td>0.01</td>\n    </tr>\n    <tr>\n      <th>organizations_N</th>\n      <td>0.68</td>\n      <td>0.88</td>\n      <td>1.00</td>\n      <td>0.59</td>\n      <td>0.40</td>\n      <td>0.01</td>\n    </tr>\n    <tr>\n      <th>associations</th>\n      <td>0.50</td>\n      <td>0.71</td>\n      <td>0.59</td>\n      <td>1.00</td>\n      <td>0.60</td>\n      <td>0.08</td>\n    </tr>\n    <tr>\n      <th>inscriptions</th>\n      <td>0.76</td>\n      <td>0.47</td>\n      <td>0.40</td>\n      <td>0.60</td>\n      <td>1.00</td>\n      <td>-0.08</td>\n    </tr>\n    <tr>\n      <th>D(N)</th>\n      <td>-0.01</td>\n      <td>0.01</td>\n      <td>0.01</td>\n      <td>0.08</td>\n      <td>-0.08</td>\n      <td>1.00</td>\n    </tr>\n  </tbody>\n</table>\n</div>"
     },
     "execution_count": 80,
     "metadata": {},
     "output_type": "execute_result"
    }
   ],
   "source": [
    "corr_matrix"
   ],
   "metadata": {
    "collapsed": false,
    "pycharm": {
     "name": "#%%\n"
    }
   }
  },
  {
   "cell_type": "code",
   "execution_count": null,
   "outputs": [],
   "source": [],
   "metadata": {
    "collapsed": false,
    "pycharm": {
     "name": "#%%\n"
    }
   }
  }
 ],
 "metadata": {
  "kernelspec": {
   "name": "socdiv_venv",
   "language": "python",
   "display_name": "socdiv_venv"
  },
  "language_info": {
   "codemirror_mode": {
    "name": "ipython",
    "version": 2
   },
   "file_extension": ".py",
   "mimetype": "text/x-python",
   "name": "python",
   "nbconvert_exporter": "python",
   "pygments_lexer": "ipython2",
   "version": "2.7.6"
  }
 },
 "nbformat": 4,
 "nbformat_minor": 0
}