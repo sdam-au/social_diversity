{
 "cells": [
  {
   "cell_type": "code",
   "execution_count": 1,
   "metadata": {
    "collapsed": true
   },
   "outputs": [],
   "source": [
    "import pandas as pd\n",
    "import geopandas as gpd\n",
    "\n",
    "import matplotlib.pyplot as plt\n",
    "\n",
    "import sddk"
   ]
  },
  {
   "cell_type": "code",
   "execution_count": 2,
   "outputs": [
    {
     "ename": "KeyboardInterrupt",
     "evalue": "",
     "output_type": "error",
     "traceback": [
      "\u001B[0;31m---------------------------------------------------------------------------\u001B[0m",
      "\u001B[0;31mKeyboardInterrupt\u001B[0m                         Traceback (most recent call last)",
      "\u001B[0;32m/var/folders/zg/zvg9y3rs7j527jxfq9sc2xqc0000gn/T/ipykernel_33469/1013562780.py\u001B[0m in \u001B[0;36m<module>\u001B[0;34m\u001B[0m\n\u001B[0;32m----> 1\u001B[0;31m \u001B[0ms\u001B[0m \u001B[0;34m=\u001B[0m \u001B[0msddk\u001B[0m\u001B[0;34m.\u001B[0m\u001B[0mcloudSession\u001B[0m\u001B[0;34m(\u001B[0m\u001B[0;34m\"sciencedata.dk\"\u001B[0m\u001B[0;34m,\u001B[0m \u001B[0;34m\"SDAM_root\"\u001B[0m\u001B[0;34m,\u001B[0m \u001B[0;34m\"648597@au.dk\"\u001B[0m\u001B[0;34m)\u001B[0m\u001B[0;34m\u001B[0m\u001B[0;34m\u001B[0m\u001B[0m\n\u001B[0m\u001B[1;32m      2\u001B[0m \u001B[0mfigpath\u001B[0m \u001B[0;34m=\u001B[0m \u001B[0;34m\"SDAM_data/social_diversity/socdiv_figures/\"\u001B[0m\u001B[0;34m\u001B[0m\u001B[0;34m\u001B[0m\u001B[0m\n\u001B[1;32m      3\u001B[0m \u001B[0;34m\u001B[0m\u001B[0m\n\u001B[1;32m      4\u001B[0m \u001B[0;31m# global parameters for plots\u001B[0m\u001B[0;34m\u001B[0m\u001B[0;34m\u001B[0m\u001B[0m\n\u001B[1;32m      5\u001B[0m \u001B[0mplt\u001B[0m\u001B[0;34m.\u001B[0m\u001B[0mstyle\u001B[0m\u001B[0;34m.\u001B[0m\u001B[0muse\u001B[0m\u001B[0;34m(\u001B[0m\u001B[0;34m\"seaborn-white\"\u001B[0m\u001B[0;34m)\u001B[0m\u001B[0;34m\u001B[0m\u001B[0;34m\u001B[0m\u001B[0m\n",
      "\u001B[0;32m~/Projects/social_diversity/socdiv_venv/lib/python3.10/site-packages/sddk/__init__.py\u001B[0m in \u001B[0;36m__init__\u001B[0;34m(self, provider, shared_folder_name, owner)\u001B[0m\n\u001B[1;32m    259\u001B[0m             \u001B[0msciencedata_homeurl_alternatives\u001B[0m \u001B[0;34m=\u001B[0m \u001B[0;34m[\u001B[0m\u001B[0;34m\"https://sciencedata.dk/\"\u001B[0m\u001B[0;34m,\u001B[0m\u001B[0;34m\"https://silo1.sciencedata.dk/\"\u001B[0m\u001B[0;34m,\u001B[0m\u001B[0;34m\"https://silo2.sciencedata.dk/\"\u001B[0m\u001B[0;34m,\u001B[0m\u001B[0;34m\"https://silo3.sciencedata.dk/\"\u001B[0m\u001B[0;34m,\u001B[0m\u001B[0;34m\"https://silo4.sciencedata.dk/\"\u001B[0m\u001B[0;34m]\u001B[0m\u001B[0;34m\u001B[0m\u001B[0;34m\u001B[0m\u001B[0m\n\u001B[1;32m    260\u001B[0m             \u001B[0;32mfor\u001B[0m \u001B[0msciencedata_homeurl_root\u001B[0m \u001B[0;32min\u001B[0m \u001B[0msciencedata_homeurl_alternatives\u001B[0m\u001B[0;34m:\u001B[0m\u001B[0;34m\u001B[0m\u001B[0;34m\u001B[0m\u001B[0m\n\u001B[0;32m--> 261\u001B[0;31m                 \u001B[0;32mif\u001B[0m \u001B[0ms\u001B[0m\u001B[0;34m.\u001B[0m\u001B[0mget\u001B[0m\u001B[0;34m(\u001B[0m\u001B[0msciencedata_homeurl_root\u001B[0m \u001B[0;34m+\u001B[0m \u001B[0;34m\"files/\"\u001B[0m\u001B[0;34m)\u001B[0m\u001B[0;34m.\u001B[0m\u001B[0mok\u001B[0m\u001B[0;34m:\u001B[0m\u001B[0;34m\u001B[0m\u001B[0;34m\u001B[0m\u001B[0m\n\u001B[0m\u001B[1;32m    262\u001B[0m                     \u001B[0mroot_folder_url\u001B[0m \u001B[0;34m=\u001B[0m \u001B[0msciencedata_homeurl_root\u001B[0m \u001B[0;34m+\u001B[0m \u001B[0;34m\"files/\"\u001B[0m\u001B[0;34m\u001B[0m\u001B[0;34m\u001B[0m\u001B[0m\n\u001B[1;32m    263\u001B[0m                     \u001B[0;31m### SETTING FOR SHARED FOLDER - if their name is passed in:\u001B[0m\u001B[0;34m\u001B[0m\u001B[0;34m\u001B[0m\u001B[0m\n",
      "\u001B[0;32m~/Projects/social_diversity/socdiv_venv/lib/python3.10/site-packages/requests/sessions.py\u001B[0m in \u001B[0;36mget\u001B[0;34m(self, url, **kwargs)\u001B[0m\n\u001B[1;32m    553\u001B[0m \u001B[0;34m\u001B[0m\u001B[0m\n\u001B[1;32m    554\u001B[0m         \u001B[0mkwargs\u001B[0m\u001B[0;34m.\u001B[0m\u001B[0msetdefault\u001B[0m\u001B[0;34m(\u001B[0m\u001B[0;34m'allow_redirects'\u001B[0m\u001B[0;34m,\u001B[0m \u001B[0;32mTrue\u001B[0m\u001B[0;34m)\u001B[0m\u001B[0;34m\u001B[0m\u001B[0;34m\u001B[0m\u001B[0m\n\u001B[0;32m--> 555\u001B[0;31m         \u001B[0;32mreturn\u001B[0m \u001B[0mself\u001B[0m\u001B[0;34m.\u001B[0m\u001B[0mrequest\u001B[0m\u001B[0;34m(\u001B[0m\u001B[0;34m'GET'\u001B[0m\u001B[0;34m,\u001B[0m \u001B[0murl\u001B[0m\u001B[0;34m,\u001B[0m \u001B[0;34m**\u001B[0m\u001B[0mkwargs\u001B[0m\u001B[0;34m)\u001B[0m\u001B[0;34m\u001B[0m\u001B[0;34m\u001B[0m\u001B[0m\n\u001B[0m\u001B[1;32m    556\u001B[0m \u001B[0;34m\u001B[0m\u001B[0m\n\u001B[1;32m    557\u001B[0m     \u001B[0;32mdef\u001B[0m \u001B[0moptions\u001B[0m\u001B[0;34m(\u001B[0m\u001B[0mself\u001B[0m\u001B[0;34m,\u001B[0m \u001B[0murl\u001B[0m\u001B[0;34m,\u001B[0m \u001B[0;34m**\u001B[0m\u001B[0mkwargs\u001B[0m\u001B[0;34m)\u001B[0m\u001B[0;34m:\u001B[0m\u001B[0;34m\u001B[0m\u001B[0;34m\u001B[0m\u001B[0m\n",
      "\u001B[0;32m~/Projects/social_diversity/socdiv_venv/lib/python3.10/site-packages/requests/sessions.py\u001B[0m in \u001B[0;36mrequest\u001B[0;34m(self, method, url, params, data, headers, cookies, files, auth, timeout, allow_redirects, proxies, hooks, stream, verify, cert, json)\u001B[0m\n\u001B[1;32m    540\u001B[0m         }\n\u001B[1;32m    541\u001B[0m         \u001B[0msend_kwargs\u001B[0m\u001B[0;34m.\u001B[0m\u001B[0mupdate\u001B[0m\u001B[0;34m(\u001B[0m\u001B[0msettings\u001B[0m\u001B[0;34m)\u001B[0m\u001B[0;34m\u001B[0m\u001B[0;34m\u001B[0m\u001B[0m\n\u001B[0;32m--> 542\u001B[0;31m         \u001B[0mresp\u001B[0m \u001B[0;34m=\u001B[0m \u001B[0mself\u001B[0m\u001B[0;34m.\u001B[0m\u001B[0msend\u001B[0m\u001B[0;34m(\u001B[0m\u001B[0mprep\u001B[0m\u001B[0;34m,\u001B[0m \u001B[0;34m**\u001B[0m\u001B[0msend_kwargs\u001B[0m\u001B[0;34m)\u001B[0m\u001B[0;34m\u001B[0m\u001B[0;34m\u001B[0m\u001B[0m\n\u001B[0m\u001B[1;32m    543\u001B[0m \u001B[0;34m\u001B[0m\u001B[0m\n\u001B[1;32m    544\u001B[0m         \u001B[0;32mreturn\u001B[0m \u001B[0mresp\u001B[0m\u001B[0;34m\u001B[0m\u001B[0;34m\u001B[0m\u001B[0m\n",
      "\u001B[0;32m~/Projects/social_diversity/socdiv_venv/lib/python3.10/site-packages/requests/sessions.py\u001B[0m in \u001B[0;36msend\u001B[0;34m(self, request, **kwargs)\u001B[0m\n\u001B[1;32m    653\u001B[0m \u001B[0;34m\u001B[0m\u001B[0m\n\u001B[1;32m    654\u001B[0m         \u001B[0;31m# Send the request\u001B[0m\u001B[0;34m\u001B[0m\u001B[0;34m\u001B[0m\u001B[0m\n\u001B[0;32m--> 655\u001B[0;31m         \u001B[0mr\u001B[0m \u001B[0;34m=\u001B[0m \u001B[0madapter\u001B[0m\u001B[0;34m.\u001B[0m\u001B[0msend\u001B[0m\u001B[0;34m(\u001B[0m\u001B[0mrequest\u001B[0m\u001B[0;34m,\u001B[0m \u001B[0;34m**\u001B[0m\u001B[0mkwargs\u001B[0m\u001B[0;34m)\u001B[0m\u001B[0;34m\u001B[0m\u001B[0;34m\u001B[0m\u001B[0m\n\u001B[0m\u001B[1;32m    656\u001B[0m \u001B[0;34m\u001B[0m\u001B[0m\n\u001B[1;32m    657\u001B[0m         \u001B[0;31m# Total elapsed time of the request (approximately)\u001B[0m\u001B[0;34m\u001B[0m\u001B[0;34m\u001B[0m\u001B[0m\n",
      "\u001B[0;32m~/Projects/social_diversity/socdiv_venv/lib/python3.10/site-packages/requests/adapters.py\u001B[0m in \u001B[0;36msend\u001B[0;34m(self, request, stream, timeout, verify, cert, proxies)\u001B[0m\n\u001B[1;32m    437\u001B[0m         \u001B[0;32mtry\u001B[0m\u001B[0;34m:\u001B[0m\u001B[0;34m\u001B[0m\u001B[0;34m\u001B[0m\u001B[0m\n\u001B[1;32m    438\u001B[0m             \u001B[0;32mif\u001B[0m \u001B[0;32mnot\u001B[0m \u001B[0mchunked\u001B[0m\u001B[0;34m:\u001B[0m\u001B[0;34m\u001B[0m\u001B[0;34m\u001B[0m\u001B[0m\n\u001B[0;32m--> 439\u001B[0;31m                 resp = conn.urlopen(\n\u001B[0m\u001B[1;32m    440\u001B[0m                     \u001B[0mmethod\u001B[0m\u001B[0;34m=\u001B[0m\u001B[0mrequest\u001B[0m\u001B[0;34m.\u001B[0m\u001B[0mmethod\u001B[0m\u001B[0;34m,\u001B[0m\u001B[0;34m\u001B[0m\u001B[0;34m\u001B[0m\u001B[0m\n\u001B[1;32m    441\u001B[0m                     \u001B[0murl\u001B[0m\u001B[0;34m=\u001B[0m\u001B[0murl\u001B[0m\u001B[0;34m,\u001B[0m\u001B[0;34m\u001B[0m\u001B[0;34m\u001B[0m\u001B[0m\n",
      "\u001B[0;32m~/Projects/social_diversity/socdiv_venv/lib/python3.10/site-packages/urllib3/connectionpool.py\u001B[0m in \u001B[0;36murlopen\u001B[0;34m(self, method, url, body, headers, retries, redirect, assert_same_host, timeout, pool_timeout, release_conn, chunked, body_pos, **response_kw)\u001B[0m\n\u001B[1;32m    697\u001B[0m \u001B[0;34m\u001B[0m\u001B[0m\n\u001B[1;32m    698\u001B[0m             \u001B[0;31m# Make the request on the httplib connection object.\u001B[0m\u001B[0;34m\u001B[0m\u001B[0;34m\u001B[0m\u001B[0m\n\u001B[0;32m--> 699\u001B[0;31m             httplib_response = self._make_request(\n\u001B[0m\u001B[1;32m    700\u001B[0m                 \u001B[0mconn\u001B[0m\u001B[0;34m,\u001B[0m\u001B[0;34m\u001B[0m\u001B[0;34m\u001B[0m\u001B[0m\n\u001B[1;32m    701\u001B[0m                 \u001B[0mmethod\u001B[0m\u001B[0;34m,\u001B[0m\u001B[0;34m\u001B[0m\u001B[0;34m\u001B[0m\u001B[0m\n",
      "\u001B[0;32m~/Projects/social_diversity/socdiv_venv/lib/python3.10/site-packages/urllib3/connectionpool.py\u001B[0m in \u001B[0;36m_make_request\u001B[0;34m(self, conn, method, url, timeout, chunked, **httplib_request_kw)\u001B[0m\n\u001B[1;32m    380\u001B[0m         \u001B[0;31m# Trigger any extra validation we need to do.\u001B[0m\u001B[0;34m\u001B[0m\u001B[0;34m\u001B[0m\u001B[0m\n\u001B[1;32m    381\u001B[0m         \u001B[0;32mtry\u001B[0m\u001B[0;34m:\u001B[0m\u001B[0;34m\u001B[0m\u001B[0;34m\u001B[0m\u001B[0m\n\u001B[0;32m--> 382\u001B[0;31m             \u001B[0mself\u001B[0m\u001B[0;34m.\u001B[0m\u001B[0m_validate_conn\u001B[0m\u001B[0;34m(\u001B[0m\u001B[0mconn\u001B[0m\u001B[0;34m)\u001B[0m\u001B[0;34m\u001B[0m\u001B[0;34m\u001B[0m\u001B[0m\n\u001B[0m\u001B[1;32m    383\u001B[0m         \u001B[0;32mexcept\u001B[0m \u001B[0;34m(\u001B[0m\u001B[0mSocketTimeout\u001B[0m\u001B[0;34m,\u001B[0m \u001B[0mBaseSSLError\u001B[0m\u001B[0;34m)\u001B[0m \u001B[0;32mas\u001B[0m \u001B[0me\u001B[0m\u001B[0;34m:\u001B[0m\u001B[0;34m\u001B[0m\u001B[0;34m\u001B[0m\u001B[0m\n\u001B[1;32m    384\u001B[0m             \u001B[0;31m# Py2 raises this as a BaseSSLError, Py3 raises it as socket timeout.\u001B[0m\u001B[0;34m\u001B[0m\u001B[0;34m\u001B[0m\u001B[0m\n",
      "\u001B[0;32m~/Projects/social_diversity/socdiv_venv/lib/python3.10/site-packages/urllib3/connectionpool.py\u001B[0m in \u001B[0;36m_validate_conn\u001B[0;34m(self, conn)\u001B[0m\n\u001B[1;32m   1008\u001B[0m         \u001B[0;31m# Force connect early to allow us to validate the connection.\u001B[0m\u001B[0;34m\u001B[0m\u001B[0;34m\u001B[0m\u001B[0m\n\u001B[1;32m   1009\u001B[0m         \u001B[0;32mif\u001B[0m \u001B[0;32mnot\u001B[0m \u001B[0mgetattr\u001B[0m\u001B[0;34m(\u001B[0m\u001B[0mconn\u001B[0m\u001B[0;34m,\u001B[0m \u001B[0;34m\"sock\"\u001B[0m\u001B[0;34m,\u001B[0m \u001B[0;32mNone\u001B[0m\u001B[0;34m)\u001B[0m\u001B[0;34m:\u001B[0m  \u001B[0;31m# AppEngine might not have  `.sock`\u001B[0m\u001B[0;34m\u001B[0m\u001B[0;34m\u001B[0m\u001B[0m\n\u001B[0;32m-> 1010\u001B[0;31m             \u001B[0mconn\u001B[0m\u001B[0;34m.\u001B[0m\u001B[0mconnect\u001B[0m\u001B[0;34m(\u001B[0m\u001B[0;34m)\u001B[0m\u001B[0;34m\u001B[0m\u001B[0;34m\u001B[0m\u001B[0m\n\u001B[0m\u001B[1;32m   1011\u001B[0m \u001B[0;34m\u001B[0m\u001B[0m\n\u001B[1;32m   1012\u001B[0m         \u001B[0;32mif\u001B[0m \u001B[0;32mnot\u001B[0m \u001B[0mconn\u001B[0m\u001B[0;34m.\u001B[0m\u001B[0mis_verified\u001B[0m\u001B[0;34m:\u001B[0m\u001B[0;34m\u001B[0m\u001B[0;34m\u001B[0m\u001B[0m\n",
      "\u001B[0;32m~/Projects/social_diversity/socdiv_venv/lib/python3.10/site-packages/urllib3/connection.py\u001B[0m in \u001B[0;36mconnect\u001B[0;34m(self)\u001B[0m\n\u001B[1;32m    414\u001B[0m             \u001B[0mcontext\u001B[0m\u001B[0;34m.\u001B[0m\u001B[0mload_default_certs\u001B[0m\u001B[0;34m(\u001B[0m\u001B[0;34m)\u001B[0m\u001B[0;34m\u001B[0m\u001B[0;34m\u001B[0m\u001B[0m\n\u001B[1;32m    415\u001B[0m \u001B[0;34m\u001B[0m\u001B[0m\n\u001B[0;32m--> 416\u001B[0;31m         self.sock = ssl_wrap_socket(\n\u001B[0m\u001B[1;32m    417\u001B[0m             \u001B[0msock\u001B[0m\u001B[0;34m=\u001B[0m\u001B[0mconn\u001B[0m\u001B[0;34m,\u001B[0m\u001B[0;34m\u001B[0m\u001B[0;34m\u001B[0m\u001B[0m\n\u001B[1;32m    418\u001B[0m             \u001B[0mkeyfile\u001B[0m\u001B[0;34m=\u001B[0m\u001B[0mself\u001B[0m\u001B[0;34m.\u001B[0m\u001B[0mkey_file\u001B[0m\u001B[0;34m,\u001B[0m\u001B[0;34m\u001B[0m\u001B[0;34m\u001B[0m\u001B[0m\n",
      "\u001B[0;32m~/Projects/social_diversity/socdiv_venv/lib/python3.10/site-packages/urllib3/util/ssl_.py\u001B[0m in \u001B[0;36mssl_wrap_socket\u001B[0;34m(sock, keyfile, certfile, cert_reqs, ca_certs, server_hostname, ssl_version, ciphers, ssl_context, ca_cert_dir, key_password, ca_cert_data, tls_in_tls)\u001B[0m\n\u001B[1;32m    447\u001B[0m \u001B[0;34m\u001B[0m\u001B[0m\n\u001B[1;32m    448\u001B[0m     \u001B[0;32mif\u001B[0m \u001B[0msend_sni\u001B[0m\u001B[0;34m:\u001B[0m\u001B[0;34m\u001B[0m\u001B[0;34m\u001B[0m\u001B[0m\n\u001B[0;32m--> 449\u001B[0;31m         ssl_sock = _ssl_wrap_socket_impl(\n\u001B[0m\u001B[1;32m    450\u001B[0m             \u001B[0msock\u001B[0m\u001B[0;34m,\u001B[0m \u001B[0mcontext\u001B[0m\u001B[0;34m,\u001B[0m \u001B[0mtls_in_tls\u001B[0m\u001B[0;34m,\u001B[0m \u001B[0mserver_hostname\u001B[0m\u001B[0;34m=\u001B[0m\u001B[0mserver_hostname\u001B[0m\u001B[0;34m\u001B[0m\u001B[0;34m\u001B[0m\u001B[0m\n\u001B[1;32m    451\u001B[0m         )\n",
      "\u001B[0;32m~/Projects/social_diversity/socdiv_venv/lib/python3.10/site-packages/urllib3/util/ssl_.py\u001B[0m in \u001B[0;36m_ssl_wrap_socket_impl\u001B[0;34m(sock, ssl_context, tls_in_tls, server_hostname)\u001B[0m\n\u001B[1;32m    491\u001B[0m \u001B[0;34m\u001B[0m\u001B[0m\n\u001B[1;32m    492\u001B[0m     \u001B[0;32mif\u001B[0m \u001B[0mserver_hostname\u001B[0m\u001B[0;34m:\u001B[0m\u001B[0;34m\u001B[0m\u001B[0;34m\u001B[0m\u001B[0m\n\u001B[0;32m--> 493\u001B[0;31m         \u001B[0;32mreturn\u001B[0m \u001B[0mssl_context\u001B[0m\u001B[0;34m.\u001B[0m\u001B[0mwrap_socket\u001B[0m\u001B[0;34m(\u001B[0m\u001B[0msock\u001B[0m\u001B[0;34m,\u001B[0m \u001B[0mserver_hostname\u001B[0m\u001B[0;34m=\u001B[0m\u001B[0mserver_hostname\u001B[0m\u001B[0;34m)\u001B[0m\u001B[0;34m\u001B[0m\u001B[0;34m\u001B[0m\u001B[0m\n\u001B[0m\u001B[1;32m    494\u001B[0m     \u001B[0;32melse\u001B[0m\u001B[0;34m:\u001B[0m\u001B[0;34m\u001B[0m\u001B[0;34m\u001B[0m\u001B[0m\n\u001B[1;32m    495\u001B[0m         \u001B[0;32mreturn\u001B[0m \u001B[0mssl_context\u001B[0m\u001B[0;34m.\u001B[0m\u001B[0mwrap_socket\u001B[0m\u001B[0;34m(\u001B[0m\u001B[0msock\u001B[0m\u001B[0;34m)\u001B[0m\u001B[0;34m\u001B[0m\u001B[0;34m\u001B[0m\u001B[0m\n",
      "\u001B[0;32m/opt/homebrew/Cellar/python@3.10/3.10.0_2/Frameworks/Python.framework/Versions/3.10/lib/python3.10/ssl.py\u001B[0m in \u001B[0;36mwrap_socket\u001B[0;34m(self, sock, server_side, do_handshake_on_connect, suppress_ragged_eofs, server_hostname, session)\u001B[0m\n\u001B[1;32m    510\u001B[0m         \u001B[0;31m# SSLSocket class handles server_hostname encoding before it calls\u001B[0m\u001B[0;34m\u001B[0m\u001B[0;34m\u001B[0m\u001B[0m\n\u001B[1;32m    511\u001B[0m         \u001B[0;31m# ctx._wrap_socket()\u001B[0m\u001B[0;34m\u001B[0m\u001B[0;34m\u001B[0m\u001B[0m\n\u001B[0;32m--> 512\u001B[0;31m         return self.sslsocket_class._create(\n\u001B[0m\u001B[1;32m    513\u001B[0m             \u001B[0msock\u001B[0m\u001B[0;34m=\u001B[0m\u001B[0msock\u001B[0m\u001B[0;34m,\u001B[0m\u001B[0;34m\u001B[0m\u001B[0;34m\u001B[0m\u001B[0m\n\u001B[1;32m    514\u001B[0m             \u001B[0mserver_side\u001B[0m\u001B[0;34m=\u001B[0m\u001B[0mserver_side\u001B[0m\u001B[0;34m,\u001B[0m\u001B[0;34m\u001B[0m\u001B[0;34m\u001B[0m\u001B[0m\n",
      "\u001B[0;32m/opt/homebrew/Cellar/python@3.10/3.10.0_2/Frameworks/Python.framework/Versions/3.10/lib/python3.10/ssl.py\u001B[0m in \u001B[0;36m_create\u001B[0;34m(cls, sock, server_side, do_handshake_on_connect, suppress_ragged_eofs, server_hostname, context, session)\u001B[0m\n\u001B[1;32m   1068\u001B[0m                         \u001B[0;31m# non-blocking\u001B[0m\u001B[0;34m\u001B[0m\u001B[0;34m\u001B[0m\u001B[0m\n\u001B[1;32m   1069\u001B[0m                         \u001B[0;32mraise\u001B[0m \u001B[0mValueError\u001B[0m\u001B[0;34m(\u001B[0m\u001B[0;34m\"do_handshake_on_connect should not be specified for non-blocking sockets\"\u001B[0m\u001B[0;34m)\u001B[0m\u001B[0;34m\u001B[0m\u001B[0;34m\u001B[0m\u001B[0m\n\u001B[0;32m-> 1070\u001B[0;31m                     \u001B[0mself\u001B[0m\u001B[0;34m.\u001B[0m\u001B[0mdo_handshake\u001B[0m\u001B[0;34m(\u001B[0m\u001B[0;34m)\u001B[0m\u001B[0;34m\u001B[0m\u001B[0;34m\u001B[0m\u001B[0m\n\u001B[0m\u001B[1;32m   1071\u001B[0m             \u001B[0;32mexcept\u001B[0m \u001B[0;34m(\u001B[0m\u001B[0mOSError\u001B[0m\u001B[0;34m,\u001B[0m \u001B[0mValueError\u001B[0m\u001B[0;34m)\u001B[0m\u001B[0;34m:\u001B[0m\u001B[0;34m\u001B[0m\u001B[0;34m\u001B[0m\u001B[0m\n\u001B[1;32m   1072\u001B[0m                 \u001B[0mself\u001B[0m\u001B[0;34m.\u001B[0m\u001B[0mclose\u001B[0m\u001B[0;34m(\u001B[0m\u001B[0;34m)\u001B[0m\u001B[0;34m\u001B[0m\u001B[0;34m\u001B[0m\u001B[0m\n",
      "\u001B[0;32m/opt/homebrew/Cellar/python@3.10/3.10.0_2/Frameworks/Python.framework/Versions/3.10/lib/python3.10/ssl.py\u001B[0m in \u001B[0;36mdo_handshake\u001B[0;34m(self, block)\u001B[0m\n\u001B[1;32m   1339\u001B[0m             \u001B[0;32mif\u001B[0m \u001B[0mtimeout\u001B[0m \u001B[0;34m==\u001B[0m \u001B[0;36m0.0\u001B[0m \u001B[0;32mand\u001B[0m \u001B[0mblock\u001B[0m\u001B[0;34m:\u001B[0m\u001B[0;34m\u001B[0m\u001B[0;34m\u001B[0m\u001B[0m\n\u001B[1;32m   1340\u001B[0m                 \u001B[0mself\u001B[0m\u001B[0;34m.\u001B[0m\u001B[0msettimeout\u001B[0m\u001B[0;34m(\u001B[0m\u001B[0;32mNone\u001B[0m\u001B[0;34m)\u001B[0m\u001B[0;34m\u001B[0m\u001B[0;34m\u001B[0m\u001B[0m\n\u001B[0;32m-> 1341\u001B[0;31m             \u001B[0mself\u001B[0m\u001B[0;34m.\u001B[0m\u001B[0m_sslobj\u001B[0m\u001B[0;34m.\u001B[0m\u001B[0mdo_handshake\u001B[0m\u001B[0;34m(\u001B[0m\u001B[0;34m)\u001B[0m\u001B[0;34m\u001B[0m\u001B[0;34m\u001B[0m\u001B[0m\n\u001B[0m\u001B[1;32m   1342\u001B[0m         \u001B[0;32mfinally\u001B[0m\u001B[0;34m:\u001B[0m\u001B[0;34m\u001B[0m\u001B[0;34m\u001B[0m\u001B[0m\n\u001B[1;32m   1343\u001B[0m             \u001B[0mself\u001B[0m\u001B[0;34m.\u001B[0m\u001B[0msettimeout\u001B[0m\u001B[0;34m(\u001B[0m\u001B[0mtimeout\u001B[0m\u001B[0;34m)\u001B[0m\u001B[0;34m\u001B[0m\u001B[0;34m\u001B[0m\u001B[0m\n",
      "\u001B[0;31mKeyboardInterrupt\u001B[0m: "
     ]
    }
   ],
   "source": [
    "s = sddk.cloudSession(\"sciencedata.dk\", \"SDAM_root\", \"648597@au.dk\")\n",
    "figpath = \"SDAM_data/social_diversity/socdiv_figures/\"\n",
    "\n",
    "# global parameters for plots\n",
    "plt.style.use(\"seaborn-white\")\n",
    "plt.rcParams['figure.dpi'] = 300\n",
    "plt.rcParams[\"font.family\"] = \"sans-serif\"\n",
    "plt.rcParams['font.size'] = 8\n",
    "\n",
    "def save_figure(fig, fig_name):\n",
    "    #each figure to be saved in four different versions\n",
    "    fig.savefig(\"../figures/\" + fig_name + \".eps\", format=\"eps\")\n",
    "    fig.savefig(\"../figures/\" + fig_name + \".png\")\n",
    "    s.write_file(figpath + fig_name + \".eps\", fig)\n",
    "    s.write_file(figpath + fig_name + \".png\", fig)"
   ],
   "metadata": {
    "collapsed": false,
    "pycharm": {
     "name": "#%%\n"
    }
   }
  },
  {
   "cell_type": "code",
   "execution_count": 50,
   "outputs": [],
   "source": [
    "roman_cities = gpd.read_file(\"../data/roman_cities_pop.geojson\")"
   ],
   "metadata": {
    "collapsed": false,
    "pycharm": {
     "name": "#%%\n"
    }
   }
  },
  {
   "cell_type": "code",
   "execution_count": 51,
   "outputs": [
    {
     "data": {
      "text/plain": "   Primary key                   Name              Province  Population  \\\n0          992                   Roma  Italia (VII Etruria)      923406   \n1          110  Alexandria (Aegyptus)              Aegyptus      410535   \n2          172               Carthago  Africa Proconsularis      102170   \n3         1320              Syracusae               Silicia       83834   \n4          276                Ephesus                  Asia       71587   \n\n   associations  inscriptions          D(N) West / East  \n0           155        119532   1197.402620        West  \n1             7           203  14156.379310        East  \n2             7          8445     84.687981        West  \n3             1           578    145.041522        West  \n4             4           373    767.689008        East  ",
      "text/html": "<div>\n<style scoped>\n    .dataframe tbody tr th:only-of-type {\n        vertical-align: middle;\n    }\n\n    .dataframe tbody tr th {\n        vertical-align: top;\n    }\n\n    .dataframe thead th {\n        text-align: right;\n    }\n</style>\n<table border=\"1\" class=\"dataframe\">\n  <thead>\n    <tr style=\"text-align: right;\">\n      <th></th>\n      <th>Primary key</th>\n      <th>Name</th>\n      <th>Province</th>\n      <th>Population</th>\n      <th>associations</th>\n      <th>inscriptions</th>\n      <th>D(N)</th>\n      <th>West / East</th>\n    </tr>\n  </thead>\n  <tbody>\n    <tr>\n      <th>0</th>\n      <td>992</td>\n      <td>Roma</td>\n      <td>Italia (VII Etruria)</td>\n      <td>923406</td>\n      <td>155</td>\n      <td>119532</td>\n      <td>1197.402620</td>\n      <td>West</td>\n    </tr>\n    <tr>\n      <th>1</th>\n      <td>110</td>\n      <td>Alexandria (Aegyptus)</td>\n      <td>Aegyptus</td>\n      <td>410535</td>\n      <td>7</td>\n      <td>203</td>\n      <td>14156.379310</td>\n      <td>East</td>\n    </tr>\n    <tr>\n      <th>2</th>\n      <td>172</td>\n      <td>Carthago</td>\n      <td>Africa Proconsularis</td>\n      <td>102170</td>\n      <td>7</td>\n      <td>8445</td>\n      <td>84.687981</td>\n      <td>West</td>\n    </tr>\n    <tr>\n      <th>3</th>\n      <td>1320</td>\n      <td>Syracusae</td>\n      <td>Silicia</td>\n      <td>83834</td>\n      <td>1</td>\n      <td>578</td>\n      <td>145.041522</td>\n      <td>West</td>\n    </tr>\n    <tr>\n      <th>4</th>\n      <td>276</td>\n      <td>Ephesus</td>\n      <td>Asia</td>\n      <td>71587</td>\n      <td>4</td>\n      <td>373</td>\n      <td>767.689008</td>\n      <td>East</td>\n    </tr>\n  </tbody>\n</table>\n</div>"
     },
     "execution_count": 51,
     "metadata": {},
     "output_type": "execute_result"
    }
   ],
   "source": [
    "# Hanson et al. 2017 on associations\n",
    "hanson_assoc = pd.read_excel(\"../data/hanson2017_supplementary.xlsx\")\n",
    "hanson_assoc.head(5)"
   ],
   "metadata": {
    "collapsed": false,
    "pycharm": {
     "name": "#%%\n"
    }
   }
  },
  {
   "cell_type": "code",
   "execution_count": 52,
   "outputs": [],
   "source": [
    "hanson_assoc[\"ID\"] = hanson_assoc[\"Primary key\"].apply(str)"
   ],
   "metadata": {
    "collapsed": false,
    "pycharm": {
     "name": "#%%\n"
    }
   }
  },
  {
   "cell_type": "code",
   "execution_count": 53,
   "outputs": [],
   "source": [
    "LIRE = gpd.read_parquet(\"../data/large_data/LIRE_occupsorgs_cats.parquet\")"
   ],
   "metadata": {
    "collapsed": false,
    "pycharm": {
     "name": "#%%\n"
    }
   }
  },
  {
   "cell_type": "code",
   "execution_count": 54,
   "outputs": [],
   "source": [
    "def get_5K_city(row):\n",
    "    city_id = None\n",
    "    if row[\"large_city_dist\"] <= 5000:\n",
    "        city_id = row[\"large_city_ID\"]\n",
    "    else:\n",
    "        if row[\"medium_city_dist\"] <= 5000:\n",
    "            city_id = row[\"medium_city_ID\"]\n",
    "        else:\n",
    "            if row[\"small_city_dist\"] <= 5000:\n",
    "                city_id = \"small\"\n",
    "    return city_id\n",
    "\n",
    "LIRE[\"5Kcity\"] = LIRE.apply(lambda row: get_5K_city(row), axis=1)"
   ],
   "metadata": {
    "collapsed": false,
    "pycharm": {
     "name": "#%%\n"
    }
   }
  },
  {
   "cell_type": "code",
   "execution_count": 60,
   "outputs": [],
   "source": [
    "def get_inscriptions(ID):\n",
    "    city_dict = {}\n",
    "    city_data = LIRE[LIRE[\"5Kcity\"]==str(ID)]\n",
    "    if len(city_data) > 0:\n",
    "        city_dict[\"inscr_N\"] = len(city_data)\n",
    "        city_dict[\"occups_list\"] = [el for sublist in city_data[\"occups\"] for el in sublist]\n",
    "        city_dict[\"occups_N\"] = city_data[\"occups_N\"].sum()\n",
    "        city_dict[\"organizations_N\"] = city_data[\"organizations_N\"].sum()\n",
    "        city_dict[\"organizations\"] = [el for sublist in city_data[\"organizations\"] for el in sublist]\n",
    "    return city_dict\n",
    "\n",
    "cities_dict_data = roman_cities[\"ID\"].apply(get_inscriptions)\n",
    "cities_inscr_data = pd.DataFrame(cities_dict_data.tolist())"
   ],
   "metadata": {
    "collapsed": false,
    "pycharm": {
     "name": "#%%\n"
    }
   }
  },
  {
   "cell_type": "code",
   "execution_count": 61,
   "outputs": [],
   "source": [
    "roman_cities = pd.concat([roman_cities, cities_inscr_data], axis=1)"
   ],
   "metadata": {
    "collapsed": false,
    "pycharm": {
     "name": "#%%\n"
    }
   }
  },
  {
   "cell_type": "markdown",
   "source": [],
   "metadata": {
    "collapsed": false
   }
  },
  {
   "cell_type": "code",
   "execution_count": 62,
   "outputs": [
    {
     "data": {
      "text/plain": "      Primary Key        Ancient Toponym Modern Toponym            Province_x  \\\n0   Hanson2016_13     Argos (Achaea) (2)          Argos                Achaea   \n1   Hanson2016_14                Athenae         Athens                Achaea   \n2   Hanson2016_28                  Delos          Delos                Achaea   \n3  Hanson2016_110  Alexandria (Aegyptus)     Alexandria              Aegyptus   \n4  Hanson2016_172               Carthago          Tunis  Africa Proconsularis   \n\n   Country Barrington Atlas Rank Barrington Atlas Reference  Start Date  \\\n0   Greece                     2                      58 D2        -900   \n1   Greece                     1                      59 B3        -900   \n2   Greece                4 or 5                      61 A3        -700   \n3    Egypt                     1                      74 B2        -322   \n4  Tunisia                     1                      32 F3         -49   \n\n   End Date                                Select Bibliography  ...  \\\n0       NaN  BNP; Boatwright 2000; DGRG; Hansen 2006; Hanse...  ...   \n1       NaN  Beloch 1886; BNP; Boatwright 2000; DGRG; Hanse...  ...   \n2       NaN  BNP; DGRG; Hansen and Nielsen 2004; PECS; Sear...  ...   \n3       NaN  Beloch 1886; Bowman 2011; Cohen 2006; Humphrey...  ...   \n4       NaN  Bomgardner 2000; Brunt 1971; Cornell and Mathe...  ...   \n\n   organizations_N organizations  Primary key                   Name  \\\n0              0.0            []           13                  Argos   \n1              0.0            []           14                Athenae   \n2              NaN           NaN           28                  Delos   \n3              0.0            []          110  Alexandria (Aegyptus)   \n4              0.0            []          172               Carthago   \n\n             Province_y  Population  associations  inscriptions          D(N)  \\\n0                Achaea       49453             1            24   2060.541667   \n1                Achaea       58114             5           275   1056.618182   \n2                Achaea       18364             7           149    862.738255   \n3              Aegyptus      410535             7           203  14156.379310   \n4  Africa Proconsularis      102170             7          8445     84.687981   \n\n   West / East  \n0         East  \n1         East  \n2         East  \n3         East  \n4         West  \n\n[5 rows x 35 columns]",
      "text/html": "<div>\n<style scoped>\n    .dataframe tbody tr th:only-of-type {\n        vertical-align: middle;\n    }\n\n    .dataframe tbody tr th {\n        vertical-align: top;\n    }\n\n    .dataframe thead th {\n        text-align: right;\n    }\n</style>\n<table border=\"1\" class=\"dataframe\">\n  <thead>\n    <tr style=\"text-align: right;\">\n      <th></th>\n      <th>Primary Key</th>\n      <th>Ancient Toponym</th>\n      <th>Modern Toponym</th>\n      <th>Province_x</th>\n      <th>Country</th>\n      <th>Barrington Atlas Rank</th>\n      <th>Barrington Atlas Reference</th>\n      <th>Start Date</th>\n      <th>End Date</th>\n      <th>Select Bibliography</th>\n      <th>...</th>\n      <th>organizations_N</th>\n      <th>organizations</th>\n      <th>Primary key</th>\n      <th>Name</th>\n      <th>Province_y</th>\n      <th>Population</th>\n      <th>associations</th>\n      <th>inscriptions</th>\n      <th>D(N)</th>\n      <th>West / East</th>\n    </tr>\n  </thead>\n  <tbody>\n    <tr>\n      <th>0</th>\n      <td>Hanson2016_13</td>\n      <td>Argos (Achaea) (2)</td>\n      <td>Argos</td>\n      <td>Achaea</td>\n      <td>Greece</td>\n      <td>2</td>\n      <td>58 D2</td>\n      <td>-900</td>\n      <td>NaN</td>\n      <td>BNP; Boatwright 2000; DGRG; Hansen 2006; Hanse...</td>\n      <td>...</td>\n      <td>0.0</td>\n      <td>[]</td>\n      <td>13</td>\n      <td>Argos</td>\n      <td>Achaea</td>\n      <td>49453</td>\n      <td>1</td>\n      <td>24</td>\n      <td>2060.541667</td>\n      <td>East</td>\n    </tr>\n    <tr>\n      <th>1</th>\n      <td>Hanson2016_14</td>\n      <td>Athenae</td>\n      <td>Athens</td>\n      <td>Achaea</td>\n      <td>Greece</td>\n      <td>1</td>\n      <td>59 B3</td>\n      <td>-900</td>\n      <td>NaN</td>\n      <td>Beloch 1886; BNP; Boatwright 2000; DGRG; Hanse...</td>\n      <td>...</td>\n      <td>0.0</td>\n      <td>[]</td>\n      <td>14</td>\n      <td>Athenae</td>\n      <td>Achaea</td>\n      <td>58114</td>\n      <td>5</td>\n      <td>275</td>\n      <td>1056.618182</td>\n      <td>East</td>\n    </tr>\n    <tr>\n      <th>2</th>\n      <td>Hanson2016_28</td>\n      <td>Delos</td>\n      <td>Delos</td>\n      <td>Achaea</td>\n      <td>Greece</td>\n      <td>4 or 5</td>\n      <td>61 A3</td>\n      <td>-700</td>\n      <td>NaN</td>\n      <td>BNP; DGRG; Hansen and Nielsen 2004; PECS; Sear...</td>\n      <td>...</td>\n      <td>NaN</td>\n      <td>NaN</td>\n      <td>28</td>\n      <td>Delos</td>\n      <td>Achaea</td>\n      <td>18364</td>\n      <td>7</td>\n      <td>149</td>\n      <td>862.738255</td>\n      <td>East</td>\n    </tr>\n    <tr>\n      <th>3</th>\n      <td>Hanson2016_110</td>\n      <td>Alexandria (Aegyptus)</td>\n      <td>Alexandria</td>\n      <td>Aegyptus</td>\n      <td>Egypt</td>\n      <td>1</td>\n      <td>74 B2</td>\n      <td>-322</td>\n      <td>NaN</td>\n      <td>Beloch 1886; Bowman 2011; Cohen 2006; Humphrey...</td>\n      <td>...</td>\n      <td>0.0</td>\n      <td>[]</td>\n      <td>110</td>\n      <td>Alexandria (Aegyptus)</td>\n      <td>Aegyptus</td>\n      <td>410535</td>\n      <td>7</td>\n      <td>203</td>\n      <td>14156.379310</td>\n      <td>East</td>\n    </tr>\n    <tr>\n      <th>4</th>\n      <td>Hanson2016_172</td>\n      <td>Carthago</td>\n      <td>Tunis</td>\n      <td>Africa Proconsularis</td>\n      <td>Tunisia</td>\n      <td>1</td>\n      <td>32 F3</td>\n      <td>-49</td>\n      <td>NaN</td>\n      <td>Bomgardner 2000; Brunt 1971; Cornell and Mathe...</td>\n      <td>...</td>\n      <td>0.0</td>\n      <td>[]</td>\n      <td>172</td>\n      <td>Carthago</td>\n      <td>Africa Proconsularis</td>\n      <td>102170</td>\n      <td>7</td>\n      <td>8445</td>\n      <td>84.687981</td>\n      <td>West</td>\n    </tr>\n  </tbody>\n</table>\n<p>5 rows × 35 columns</p>\n</div>"
     },
     "execution_count": 62,
     "metadata": {},
     "output_type": "execute_result"
    }
   ],
   "source": [
    "cities_merged = pd.merge(roman_cities, hanson_assoc, on=\"ID\", how=\"inner\")\n",
    "cities_merged.head(5)"
   ],
   "metadata": {
    "collapsed": false,
    "pycharm": {
     "name": "#%%\n"
    }
   }
  },
  {
   "cell_type": "code",
   "execution_count": 64,
   "outputs": [
    {
     "data": {
      "text/plain": "210"
     },
     "execution_count": 64,
     "metadata": {},
     "output_type": "execute_result"
    }
   ],
   "source": [
    "len(cities_merged)"
   ],
   "metadata": {
    "collapsed": false,
    "pycharm": {
     "name": "#%%\n"
    }
   }
  },
  {
   "cell_type": "code",
   "execution_count": 67,
   "outputs": [
    {
     "data": {
      "text/plain": "     inscr_N  occups_N  organizations_N  associations  inscriptions\n0        7.0       0.0              0.0             1            24\n1       60.0       1.0              0.0             5           275\n2        NaN       NaN              NaN             7           149\n3       35.0       0.0              0.0             7           203\n4      409.0       8.0              0.0             7          8445\n..       ...       ...              ...           ...           ...\n205     13.0       0.0              0.0             1            69\n206      NaN       NaN              NaN             1            28\n207      5.0       0.0              0.0             1            15\n208      4.0       0.0              0.0             1            22\n209      NaN       NaN              NaN             5            45\n\n[210 rows x 5 columns]",
      "text/html": "<div>\n<style scoped>\n    .dataframe tbody tr th:only-of-type {\n        vertical-align: middle;\n    }\n\n    .dataframe tbody tr th {\n        vertical-align: top;\n    }\n\n    .dataframe thead th {\n        text-align: right;\n    }\n</style>\n<table border=\"1\" class=\"dataframe\">\n  <thead>\n    <tr style=\"text-align: right;\">\n      <th></th>\n      <th>inscr_N</th>\n      <th>occups_N</th>\n      <th>organizations_N</th>\n      <th>associations</th>\n      <th>inscriptions</th>\n    </tr>\n  </thead>\n  <tbody>\n    <tr>\n      <th>0</th>\n      <td>7.0</td>\n      <td>0.0</td>\n      <td>0.0</td>\n      <td>1</td>\n      <td>24</td>\n    </tr>\n    <tr>\n      <th>1</th>\n      <td>60.0</td>\n      <td>1.0</td>\n      <td>0.0</td>\n      <td>5</td>\n      <td>275</td>\n    </tr>\n    <tr>\n      <th>2</th>\n      <td>NaN</td>\n      <td>NaN</td>\n      <td>NaN</td>\n      <td>7</td>\n      <td>149</td>\n    </tr>\n    <tr>\n      <th>3</th>\n      <td>35.0</td>\n      <td>0.0</td>\n      <td>0.0</td>\n      <td>7</td>\n      <td>203</td>\n    </tr>\n    <tr>\n      <th>4</th>\n      <td>409.0</td>\n      <td>8.0</td>\n      <td>0.0</td>\n      <td>7</td>\n      <td>8445</td>\n    </tr>\n    <tr>\n      <th>...</th>\n      <td>...</td>\n      <td>...</td>\n      <td>...</td>\n      <td>...</td>\n      <td>...</td>\n    </tr>\n    <tr>\n      <th>205</th>\n      <td>13.0</td>\n      <td>0.0</td>\n      <td>0.0</td>\n      <td>1</td>\n      <td>69</td>\n    </tr>\n    <tr>\n      <th>206</th>\n      <td>NaN</td>\n      <td>NaN</td>\n      <td>NaN</td>\n      <td>1</td>\n      <td>28</td>\n    </tr>\n    <tr>\n      <th>207</th>\n      <td>5.0</td>\n      <td>0.0</td>\n      <td>0.0</td>\n      <td>1</td>\n      <td>15</td>\n    </tr>\n    <tr>\n      <th>208</th>\n      <td>4.0</td>\n      <td>0.0</td>\n      <td>0.0</td>\n      <td>1</td>\n      <td>22</td>\n    </tr>\n    <tr>\n      <th>209</th>\n      <td>NaN</td>\n      <td>NaN</td>\n      <td>NaN</td>\n      <td>5</td>\n      <td>45</td>\n    </tr>\n  </tbody>\n</table>\n<p>210 rows × 5 columns</p>\n</div>"
     },
     "execution_count": 67,
     "metadata": {},
     "output_type": "execute_result"
    }
   ],
   "source": [
    "cities_merged[['inscr_N', 'occups_N', \"organizations_N\", \"associations\", \"inscriptions\"]]"
   ],
   "metadata": {
    "collapsed": false,
    "pycharm": {
     "name": "#%%\n"
    }
   }
  },
  {
   "cell_type": "code",
   "execution_count": 68,
   "outputs": [
    {
     "data": {
      "text/plain": "210"
     },
     "execution_count": 68,
     "metadata": {},
     "output_type": "execute_result"
    }
   ],
   "source": [
    "len(cities_merged)"
   ],
   "metadata": {
    "collapsed": false,
    "pycharm": {
     "name": "#%%\n"
    }
   }
  },
  {
   "cell_type": "code",
   "execution_count": 77,
   "outputs": [
    {
     "data": {
      "text/plain": "175"
     },
     "execution_count": 77,
     "metadata": {},
     "output_type": "execute_result"
    }
   ],
   "source": [
    "cities_merged_w = cities_merged[(cities_merged[\"western_province\"]==True) & (cities_merged[\"Ancient Toponym\"]!=\"Roma\")]\n",
    "len(cities_merged_w)"
   ],
   "metadata": {
    "collapsed": false,
    "pycharm": {
     "name": "#%%\n"
    }
   }
  },
  {
   "cell_type": "code",
   "execution_count": 78,
   "outputs": [],
   "source": [
    "cities_merged_quant = cities_merged[cities_merged[\"Ancient Toponym\"]!=\"Roma\"][['inscr_N', 'occups_N', 'organizations_N', \"associations\", \"inscriptions\", \"D(N)\"]]"
   ],
   "metadata": {
    "collapsed": false,
    "pycharm": {
     "name": "#%%\n"
    }
   }
  },
  {
   "cell_type": "code",
   "execution_count": 79,
   "outputs": [],
   "source": [
    "corr_matrix = cities_merged_quant.corr().round(2)"
   ],
   "metadata": {
    "collapsed": false,
    "pycharm": {
     "name": "#%%\n"
    }
   }
  },
  {
   "cell_type": "code",
   "execution_count": 80,
   "outputs": [
    {
     "data": {
      "text/plain": "                 inscr_N  occups_N  organizations_N  associations  \\\ninscr_N             1.00      0.69             0.68          0.50   \noccups_N            0.69      1.00             0.88          0.71   \norganizations_N     0.68      0.88             1.00          0.59   \nassociations        0.50      0.71             0.59          1.00   \ninscriptions        0.76      0.47             0.40          0.60   \nD(N)               -0.01      0.01             0.01          0.08   \n\n                 inscriptions  D(N)  \ninscr_N                  0.76 -0.01  \noccups_N                 0.47  0.01  \norganizations_N          0.40  0.01  \nassociations             0.60  0.08  \ninscriptions             1.00 -0.08  \nD(N)                    -0.08  1.00  ",
      "text/html": "<div>\n<style scoped>\n    .dataframe tbody tr th:only-of-type {\n        vertical-align: middle;\n    }\n\n    .dataframe tbody tr th {\n        vertical-align: top;\n    }\n\n    .dataframe thead th {\n        text-align: right;\n    }\n</style>\n<table border=\"1\" class=\"dataframe\">\n  <thead>\n    <tr style=\"text-align: right;\">\n      <th></th>\n      <th>inscr_N</th>\n      <th>occups_N</th>\n      <th>organizations_N</th>\n      <th>associations</th>\n      <th>inscriptions</th>\n      <th>D(N)</th>\n    </tr>\n  </thead>\n  <tbody>\n    <tr>\n      <th>inscr_N</th>\n      <td>1.00</td>\n      <td>0.69</td>\n      <td>0.68</td>\n      <td>0.50</td>\n      <td>0.76</td>\n      <td>-0.01</td>\n    </tr>\n    <tr>\n      <th>occups_N</th>\n      <td>0.69</td>\n      <td>1.00</td>\n      <td>0.88</td>\n      <td>0.71</td>\n      <td>0.47</td>\n      <td>0.01</td>\n    </tr>\n    <tr>\n      <th>organizations_N</th>\n      <td>0.68</td>\n      <td>0.88</td>\n      <td>1.00</td>\n      <td>0.59</td>\n      <td>0.40</td>\n      <td>0.01</td>\n    </tr>\n    <tr>\n      <th>associations</th>\n      <td>0.50</td>\n      <td>0.71</td>\n      <td>0.59</td>\n      <td>1.00</td>\n      <td>0.60</td>\n      <td>0.08</td>\n    </tr>\n    <tr>\n      <th>inscriptions</th>\n      <td>0.76</td>\n      <td>0.47</td>\n      <td>0.40</td>\n      <td>0.60</td>\n      <td>1.00</td>\n      <td>-0.08</td>\n    </tr>\n    <tr>\n      <th>D(N)</th>\n      <td>-0.01</td>\n      <td>0.01</td>\n      <td>0.01</td>\n      <td>0.08</td>\n      <td>-0.08</td>\n      <td>1.00</td>\n    </tr>\n  </tbody>\n</table>\n</div>"
     },
     "execution_count": 80,
     "metadata": {},
     "output_type": "execute_result"
    }
   ],
   "source": [
    "corr_matrix"
   ],
   "metadata": {
    "collapsed": false,
    "pycharm": {
     "name": "#%%\n"
    }
   }
  },
  {
   "cell_type": "code",
   "execution_count": null,
   "outputs": [],
   "source": [],
   "metadata": {
    "collapsed": false,
    "pycharm": {
     "name": "#%%\n"
    }
   }
  }
 ],
 "metadata": {
  "kernelspec": {
   "name": "socdiv_venv",
   "language": "python",
   "display_name": "socdiv_venv"
  },
  "language_info": {
   "codemirror_mode": {
    "name": "ipython",
    "version": 2
   },
   "file_extension": ".py",
   "mimetype": "text/x-python",
   "name": "python",
   "nbconvert_exporter": "python",
   "pygments_lexer": "ipython2",
   "version": "2.7.6"
  }
 },
 "nbformat": 4,
 "nbformat_minor": 0
}