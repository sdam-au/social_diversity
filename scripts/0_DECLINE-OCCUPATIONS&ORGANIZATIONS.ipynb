{
 "cells": [
  {
   "cell_type": "markdown",
   "source": [],
   "metadata": {
    "collapsed": false
   }
  },
  {
   "cell_type": "code",
   "execution_count": 1,
   "metadata": {
    "trusted": true
   },
   "outputs": [],
   "source": [
    "import geopandas as gpd\n",
    "import pandas as pd\n",
    "import re\n",
    "import json"
   ]
  },
  {
   "cell_type": "code",
   "execution_count": 126,
   "metadata": {
    "trusted": true
   },
   "outputs": [
    {
     "data": {
      "text/plain": "          Term gen_sg Term2 Vocab_nom_sg             Source  HISCO_majorgroup  \\\n0    abetarius      i   NaN          NaN  Petrikovits 1981a               8.0   \n1   abietarius      i   NaN          NaN  Petrikovits 1981a               8.0   \n2     acceptor   oris   NaN     acceptor    Waltzing - Rome               3.0   \n3  accomodator   oris   NaN          NaN  Petrikovits 1981a               9.0   \n4      aceptor   oris   NaN          NaN  Petrikovits 1981a               3.0   \n\n   HISCO_minorgroup Harris_Category  Subcategory  \\\n0              81.0        Building  Wood worker   \n1              81.0        Building  Wood worker   \n2              31.0         Finance          NaN   \n3              99.0    Unclassified          NaN   \n4              31.0         Finance          NaN   \n\n                   Translation_eng  \n0            a joiner, wood worker  \n1            a joiner, wood worker  \n2  collector, gold quality checker  \n3             uncertain, craftsman  \n4  collector, gold quality checker  ",
      "text/html": "<div>\n<style scoped>\n    .dataframe tbody tr th:only-of-type {\n        vertical-align: middle;\n    }\n\n    .dataframe tbody tr th {\n        vertical-align: top;\n    }\n\n    .dataframe thead th {\n        text-align: right;\n    }\n</style>\n<table border=\"1\" class=\"dataframe\">\n  <thead>\n    <tr style=\"text-align: right;\">\n      <th></th>\n      <th>Term</th>\n      <th>gen_sg</th>\n      <th>Term2</th>\n      <th>Vocab_nom_sg</th>\n      <th>Source</th>\n      <th>HISCO_majorgroup</th>\n      <th>HISCO_minorgroup</th>\n      <th>Harris_Category</th>\n      <th>Subcategory</th>\n      <th>Translation_eng</th>\n    </tr>\n  </thead>\n  <tbody>\n    <tr>\n      <th>0</th>\n      <td>abetarius</td>\n      <td>i</td>\n      <td>NaN</td>\n      <td>NaN</td>\n      <td>Petrikovits 1981a</td>\n      <td>8.0</td>\n      <td>81.0</td>\n      <td>Building</td>\n      <td>Wood worker</td>\n      <td>a joiner, wood worker</td>\n    </tr>\n    <tr>\n      <th>1</th>\n      <td>abietarius</td>\n      <td>i</td>\n      <td>NaN</td>\n      <td>NaN</td>\n      <td>Petrikovits 1981a</td>\n      <td>8.0</td>\n      <td>81.0</td>\n      <td>Building</td>\n      <td>Wood worker</td>\n      <td>a joiner, wood worker</td>\n    </tr>\n    <tr>\n      <th>2</th>\n      <td>acceptor</td>\n      <td>oris</td>\n      <td>NaN</td>\n      <td>acceptor</td>\n      <td>Waltzing - Rome</td>\n      <td>3.0</td>\n      <td>31.0</td>\n      <td>Finance</td>\n      <td>NaN</td>\n      <td>collector, gold quality checker</td>\n    </tr>\n    <tr>\n      <th>3</th>\n      <td>accomodator</td>\n      <td>oris</td>\n      <td>NaN</td>\n      <td>NaN</td>\n      <td>Petrikovits 1981a</td>\n      <td>9.0</td>\n      <td>99.0</td>\n      <td>Unclassified</td>\n      <td>NaN</td>\n      <td>uncertain, craftsman</td>\n    </tr>\n    <tr>\n      <th>4</th>\n      <td>aceptor</td>\n      <td>oris</td>\n      <td>NaN</td>\n      <td>NaN</td>\n      <td>Petrikovits 1981a</td>\n      <td>3.0</td>\n      <td>31.0</td>\n      <td>Finance</td>\n      <td>NaN</td>\n      <td>collector, gold quality checker</td>\n    </tr>\n  </tbody>\n</table>\n</div>"
     },
     "execution_count": 126,
     "metadata": {},
     "output_type": "execute_result"
    }
   ],
   "source": [
    "occupations_df = pd.read_csv(\"../data/occupations_list_hisco.csv\")\n",
    "occupations_df.head(5)"
   ]
  },
  {
   "cell_type": "code",
   "execution_count": 127,
   "outputs": [
    {
     "data": {
      "text/plain": "          Term gen_sg Term2 Vocab_nom_sg             Source  HISCO_majorgroup  \\\n0    abetarius      i   NaN    abetarius  Petrikovits 1981a               8.0   \n1   abietarius      i   NaN   abietarius  Petrikovits 1981a               8.0   \n2     acceptor   oris   NaN     acceptor    Waltzing - Rome               3.0   \n3  accomodator   oris   NaN  accomodator  Petrikovits 1981a               9.0   \n4      aceptor   oris   NaN      aceptor  Petrikovits 1981a               3.0   \n\n   HISCO_minorgroup Harris_Category  Subcategory  \\\n0              81.0        Building  Wood worker   \n1              81.0        Building  Wood worker   \n2              31.0         Finance          NaN   \n3              99.0    Unclassified          NaN   \n4              31.0         Finance          NaN   \n\n                   Translation_eng  \n0            a joiner, wood worker  \n1            a joiner, wood worker  \n2  collector, gold quality checker  \n3             uncertain, craftsman  \n4  collector, gold quality checker  ",
      "text/html": "<div>\n<style scoped>\n    .dataframe tbody tr th:only-of-type {\n        vertical-align: middle;\n    }\n\n    .dataframe tbody tr th {\n        vertical-align: top;\n    }\n\n    .dataframe thead th {\n        text-align: right;\n    }\n</style>\n<table border=\"1\" class=\"dataframe\">\n  <thead>\n    <tr style=\"text-align: right;\">\n      <th></th>\n      <th>Term</th>\n      <th>gen_sg</th>\n      <th>Term2</th>\n      <th>Vocab_nom_sg</th>\n      <th>Source</th>\n      <th>HISCO_majorgroup</th>\n      <th>HISCO_minorgroup</th>\n      <th>Harris_Category</th>\n      <th>Subcategory</th>\n      <th>Translation_eng</th>\n    </tr>\n  </thead>\n  <tbody>\n    <tr>\n      <th>0</th>\n      <td>abetarius</td>\n      <td>i</td>\n      <td>NaN</td>\n      <td>abetarius</td>\n      <td>Petrikovits 1981a</td>\n      <td>8.0</td>\n      <td>81.0</td>\n      <td>Building</td>\n      <td>Wood worker</td>\n      <td>a joiner, wood worker</td>\n    </tr>\n    <tr>\n      <th>1</th>\n      <td>abietarius</td>\n      <td>i</td>\n      <td>NaN</td>\n      <td>abietarius</td>\n      <td>Petrikovits 1981a</td>\n      <td>8.0</td>\n      <td>81.0</td>\n      <td>Building</td>\n      <td>Wood worker</td>\n      <td>a joiner, wood worker</td>\n    </tr>\n    <tr>\n      <th>2</th>\n      <td>acceptor</td>\n      <td>oris</td>\n      <td>NaN</td>\n      <td>acceptor</td>\n      <td>Waltzing - Rome</td>\n      <td>3.0</td>\n      <td>31.0</td>\n      <td>Finance</td>\n      <td>NaN</td>\n      <td>collector, gold quality checker</td>\n    </tr>\n    <tr>\n      <th>3</th>\n      <td>accomodator</td>\n      <td>oris</td>\n      <td>NaN</td>\n      <td>accomodator</td>\n      <td>Petrikovits 1981a</td>\n      <td>9.0</td>\n      <td>99.0</td>\n      <td>Unclassified</td>\n      <td>NaN</td>\n      <td>uncertain, craftsman</td>\n    </tr>\n    <tr>\n      <th>4</th>\n      <td>aceptor</td>\n      <td>oris</td>\n      <td>NaN</td>\n      <td>aceptor</td>\n      <td>Petrikovits 1981a</td>\n      <td>3.0</td>\n      <td>31.0</td>\n      <td>Finance</td>\n      <td>NaN</td>\n      <td>collector, gold quality checker</td>\n    </tr>\n  </tbody>\n</table>\n</div>"
     },
     "execution_count": 127,
     "metadata": {},
     "output_type": "execute_result"
    }
   ],
   "source": [
    "def update_vocab_nom_sg(row):\n",
    "    vocab_nom_sg = row[\"Vocab_nom_sg\"]\n",
    "    if isinstance(vocab_nom_sg, float):\n",
    "        vocab_nom_sg = row[\"Term\"]\n",
    "    return vocab_nom_sg\n",
    "\n",
    "occupations_df[\"Vocab_nom_sg\"] = occupations_df.apply(lambda row: update_vocab_nom_sg(row), axis=1)\n",
    "occupations_df.head(5)"
   ],
   "metadata": {
    "collapsed": false,
    "pycharm": {
     "name": "#%%\n"
    }
   }
  },
  {
   "cell_type": "code",
   "execution_count": 128,
   "metadata": {
    "trusted": true
   },
   "outputs": [
    {
     "data": {
      "text/plain": "[('abetarius', 'i', 'abetarius', nan),\n ('abietarius', 'i', 'abietarius', nan),\n ('acceptor', 'oris', 'acceptor', nan),\n ('accomodator', 'oris', 'accomodator', nan),\n ('aceptor', 'oris', 'aceptor', nan)]"
     },
     "execution_count": 128,
     "metadata": {},
     "output_type": "execute_result"
    }
   ],
   "source": [
    "occup_tups = [(occup_nom, occup_gen, word_to_dec, term2) for occup_nom, occup_gen, word_to_dec, term2 in zip(occupations_df[\"Term\"], occupations_df[\"gen_sg\"], occupations_df[\"Vocab_nom_sg\"], occupations_df[\"Term2\"])]\n",
    "occup_tups[:5]"
   ]
  },
  {
   "cell_type": "code",
   "execution_count": 129,
   "metadata": {
    "trusted": true
   },
   "outputs": [
    {
     "data": {
      "text/plain": "[('negotiator artis vestiariae et lintiariae', 'oris', 'negotiator', nan),\n ('negotiator artis cretaria et vestiaria', 'oris', 'negotiator', nan),\n ('negotiator frumentariae et legumenaria', 'oris', 'negotiator', nan),\n ('negotiator suariae et pecuariae', 'oris', 'negotiator', nan),\n ('exactor auri argenti et aeris', 'oris', 'exactor', nan)]"
     },
     "execution_count": 129,
     "metadata": {},
     "output_type": "execute_result"
    }
   ],
   "source": [
    "# reorder from longest to shortest\n",
    "occup_tups = sorted(occup_tups, key = lambda x: len(x[0]), reverse=True)\n",
    "occup_tups[:5]"
   ]
  },
  {
   "cell_type": "code",
   "execution_count": 130,
   "metadata": {
    "trusted": true
   },
   "outputs": [
    {
     "data": {
      "text/plain": "          Term gen_sg Vocab_nom_sg            Source      Category  \\\n0     colegium      i     colegium          Waltzing  Organization   \n1    collegium      i    collegium          Waltzing  Organization   \n2  collegiatus      i  collegiatus          Waltzing    Membership   \n3    collegius      i    collegius          Waltzing    Membership   \n4      collega     ae      collega  Petra's addition    Membership   \n\n                          Translation_eng_LewisShort  \n0                      variant spelling of collegium  \n1  the connection of associates, colleagues, etc....  \n2  he who is with one in a society, college, corp...  \n3                             belonging to collegium  \n4  member of collegium, a partner in office, a co...  ",
      "text/html": "<div>\n<style scoped>\n    .dataframe tbody tr th:only-of-type {\n        vertical-align: middle;\n    }\n\n    .dataframe tbody tr th {\n        vertical-align: top;\n    }\n\n    .dataframe thead th {\n        text-align: right;\n    }\n</style>\n<table border=\"1\" class=\"dataframe\">\n  <thead>\n    <tr style=\"text-align: right;\">\n      <th></th>\n      <th>Term</th>\n      <th>gen_sg</th>\n      <th>Vocab_nom_sg</th>\n      <th>Source</th>\n      <th>Category</th>\n      <th>Translation_eng_LewisShort</th>\n    </tr>\n  </thead>\n  <tbody>\n    <tr>\n      <th>0</th>\n      <td>colegium</td>\n      <td>i</td>\n      <td>colegium</td>\n      <td>Waltzing</td>\n      <td>Organization</td>\n      <td>variant spelling of collegium</td>\n    </tr>\n    <tr>\n      <th>1</th>\n      <td>collegium</td>\n      <td>i</td>\n      <td>collegium</td>\n      <td>Waltzing</td>\n      <td>Organization</td>\n      <td>the connection of associates, colleagues, etc....</td>\n    </tr>\n    <tr>\n      <th>2</th>\n      <td>collegiatus</td>\n      <td>i</td>\n      <td>collegiatus</td>\n      <td>Waltzing</td>\n      <td>Membership</td>\n      <td>he who is with one in a society, college, corp...</td>\n    </tr>\n    <tr>\n      <th>3</th>\n      <td>collegius</td>\n      <td>i</td>\n      <td>collegius</td>\n      <td>Waltzing</td>\n      <td>Membership</td>\n      <td>belonging to collegium</td>\n    </tr>\n    <tr>\n      <th>4</th>\n      <td>collega</td>\n      <td>ae</td>\n      <td>collega</td>\n      <td>Petra's addition</td>\n      <td>Membership</td>\n      <td>member of collegium, a partner in office, a co...</td>\n    </tr>\n  </tbody>\n</table>\n</div>"
     },
     "execution_count": 130,
     "metadata": {},
     "output_type": "execute_result"
    }
   ],
   "source": [
    "organizations_df = pd.read_csv(\"../data/organizations_list.csv\")\n",
    "organizations_df.head(5)"
   ]
  },
  {
   "cell_type": "code",
   "execution_count": 131,
   "metadata": {
    "trusted": true
   },
   "outputs": [
    {
     "data": {
      "text/plain": "[('colegium', 'i', 'colegium'),\n ('collegium', 'i', 'collegium'),\n ('collegiatus', 'i', 'collegiatus'),\n ('collegius', 'i', 'collegius'),\n ('collega', 'ae', 'collega')]"
     },
     "execution_count": 131,
     "metadata": {},
     "output_type": "execute_result"
    }
   ],
   "source": [
    "organ_tups = [(organ_nom, organ_gen, word_to_dec) for organ_nom, organ_gen, word_to_dec in zip(organizations_df[\"Term\"].tolist(), organizations_df[\"gen_sg\"].tolist(), organizations_df[\"Vocab_nom_sg\"].tolist())]\n",
    "organ_tups[:5]"
   ]
  },
  {
   "cell_type": "code",
   "execution_count": 132,
   "metadata": {
    "trusted": true
   },
   "outputs": [
    {
     "data": {
      "text/plain": "[('collegatarius', 'i', 'collegatarius'),\n ('collegiarius', 'i', 'collegiarius'),\n ('collegiatus', 'i', 'collegiatus'),\n ('corporatus', 'i', 'corporatus'),\n ('sodalicium', 'i', 'sodalitium')]"
     },
     "execution_count": 132,
     "metadata": {},
     "output_type": "execute_result"
    }
   ],
   "source": [
    "# reorder from longest to shortest\n",
    "organ_tups = sorted(organ_tups, key = lambda x: len(x[0]), reverse=True)\n",
    "organ_tups[:5]"
   ]
  },
  {
   "cell_type": "code",
   "execution_count": 133,
   "metadata": {
    "trusted": true
   },
   "outputs": [],
   "source": [
    "# manually define declinations\n",
    "decs = {\n",
    "\"first_f\" : [\"a\", \"ae\", \"am\", \"e\", \"as\", \"arum\", \"is\"],\n",
    "\"first_gr_es\" : [\"es\",  \"ae\", \"en\", \"am\", \"e\", \"as\", \"arum\", \"is\", \"a\"],\n",
    "\n",
    "\"sec_m_us\" : [\"us\", \"i\", \"o\", \"um\", \"o\", \"i\", \"orum\", \"is\", \"os\"], # sg-nom, sg-gn, sg-dat, sg-ac, sg-abl, sg-nom, sg-gn, sg-dat, sg-ag\n",
    "\"sec_n\" : [\"um\", \"i\", \"o\", \"a\", \"orum\", \"is\"],\n",
    "\"sec_m_er\" : [\"er\", \"eri\", \"ero\", \"erum\" , \"eros\", \"erorum\", \"eris\"],\n",
    "\"sec_m_r\" : [\"er\", \"ri\", \"ro\", \"rum\" , \"ro\", \"ri\", \"rorum\", \"ris\", \"ros\"], # sg-nom, sg-gn, sg-dat, sg-ac, sg-abl, sg-nom, sg-gn, sg-dat, sg-ag\n",
    "\n",
    "\"sec_gr_os\" : [\"os\", \"i\", \"o\", \"on\" , \"e\", \"rorum\", \"ris\"],\n",
    "\"sec_gr_on\" : [\"on\", \"i\", \"o\", \"a\", \"orum\", \"is\"],\n",
    "\n",
    "\"third_m_1\" : [\"es\", \"itis\", \"iti\", \"ite\", \"ites\", \"itibus\", \"itum\"],\n",
    "\"third_m_2\" : [\"ix\", \"icis\", \"icem\", \"ici\", \"ice\", \"ices\", \"icibus\", \"icum\"],\n",
    "\"third_m_3\" : [\"ex\", \"icis\", \"icem\", \"ici\", \"ice\", \"ices\", \"icibus\", \"icum\"],\n",
    "\"third_m_4\" : [\"o\", \"onis\", \"onem\", \"oni\", \"one\", \"ones\", \"onibus\", \"onum\"],\n",
    "\"third_m_5a\" : [\"or\", \"oris\", \"ori\", \"orem\", \"ore\", \"ores\", \"orum\", \"oribus\", \"ores\"], # sg-nom, sg-gn, sg-dat, sg-ac, sg-abl, sg-nom, sg-gn, sg-dat, sg-ag\n",
    "\"third_m_5b\" : [\"ur\", \"uris\", \"urem\", \"uri\", \"ure\", \"ures\", \"uribus\", \"urum\"],\n",
    "\"third_m_6\" : [\"n\", \"nis\", \"nem\", \"ni\", \"ne\", \"nes\", \"nibus\", \"num\"],\n",
    "\"third_m_7a\" : [\"ensis\", \"ensis\", \"ensem\", \"ensi\", \"ense\", \"enses\", \"ensibus\", \"ensum\", \"ensium\"],\n",
    "\"third_m_7b\" : [\"esis\", \"esis\", \"esem\", \"esi\", \"ese\", \"eses\", \"esibus\", \"esum\", \"esium\"],\n",
    "\"third_m_8\" : [\"er\", \"eris\", \"erem\", \"eri\", \"ere\", \"eres\", \"eribus\", \"erum\", \"erium\"],\n",
    "\"third_m_9\" : [\"eps\", \"ipis\", \"ipem\", \"ipi\", \"ipe\", \"ipes\", \"ipibus\", \"ipum\"],\n",
    "\"third_m_10\" : [\"ans\", \"antis\", \"antem\", \"ante\", \"antes\", \"antium\", \"antum\", \"antibus\"],\n",
    "\"third_m_11\" : [\"er\", \"ineris\", \"ineri\", \"inere\", \"inera\", \"inerum\", \"ineribus\"],\n",
    "\"third_m_12\" : [\"ut\", \"itis\", \"iti\", \"ite\", \"ita\", \"itibus\", \"itum\"],\n",
    "\"third_m_13\" : [\"us\", \"oris\", \"ori\", \"ore\", \"ora\", \"orum\", \"oribus\"],\n",
    "    \n",
    "\"third_f_1\" : [\"as\", \"adis\", \"adi\", \"ade\", \"ades\", \"adum\", \"adium\", \"adibus\"],\n",
    "\"third_f_2\" : [\"as\", \"atis\", \"ati\", \"atem\", \"ate\", \"ates\", \"atum\", \"atibus\"],\n",
    "\n",
    "\"third_mix_1\" : [\"is\", \"is\", \"i\", \"em\", \"e\", \"es\", \"ium\", \"um\", \"ibus\"],\n",
    "\"third_mix_2\" : [\"ns\", \"ntis\", \"nti\", \"ntem\", \"nte\", \"ntes\", \"ntium\", \"ntum\", \"ntibus\"],\n",
    "    \n",
    "\"fourth_us\" : [\"us\", \"us\", \"ui\", \"um\", \"u\", \"uum\", \"ibus\"]\n",
    "}"
   ]
  },
  {
   "cell_type": "code",
   "execution_count": 134,
   "metadata": {
    "trusted": true
   },
   "outputs": [
    {
     "data": {
      "text/plain": "[('negotiator artis vestiariae et lintiariae', 'oris', 'negotiator', nan),\n ('negotiator artis cretaria et vestiaria', 'oris', 'negotiator', nan),\n ('negotiator frumentariae et legumenaria', 'oris', 'negotiator', nan),\n ('negotiator suariae et pecuariae', 'oris', 'negotiator', nan),\n ('exactor auri argenti et aeris', 'oris', 'exactor', nan)]"
     },
     "execution_count": 134,
     "metadata": {},
     "output_type": "execute_result"
    }
   ],
   "source": [
    "occup_tups = sorted(occup_tups, key = lambda x: len(x[0]), reverse=True)\n",
    "occup_tups[:5]"
   ]
  },
  {
   "cell_type": "code",
   "execution_count": 135,
   "outputs": [
    {
     "data": {
      "text/plain": "('boarius', 'i', 'boarius', nan)"
     },
     "execution_count": 135,
     "metadata": {},
     "output_type": "execute_result"
    }
   ],
   "source": [
    "term2_occup_tup = [tup for tup in occup_tups if tup[0] == \"boarius\"][0]\n",
    "term2_occup_tup"
   ],
   "metadata": {
    "collapsed": false,
    "pycharm": {
     "name": "#%%\n"
    }
   }
  },
  {
   "cell_type": "code",
   "execution_count": 136,
   "outputs": [
    {
     "data": {
      "text/plain": "['negotiator artis vestiariae et lintiariae',\n 'negotiator artis cretaria et vestiaria',\n 'negotiator frumentariae et legumenaria',\n 'negotiator suariae et pecuariae',\n 'exactor auri argenti et aeris',\n 'negotiator penoris et vinorum',\n 'negotiator salsari leguminari',\n 'negotiator artis macellariae',\n 'negotiator artis purpurariae',\n 'negotiator cellarum vinarium']"
     },
     "execution_count": 136,
     "metadata": {},
     "output_type": "execute_result"
    }
   ],
   "source": [
    "base_terms = [tup[0] for tup in occup_tups]\n",
    "base_terms[:10]"
   ],
   "metadata": {
    "collapsed": false,
    "pycharm": {
     "name": "#%%\n"
    }
   }
  },
  {
   "cell_type": "code",
   "execution_count": 137,
   "outputs": [
    {
     "data": {
      "text/plain": "['sagarius et pellicarius',\n 'salsamentarius et vinarius',\n 'soliarius baxiarius']"
     },
     "execution_count": 137,
     "metadata": {},
     "output_type": "execute_result"
    }
   ],
   "source": [
    "problematic = [tup[3] for tup in occup_tups if ((tup[3] not in base_terms)  & (isinstance(tup[3], str)))]\n",
    "problematic"
   ],
   "metadata": {
    "collapsed": false,
    "pycharm": {
     "name": "#%%\n"
    }
   }
  },
  {
   "cell_type": "code",
   "execution_count": 138,
   "metadata": {
    "trusted": true
   },
   "outputs": [],
   "source": [
    "def decline(nom_sg, ending):\n",
    "    possible_decs = []\n",
    "    for dec in decs.keys(): \n",
    "        if ending == decs[dec][1]:\n",
    "            possible_decs.append(dec)\n",
    "    for pos_dec in possible_decs:\n",
    "        nom_end = decs[pos_dec][0]\n",
    "        if re.match(\"\\w+\" + nom_end + \"$\", nom_sg):\n",
    "            root = re.split(nom_end + \"$\", nom_sg)[0]\n",
    "            all_morphs = [str(root) + end for end in decs[pos_dec]] # unique forms\n",
    "            break\n",
    "    try:\n",
    "        return all_morphs\n",
    "    except:\n",
    "        print(\"declining unsuccesful: \" + nom_sg, ending)\n",
    "        return [nom_sg] \n"
   ]
  },
  {
   "cell_type": "code",
   "execution_count": 144,
   "outputs": [
    {
     "name": "stdout",
     "output_type": "stream",
     "text": [
      "['negotiatorem sagarium et pellicarium', 'negotiator sagarius et pellicarius', 'negotiator sagarii et pellicarii', 'negotiatori sagariorum et pellicariorum', 'negotiatorum sagarii et pellicarii', 'negotiatoribus sagariorum et pellicariorum', 'negotiatores sagarios et pellicarios', 'negotiatore sagariorum et pellicariorum', 'negotiatores sagariorum et pellicariorum', 'negotiatorem sagariorum et pellicariorum', 'negotiatori sagarii et pellicarii', 'negotiatorem sagarii et pellicarii', 'negotiatoribus sagariis et pellicariis', 'negotiatori sagario et pellicario', 'negotiatore sagario et pellicario', 'negotiatore sagarii et pellicarii', 'negotiatoribus sagarii et pellicarii', 'negotiator sagariorum et pellicariorum', 'negotiatoris sagarii et pellicarii', 'negotiatoris sagariorum et pellicariorum', 'negotiatores sagarii et pellicarii', 'negotiatorum sagariorum et pellicariorum']\n",
      "['negotiatorem salsamentarium et vinarium', 'negotiator salsamentarius et vinarius', 'negotiatoribus salsamentariis et vinariis', 'negotiatorum salsamentariorum et vinariorum', 'negotiatore salsamentarii et vinarii', 'negotiatori salsamentarii et vinarii', 'negotiatoris salsamentariorum et vinariorum', 'negotiatores salsamentarios et vinarios', 'negotiatorem salsamentariorum et vinariorum', 'negotiatoris salsamentarii et vinarii', 'negotiatore salsamentario et vinario', 'negotiatori salsamentario et vinario', 'negotiatori salsamentariorum et vinariorum', 'negotiatores salsamentarii et vinarii', 'negotiator salsamentarii et vinarii', 'negotiatoribus salsamentarii et vinarii', 'negotiator salsamentariorum et vinariorum', 'negotiatores salsamentariorum et vinariorum', 'negotiatoribus salsamentariorum et vinariorum', 'negotiatorem salsamentarii et vinarii', 'negotiatorum salsamentarii et vinarii', 'negotiatore salsamentariorum et vinariorum']\n",
      "['fabri soliariorum baxiariorum', 'fabri soliariibaxiarii', 'fabro soliarii baxiarii', 'fabro soliariorum baxiariorum', 'faber soliariusbaxiarius', 'fabros soliariorum baxiariorum', 'fabri soliarii baxiarii', 'fabrorum soliariorumbaxiariorum', 'fabrorum soliariorum baxiariorum', 'fabrum soliarii baxiarii', 'fabros soliarii baxiarii', 'fabris soliarii baxiarii', 'fabrorum soliarii baxiarii', 'fabris soliariorum baxiariorum', 'fabrum soliariumbaxiarium', 'faber soliarii baxiarii', 'fabris soliariisbaxiariis', 'fabrum soliariorum baxiariorum', 'fabros soliariosbaxiarios', 'fabro soliariobaxiario', 'faber soliariorum baxiariorum']\n"
     ]
    }
   ],
   "source": [
    "occups_declined = []\n",
    "for occup_tup in occup_tups:\n",
    "    base_form = occup_tup[0]\n",
    "    if re.match(\"\\w+\\s\\w+\", base_form):\n",
    "        all_morphs = [base_form.replace(str(occup_tup[2]), morph) for morph in decline(occup_tup[2], occup_tup[1])]\n",
    "    else:\n",
    "        if isinstance(occup_tup[3], str):\n",
    "            if \" \" in occup_tup[3]:\n",
    "                term_1_declinations = decline(base_form, occup_tup[1])\n",
    "                if \" et \" in occup_tup[3]:\n",
    "                    twoterms = occup_tup[3].split(\" et \")\n",
    "                    et = True\n",
    "                else:\n",
    "                    twoterms = occup_tup[3].split()\n",
    "                    et = False\n",
    "                term2_occup_tup = [tup for tup in occup_tups if tup[0] == twoterms[0]][0]\n",
    "                term2_declinations = decline(term2_occup_tup[0], term2_occup_tup[1])\n",
    "                term3_occup_tup = [tup for tup in occup_tups if tup[0] == twoterms[1]][0]\n",
    "                term3_declinations = decline(term3_occup_tup[0], term2_occup_tup[1])\n",
    "                if et == True:\n",
    "                    all_morphs = [w1form + \" \" + w2form + \" et \" + w3form for w1form, w2form, w3form in zip(term_1_declinations, term2_declinations, term3_declinations)]\n",
    "                    all_morphs += [w1form + \" \" + term2_declinations[1] + \" et \" + term3_declinations[1] for w1form in term_1_declinations]\n",
    "                    all_morphs += [w1form + \" \" + term2_declinations[6] + \" et \" + term3_declinations[6] for w1form in term_1_declinations]\n",
    "                else:\n",
    "                    all_morphs = [w1form + \" \" + w2form + w3form for w1form, w2form, w3form in zip(term_1_declinations, term2_declinations, term3_declinations)]\n",
    "                    all_morphs += [w1form + \" \" + term2_declinations[1] + \" \" + term3_declinations[1] for w1form in term_1_declinations]\n",
    "                    all_morphs += [w1form + \" \" + term2_declinations[6] + \" \" + term3_declinations[6] for w1form in term_1_declinations]\n",
    "                base_form = all_morphs[0]\n",
    "                print(list(set(all_morphs)))\n",
    "            else:\n",
    "                term_1_declinations = decline(base_form, occup_tup[1])\n",
    "                term2_occup_tup = [tup for tup in occup_tups if tup[0] == occup_tup[3]][0]\n",
    "                term2_declinations = decline(term2_occup_tup[0], term2_occup_tup[1])\n",
    "                all_morphs = [w1form + \" \" + w2form for w1form, w2form in zip(term_1_declinations, term2_declinations)]\n",
    "                all_morphs += [w1form + \" \" + term2_declinations[1] for w1form in term_1_declinations]\n",
    "                all_morphs += [w1form + \" \" + term2_declinations[6] for w1form in term_1_declinations]\n",
    "                base_form = all_morphs[0]\n",
    "        else:\n",
    "            all_morphs = decline(base_form, occup_tup[1])\n",
    "    all_morphs = list(set(all_morphs))\n",
    "    occups_declined.append([base_form, all_morphs])"
   ],
   "metadata": {
    "collapsed": false,
    "pycharm": {
     "name": "#%%\n"
    }
   }
  },
  {
   "cell_type": "code",
   "execution_count": 147,
   "outputs": [
    {
     "data": {
      "text/plain": "['negotiator artis vestiariae et lintiariae',\n 'negotiator artis cretaria et vestiaria',\n 'negotiator frumentariae et legumenaria',\n 'negotiator salsamentarius et vinarius',\n 'negotiator sagarius et pellicarius',\n 'negotiator suariae et pecuariae',\n 'exactor auri argenti et aeris',\n 'negotiator penoris et vinorum',\n 'negotiator salsari leguminari',\n 'negotiator artis macellariae',\n 'negotiator artis purpurariae',\n 'negotiator cellarum vinarium',\n 'negotiator artis prossariae',\n 'negotiator artis vestiariae',\n 'negotiator artis ratiariae',\n 'inclusor auri et gemmarum',\n 'negotiator artis cretaria',\n 'negotiator campi pecuarii',\n 'negotiator manticularius',\n 'negotiator margaritarius']"
     },
     "execution_count": 147,
     "metadata": {},
     "output_type": "execute_result"
    }
   ],
   "source": [
    "occups_declined = sorted(occups_declined, key = lambda x: len(x[0]), reverse=True)\n",
    "[el[0] for el in occups_declined][:20]"
   ],
   "metadata": {
    "collapsed": false,
    "pycharm": {
     "name": "#%%\n"
    }
   }
  },
  {
   "cell_type": "code",
   "execution_count": 148,
   "outputs": [],
   "source": [
    "organizations_declined = []\n",
    "for organ_tup in organ_tups:\n",
    "    if re.match(\"\\w+\\s\\w+\", organ_tup[0]):\n",
    "        all_morphs = [organ_tup[0].replace(str(organ_tup[2]), morph) for morph in decline(organ_tup[2], organ_tup[1])]\n",
    "    else:\n",
    "        all_morphs = decline(organ_tup[0], organ_tup[1])\n",
    "    organizations_declined.append([str(organ_tup[0]), all_morphs])"
   ],
   "metadata": {
    "collapsed": false,
    "pycharm": {
     "name": "#%%\n"
    }
   }
  },
  {
   "cell_type": "code",
   "execution_count": 149,
   "metadata": {
    "trusted": true
   },
   "outputs": [],
   "source": [
    "occups_declined_dict = dict(occups_declined)\n",
    "organizations_declined_dict = dict(organizations_declined)"
   ]
  },
  {
   "cell_type": "code",
   "execution_count": 150,
   "metadata": {
    "trusted": true,
    "pycharm": {
     "name": "#%%\n"
    }
   },
   "outputs": [],
   "source": [
    "with open(\"../data/occups_declined_dict.json\", \"w\") as fp:\n",
    "    json.dump(occups_declined_dict, fp, indent=4)\n",
    "    \n",
    "with open(\"../data/organizations_declined_dict.json\", \"w\") as fp:\n",
    "    json.dump(organizations_declined_dict, fp, indent=4)"
   ]
  }
 ],
 "metadata": {
  "colab": {
   "authorship_tag": "ABX9TyOKWnvxv3tTbNERCRAysPtc",
   "include_colab_link": true,
   "name": "WORKING_WITH_CLEANED_TEXTS.ipynb",
   "provenance": []
  },
  "hide_input": false,
  "kernelspec": {
   "display_name": "socdiv_venv",
   "language": "python",
   "name": "socdiv_venv"
  },
  "language_info": {
   "codemirror_mode": {
    "name": "ipython",
    "version": 3
   },
   "file_extension": ".py",
   "mimetype": "text/x-python",
   "name": "python",
   "nbconvert_exporter": "python",
   "pygments_lexer": "ipython3",
   "version": "3.6.9"
  },
  "toc": {
   "base_numbering": 1,
   "nav_menu": {},
   "number_sections": true,
   "sideBar": true,
   "skip_h1_title": false,
   "title_cell": "Table of Contents",
   "title_sidebar": "Contents",
   "toc_cell": false,
   "toc_position": {},
   "toc_section_display": true,
   "toc_window_display": false
  },
  "varInspector": {
   "cols": {
    "lenName": 16,
    "lenType": 16,
    "lenVar": 40
   },
   "kernels_config": {
    "python": {
     "delete_cmd_postfix": "",
     "delete_cmd_prefix": "del ",
     "library": "var_list.py",
     "varRefreshCmd": "print(var_dic_list())"
    },
    "r": {
     "delete_cmd_postfix": ") ",
     "delete_cmd_prefix": "rm(",
     "library": "var_list.r",
     "varRefreshCmd": "cat(var_dic_list()) "
    }
   },
   "types_to_exclude": [
    "module",
    "function",
    "builtin_function_or_method",
    "instance",
    "_Feature"
   ],
   "window_display": false
  }
 },
 "nbformat": 4,
 "nbformat_minor": 1
}