{
 "cells": [
  {
   "cell_type": "markdown",
   "source": [
    "# Requirements"
   ],
   "metadata": {
    "collapsed": false,
    "pycharm": {
     "name": "#%% md\n"
    }
   }
  },
  {
   "cell_type": "code",
   "execution_count": 1,
   "metadata": {
    "collapsed": true
   },
   "outputs": [],
   "source": [
    "import pandas as pd\n",
    "import numpy as np\n",
    "import geopandas as gpd\n",
    "\n",
    "import tempun\n",
    "\n",
    "from scipy.spatial import cKDTree\n",
    "from pyproj import Geod\n",
    "from shapely.geometry import LineString\n",
    "\n",
    "import nltk\n",
    "import matplotlib as mpl\n",
    "import matplotlib.pyplot as plt\n",
    "import matplotlib.colors as mcolors\n",
    "import matplotlib.lines as mlines\n",
    "from matplotlib.patches import Patch\n",
    "import seaborn as sns\n",
    "import geoplot as gplt"
   ]
  },
  {
   "cell_type": "markdown",
   "source": [
    "# Import datasets"
   ],
   "metadata": {
    "collapsed": false,
    "pycharm": {
     "name": "#%% md\n"
    }
   }
  },
  {
   "cell_type": "code",
   "execution_count": 2,
   "outputs": [],
   "source": [
    "LIRE = gpd.read_parquet(\"../data/large_data/LIRE_occupsorgs_cats.parquet\")"
   ],
   "metadata": {
    "collapsed": false,
    "pycharm": {
     "name": "#%%\n"
    }
   }
  },
  {
   "cell_type": "code",
   "execution_count": 3,
   "outputs": [
    {
     "name": "stdout",
     "output_type": "stream",
     "text": [
      "CPU times: user 42.8 s, sys: 1.58 s, total: 44.4 s\n",
      "Wall time: 46.3 s\n"
     ]
    }
   ],
   "source": [
    "%%time\n",
    "# generate a list of 1000 random dates for each inscription in the dataset\n",
    "# takes approx. 90 seconds in Google colab\n",
    "LIRE[\"random_dates\"] = LIRE.apply(lambda row: tempun.model_date(row[\"not_before\"], row[\"not_after\"], size=1000), axis=1)"
   ],
   "metadata": {
    "collapsed": false,
    "pycharm": {
     "name": "#%%\n"
    }
   }
  },
  {
   "cell_type": "code",
   "execution_count": 7,
   "outputs": [],
   "source": [
    "# mask\n",
    "before235 = LIRE[\"not_before\"] < 235"
   ],
   "metadata": {
    "collapsed": false,
    "pycharm": {
     "name": "#%%\n"
    }
   }
  },
  {
   "cell_type": "code",
   "execution_count": 14,
   "outputs": [
    {
     "name": "stdout",
     "output_type": "stream",
     "text": [
      "hello\n"
     ]
    }
   ],
   "source": [
    "print(\"hello\")"
   ],
   "metadata": {
    "collapsed": false,
    "pycharm": {
     "name": "#%%\n"
    }
   }
  },
  {
   "cell_type": "code",
   "execution_count": 15,
   "outputs": [
    {
     "data": {
      "text/plain": "         EDCS-ID                                        publication province  \\\n0  EDCS-03700724  ZPE-108-159 = Thesprotia 00001 = AE 1993, 0140...   Achaia   \n1  EDCS-03300852                                     AE 1995, 01409   Achaia   \n2  EDCS-28500283  CIL 03, 07251 = D 00214 = NDIEC-07, p 81 = AE ...   Achaia   \n3  EDCS-09400671  CIMRM-02, 02350 = IG-12, 00274 = Andros 00124 ...   Achaia   \n4  EDCS-24600769                    AE 1995, 01407 = AE 2001, 01812   Achaia   \n\n  province_list                                       place  \\\n0        Achaia                  Agios Athanasios / Photike   \n1        Achaia                                Alea / Tegea   \n2        Achaia                                Alea / Tegea   \n3        Achaia                                      Andros   \n4        Achaia  Archea Olimpia / Archaia Olympia / Olympia   \n\n                                         place_list end_yr_list  \\\n0                   ['Agios Athanasios', 'Photike']         313   \n1                                 ['Alea', 'Tegea']         276   \n2                                 ['Alea', 'Tegea']          50   \n3                                            Andros         209   \n4  ['Archea Olimpia', 'Archaia Olympia', 'Olympia']          96   \n\n                             notes_dating  \\\n0                                           \n1  to 276;   b:  276 to 282         \\n\\n    \n2                                           \n3                                           \n4                                           \n\n                                         status_list        inscr_type  ...  \\\n0  ['Augusti/Augustae', 'litterae erasae', 'ordo ...  tituli honorarii  ...   \n1           ['Augusti/Augustae', 'miliaria', 'viri']          miliaria  ...   \n2              ['Augusti/Augustae', 'leges', 'viri']             leges  ...   \n3                ['litterae erasae', 'tituli sacri']      tituli sacri  ...   \n4                                                { }               { }  ...   \n\n  small_city_ID          small_city_geo small_city_dist urban_context_alt  \\\n0            31  [20.787767, 39.546432]        10725.84             rural   \n1            73  [22.336587, 37.462155]         7876.09             large   \n2            73  [22.336587, 37.462155]         7876.09             large   \n3            47   [24.34625, 37.633122]        47547.59             rural   \n4            35  [21.435443, 37.827452]        26125.55             large   \n\n  occups occups_N organizations  organizations_N occups_cats city_ID  \n0     []        0            []                0          []    None  \n1     []        0            []                0          []      97  \n2     []        0            []                0          []      97  \n3     []        0            []                0          []    None  \n4     []        0            []                0          []      84  \n\n[5 rows x 129 columns]",
      "text/html": "<div>\n<style scoped>\n    .dataframe tbody tr th:only-of-type {\n        vertical-align: middle;\n    }\n\n    .dataframe tbody tr th {\n        vertical-align: top;\n    }\n\n    .dataframe thead th {\n        text-align: right;\n    }\n</style>\n<table border=\"1\" class=\"dataframe\">\n  <thead>\n    <tr style=\"text-align: right;\">\n      <th></th>\n      <th>EDCS-ID</th>\n      <th>publication</th>\n      <th>province</th>\n      <th>province_list</th>\n      <th>place</th>\n      <th>place_list</th>\n      <th>end_yr_list</th>\n      <th>notes_dating</th>\n      <th>status_list</th>\n      <th>inscr_type</th>\n      <th>...</th>\n      <th>small_city_ID</th>\n      <th>small_city_geo</th>\n      <th>small_city_dist</th>\n      <th>urban_context_alt</th>\n      <th>occups</th>\n      <th>occups_N</th>\n      <th>organizations</th>\n      <th>organizations_N</th>\n      <th>occups_cats</th>\n      <th>city_ID</th>\n    </tr>\n  </thead>\n  <tbody>\n    <tr>\n      <th>0</th>\n      <td>EDCS-03700724</td>\n      <td>ZPE-108-159 = Thesprotia 00001 = AE 1993, 0140...</td>\n      <td>Achaia</td>\n      <td>Achaia</td>\n      <td>Agios Athanasios / Photike</td>\n      <td>['Agios Athanasios', 'Photike']</td>\n      <td>313</td>\n      <td></td>\n      <td>['Augusti/Augustae', 'litterae erasae', 'ordo ...</td>\n      <td>tituli honorarii</td>\n      <td>...</td>\n      <td>31</td>\n      <td>[20.787767, 39.546432]</td>\n      <td>10725.84</td>\n      <td>rural</td>\n      <td>[]</td>\n      <td>0</td>\n      <td>[]</td>\n      <td>0</td>\n      <td>[]</td>\n      <td>None</td>\n    </tr>\n    <tr>\n      <th>1</th>\n      <td>EDCS-03300852</td>\n      <td>AE 1995, 01409</td>\n      <td>Achaia</td>\n      <td>Achaia</td>\n      <td>Alea / Tegea</td>\n      <td>['Alea', 'Tegea']</td>\n      <td>276</td>\n      <td>to 276;   b:  276 to 282         \\n\\n</td>\n      <td>['Augusti/Augustae', 'miliaria', 'viri']</td>\n      <td>miliaria</td>\n      <td>...</td>\n      <td>73</td>\n      <td>[22.336587, 37.462155]</td>\n      <td>7876.09</td>\n      <td>large</td>\n      <td>[]</td>\n      <td>0</td>\n      <td>[]</td>\n      <td>0</td>\n      <td>[]</td>\n      <td>97</td>\n    </tr>\n    <tr>\n      <th>2</th>\n      <td>EDCS-28500283</td>\n      <td>CIL 03, 07251 = D 00214 = NDIEC-07, p 81 = AE ...</td>\n      <td>Achaia</td>\n      <td>Achaia</td>\n      <td>Alea / Tegea</td>\n      <td>['Alea', 'Tegea']</td>\n      <td>50</td>\n      <td></td>\n      <td>['Augusti/Augustae', 'leges', 'viri']</td>\n      <td>leges</td>\n      <td>...</td>\n      <td>73</td>\n      <td>[22.336587, 37.462155]</td>\n      <td>7876.09</td>\n      <td>large</td>\n      <td>[]</td>\n      <td>0</td>\n      <td>[]</td>\n      <td>0</td>\n      <td>[]</td>\n      <td>97</td>\n    </tr>\n    <tr>\n      <th>3</th>\n      <td>EDCS-09400671</td>\n      <td>CIMRM-02, 02350 = IG-12, 00274 = Andros 00124 ...</td>\n      <td>Achaia</td>\n      <td>Achaia</td>\n      <td>Andros</td>\n      <td>Andros</td>\n      <td>209</td>\n      <td></td>\n      <td>['litterae erasae', 'tituli sacri']</td>\n      <td>tituli sacri</td>\n      <td>...</td>\n      <td>47</td>\n      <td>[24.34625, 37.633122]</td>\n      <td>47547.59</td>\n      <td>rural</td>\n      <td>[]</td>\n      <td>0</td>\n      <td>[]</td>\n      <td>0</td>\n      <td>[]</td>\n      <td>None</td>\n    </tr>\n    <tr>\n      <th>4</th>\n      <td>EDCS-24600769</td>\n      <td>AE 1995, 01407 = AE 2001, 01812</td>\n      <td>Achaia</td>\n      <td>Achaia</td>\n      <td>Archea Olimpia / Archaia Olympia / Olympia</td>\n      <td>['Archea Olimpia', 'Archaia Olympia', 'Olympia']</td>\n      <td>96</td>\n      <td></td>\n      <td>{ }</td>\n      <td>{ }</td>\n      <td>...</td>\n      <td>35</td>\n      <td>[21.435443, 37.827452]</td>\n      <td>26125.55</td>\n      <td>large</td>\n      <td>[]</td>\n      <td>0</td>\n      <td>[]</td>\n      <td>0</td>\n      <td>[]</td>\n      <td>84</td>\n    </tr>\n  </tbody>\n</table>\n<p>5 rows × 129 columns</p>\n</div>"
     },
     "execution_count": 15,
     "metadata": {},
     "output_type": "execute_result"
    }
   ],
   "source": [
    "LIRE.head(5)"
   ],
   "metadata": {
    "collapsed": false,
    "pycharm": {
     "name": "#%%\n"
    }
   }
  },
  {
   "cell_type": "code",
   "execution_count": 17,
   "outputs": [
    {
     "data": {
      "text/plain": "115926"
     },
     "execution_count": 17,
     "metadata": {},
     "output_type": "execute_result"
    }
   ],
   "source": [
    "len(LIRE[before235])"
   ],
   "metadata": {
    "collapsed": false,
    "pycharm": {
     "name": "#%%\n"
    }
   }
  },
  {
   "cell_type": "code",
   "execution_count": 18,
   "outputs": [
    {
     "data": {
      "text/plain": "4810"
     },
     "execution_count": 18,
     "metadata": {},
     "output_type": "execute_result"
    }
   ],
   "source": [
    "LIRE[before235][\"occups_N\"].sum()"
   ],
   "metadata": {
    "collapsed": false,
    "pycharm": {
     "name": "#%%\n"
    }
   }
  },
  {
   "cell_type": "code",
   "execution_count": 9,
   "outputs": [
    {
     "data": {
      "text/plain": "0.9172387490465294"
     },
     "execution_count": 9,
     "metadata": {},
     "output_type": "execute_result"
    }
   ],
   "source": [
    "LIRE[before235][\"occups_N\"].sum() / LIRE[\"occups_N\"].sum()"
   ],
   "metadata": {
    "collapsed": false,
    "pycharm": {
     "name": "#%%\n"
    }
   }
  },
  {
   "cell_type": "code",
   "execution_count": 10,
   "outputs": [],
   "source": [
    "roman_cities = gpd.read_file(\"../data/roman_cities_pop.geojson\")\n",
    "pleiades_regions = gpd.read_file(\"../data/pleiades_regions.geojson\")\n",
    "pleiades_regions_west = gpd.read_file(\"../data/pleiades_regions_west.geojson\")"
   ],
   "metadata": {
    "collapsed": false,
    "pycharm": {
     "name": "#%%\n"
    }
   }
  },
  {
   "cell_type": "markdown",
   "source": [
    "# Map inscriptions on cities"
   ],
   "metadata": {
    "collapsed": false,
    "pycharm": {
     "name": "#%% md\n"
    }
   }
  },
  {
   "cell_type": "code",
   "execution_count": 19,
   "outputs": [],
   "source": [
    "def get_my_city(row):\n",
    "    context = row[\"urban_context_alt\"]\n",
    "    try:\n",
    "        ID = row[context + \"_city_ID\"]\n",
    "    except:\n",
    "        ID = None\n",
    "    return ID\n",
    "LIRE[\"city_ID\"] = LIRE.apply(lambda row: get_my_city(row), axis=1)"
   ],
   "metadata": {
    "collapsed": false,
    "pycharm": {
     "name": "#%%\n"
    }
   }
  },
  {
   "cell_type": "code",
   "execution_count": 21,
   "outputs": [],
   "source": [
    "def get_inscriptions(ID):\n",
    "    city_dict = {}\n",
    "    city_data = LIRE[LIRE[\"city_ID\"]==str(ID)]\n",
    "    if len(city_data) > 0:\n",
    "        city_dict[\"inscr_N\"] = len(city_data)\n",
    "        inscr_texts = city_data[\"clean_text_interpretive_word\"].tolist()\n",
    "        inscr_texts = [el for el in inscr_texts if isinstance(el, str)]\n",
    "        city_dict[\"inscr_texts_wordlist\"] = \" \".join(inscr_texts).split()\n",
    "        city_dict[\"edcs_ids\"] = city_data[\"EDCS-ID\"].tolist()\n",
    "        city_dict[\"edh_ids\"] = city_data[\"EDH-ID\"].tolist()\n",
    "        city_dict[\"inscr_with_occups\"] = (city_data[\"occups_N\"]>0).sum()\n",
    "        city_dict[\"occups_mask\"] = city_data[\"occups_N\"] > 0\n",
    "        city_dict[\"occups_list\"] = [el for sublist in city_data[\"occups\"] for el in sublist]\n",
    "        city_dict[\"occups_N\"] = city_data[\"occups_N\"].sum()\n",
    "        city_dict[\"occups_cats_list\"] = [el for sublist in city_data[\"occups_cats\"] for el in sublist]\n",
    "    return city_dict\n",
    "\n",
    "cities_dict_data = roman_cities[\"ID\"].apply(get_inscriptions)"
   ],
   "metadata": {
    "collapsed": false,
    "pycharm": {
     "name": "#%%\n"
    }
   }
  },
  {
   "cell_type": "code",
   "execution_count": 22,
   "outputs": [
    {
     "data": {
      "text/plain": "   inscr_N                               inscr_texts_wordlist  \\\n0      NaN                                                NaN   \n1      NaN                                                NaN   \n2      1.0  [Caius, Varius, Stratullus, Γάϊος, Οὐάριος, Στ...   \n3      NaN                                                NaN   \n4      NaN                                                NaN   \n\n          edcs_ids     edh_ids  inscr_with_occups  \\\n0              NaN         NaN                NaN   \n1              NaN         NaN                NaN   \n2  [EDCS-45800005]  [HD006767]                0.0   \n3              NaN         NaN                NaN   \n4              NaN         NaN                NaN   \n\n                                occups_mask occups_list  occups_N  \\\n0                                       NaN         NaN       NaN   \n1                                       NaN         NaN       NaN   \n2  192    False\nName: occups_N, dtype: bool          []       0.0   \n3                                       NaN         NaN       NaN   \n4                                       NaN         NaN       NaN   \n\n  occups_cats_list  \n0              NaN  \n1              NaN  \n2               []  \n3              NaN  \n4              NaN  ",
      "text/html": "<div>\n<style scoped>\n    .dataframe tbody tr th:only-of-type {\n        vertical-align: middle;\n    }\n\n    .dataframe tbody tr th {\n        vertical-align: top;\n    }\n\n    .dataframe thead th {\n        text-align: right;\n    }\n</style>\n<table border=\"1\" class=\"dataframe\">\n  <thead>\n    <tr style=\"text-align: right;\">\n      <th></th>\n      <th>inscr_N</th>\n      <th>inscr_texts_wordlist</th>\n      <th>edcs_ids</th>\n      <th>edh_ids</th>\n      <th>inscr_with_occups</th>\n      <th>occups_mask</th>\n      <th>occups_list</th>\n      <th>occups_N</th>\n      <th>occups_cats_list</th>\n    </tr>\n  </thead>\n  <tbody>\n    <tr>\n      <th>0</th>\n      <td>NaN</td>\n      <td>NaN</td>\n      <td>NaN</td>\n      <td>NaN</td>\n      <td>NaN</td>\n      <td>NaN</td>\n      <td>NaN</td>\n      <td>NaN</td>\n      <td>NaN</td>\n    </tr>\n    <tr>\n      <th>1</th>\n      <td>NaN</td>\n      <td>NaN</td>\n      <td>NaN</td>\n      <td>NaN</td>\n      <td>NaN</td>\n      <td>NaN</td>\n      <td>NaN</td>\n      <td>NaN</td>\n      <td>NaN</td>\n    </tr>\n    <tr>\n      <th>2</th>\n      <td>1.0</td>\n      <td>[Caius, Varius, Stratullus, Γάϊος, Οὐάριος, Στ...</td>\n      <td>[EDCS-45800005]</td>\n      <td>[HD006767]</td>\n      <td>0.0</td>\n      <td>192    False\nName: occups_N, dtype: bool</td>\n      <td>[]</td>\n      <td>0.0</td>\n      <td>[]</td>\n    </tr>\n    <tr>\n      <th>3</th>\n      <td>NaN</td>\n      <td>NaN</td>\n      <td>NaN</td>\n      <td>NaN</td>\n      <td>NaN</td>\n      <td>NaN</td>\n      <td>NaN</td>\n      <td>NaN</td>\n      <td>NaN</td>\n    </tr>\n    <tr>\n      <th>4</th>\n      <td>NaN</td>\n      <td>NaN</td>\n      <td>NaN</td>\n      <td>NaN</td>\n      <td>NaN</td>\n      <td>NaN</td>\n      <td>NaN</td>\n      <td>NaN</td>\n      <td>NaN</td>\n    </tr>\n  </tbody>\n</table>\n</div>"
     },
     "execution_count": 22,
     "metadata": {},
     "output_type": "execute_result"
    }
   ],
   "source": [
    "cities_inscr_data = pd.DataFrame(cities_dict_data.tolist())\n",
    "cities_inscr_data.head(5)"
   ],
   "metadata": {
    "collapsed": false,
    "pycharm": {
     "name": "#%%\n"
    }
   }
  },
  {
   "cell_type": "code",
   "execution_count": 23,
   "outputs": [],
   "source": [
    "roman_cities = pd.concat([roman_cities, cities_inscr_data], axis=1)"
   ],
   "metadata": {
    "collapsed": false,
    "pycharm": {
     "name": "#%%\n"
    }
   }
  },
  {
   "cell_type": "code",
   "execution_count": 24,
   "outputs": [],
   "source": [
    "del cities_inscr_data\n",
    "del cities_dict_data"
   ],
   "metadata": {
    "collapsed": false,
    "pycharm": {
     "name": "#%%\n"
    }
   }
  },
  {
   "cell_type": "markdown",
   "source": [
    "# Explore inscriptions within cities"
   ],
   "metadata": {
    "collapsed": false,
    "pycharm": {
     "name": "#%% md\n"
    }
   }
  },
  {
   "cell_type": "code",
   "execution_count": 25,
   "outputs": [
    {
     "data": {
      "text/plain": "    Primary Key Ancient Toponym Modern Toponym Province Country  \\\n0  Hanson2016_1            Abae       Kalapodi   Achaea  Greece   \n1  Hanson2016_2        Acharnae       Acharnes   Achaea  Greece   \n2  Hanson2016_3       Acraephia      Akraifnio   Achaea  Greece   \n3  Hanson2016_4          Aegina         Aigina   Achaea  Greece   \n4  Hanson2016_5          Aegira        Aigeira   Achaea  Greece   \n\n  Barrington Atlas Rank Barrington Atlas Reference  Start Date  End Date  \\\n0                4 or 5                      55 D3        -600       NaN   \n1                     3                      59 B2        -600       NaN   \n2                     3                      55 E4        -600       NaN   \n3                     2                      59 A3        -600       NaN   \n4                     3                      58 C1        -600       NaN   \n\n                                 Select Bibliography  ...  \\\n0  BNP; Hansen 2006; Hansen and Nielsen 2004; PEC...  ...   \n1                        BNP; DGRG; PECS; Sear 2006.  ...   \n2  BNP; DGRG; Hansen and Nielsen 2004; PECS; Sear...  ...   \n3  BNP; DGRG; Hansen 2006; Hansen and Nielsen 200...  ...   \n4                     DGRG; Hansen and Nielsen 2004.  ...   \n\n                    geometry inscr_N  \\\n0  POINT (22.93333 38.58333)     NaN   \n1  POINT (23.73409 38.08347)     NaN   \n2  POINT (23.21970 38.45261)     1.0   \n3  POINT (23.42850 37.75007)     NaN   \n4  POINT (22.35572 38.14795)     NaN   \n\n                                inscr_texts_wordlist         edcs_ids  \\\n0                                                NaN              NaN   \n1                                                NaN              NaN   \n2  [Caius, Varius, Stratullus, Γάϊος, Οὐάριος, Στ...  [EDCS-45800005]   \n3                                                NaN              NaN   \n4                                                NaN              NaN   \n\n      edh_ids  inscr_with_occups                               occups_mask  \\\n0         NaN                NaN                                       NaN   \n1         NaN                NaN                                       NaN   \n2  [HD006767]                0.0  192    False\nName: occups_N, dtype: bool   \n3         NaN                NaN                                       NaN   \n4         NaN                NaN                                       NaN   \n\n   occups_list  occups_N  occups_cats_list  \n0          NaN       NaN               NaN  \n1          NaN       NaN               NaN  \n2           []       0.0                []  \n3          NaN       NaN               NaN  \n4          NaN       NaN               NaN  \n\n[5 rows x 31 columns]",
      "text/html": "<div>\n<style scoped>\n    .dataframe tbody tr th:only-of-type {\n        vertical-align: middle;\n    }\n\n    .dataframe tbody tr th {\n        vertical-align: top;\n    }\n\n    .dataframe thead th {\n        text-align: right;\n    }\n</style>\n<table border=\"1\" class=\"dataframe\">\n  <thead>\n    <tr style=\"text-align: right;\">\n      <th></th>\n      <th>Primary Key</th>\n      <th>Ancient Toponym</th>\n      <th>Modern Toponym</th>\n      <th>Province</th>\n      <th>Country</th>\n      <th>Barrington Atlas Rank</th>\n      <th>Barrington Atlas Reference</th>\n      <th>Start Date</th>\n      <th>End Date</th>\n      <th>Select Bibliography</th>\n      <th>...</th>\n      <th>geometry</th>\n      <th>inscr_N</th>\n      <th>inscr_texts_wordlist</th>\n      <th>edcs_ids</th>\n      <th>edh_ids</th>\n      <th>inscr_with_occups</th>\n      <th>occups_mask</th>\n      <th>occups_list</th>\n      <th>occups_N</th>\n      <th>occups_cats_list</th>\n    </tr>\n  </thead>\n  <tbody>\n    <tr>\n      <th>0</th>\n      <td>Hanson2016_1</td>\n      <td>Abae</td>\n      <td>Kalapodi</td>\n      <td>Achaea</td>\n      <td>Greece</td>\n      <td>4 or 5</td>\n      <td>55 D3</td>\n      <td>-600</td>\n      <td>NaN</td>\n      <td>BNP; Hansen 2006; Hansen and Nielsen 2004; PEC...</td>\n      <td>...</td>\n      <td>POINT (22.93333 38.58333)</td>\n      <td>NaN</td>\n      <td>NaN</td>\n      <td>NaN</td>\n      <td>NaN</td>\n      <td>NaN</td>\n      <td>NaN</td>\n      <td>NaN</td>\n      <td>NaN</td>\n      <td>NaN</td>\n    </tr>\n    <tr>\n      <th>1</th>\n      <td>Hanson2016_2</td>\n      <td>Acharnae</td>\n      <td>Acharnes</td>\n      <td>Achaea</td>\n      <td>Greece</td>\n      <td>3</td>\n      <td>59 B2</td>\n      <td>-600</td>\n      <td>NaN</td>\n      <td>BNP; DGRG; PECS; Sear 2006.</td>\n      <td>...</td>\n      <td>POINT (23.73409 38.08347)</td>\n      <td>NaN</td>\n      <td>NaN</td>\n      <td>NaN</td>\n      <td>NaN</td>\n      <td>NaN</td>\n      <td>NaN</td>\n      <td>NaN</td>\n      <td>NaN</td>\n      <td>NaN</td>\n    </tr>\n    <tr>\n      <th>2</th>\n      <td>Hanson2016_3</td>\n      <td>Acraephia</td>\n      <td>Akraifnio</td>\n      <td>Achaea</td>\n      <td>Greece</td>\n      <td>3</td>\n      <td>55 E4</td>\n      <td>-600</td>\n      <td>NaN</td>\n      <td>BNP; DGRG; Hansen and Nielsen 2004; PECS; Sear...</td>\n      <td>...</td>\n      <td>POINT (23.21970 38.45261)</td>\n      <td>1.0</td>\n      <td>[Caius, Varius, Stratullus, Γάϊος, Οὐάριος, Στ...</td>\n      <td>[EDCS-45800005]</td>\n      <td>[HD006767]</td>\n      <td>0.0</td>\n      <td>192    False\nName: occups_N, dtype: bool</td>\n      <td>[]</td>\n      <td>0.0</td>\n      <td>[]</td>\n    </tr>\n    <tr>\n      <th>3</th>\n      <td>Hanson2016_4</td>\n      <td>Aegina</td>\n      <td>Aigina</td>\n      <td>Achaea</td>\n      <td>Greece</td>\n      <td>2</td>\n      <td>59 A3</td>\n      <td>-600</td>\n      <td>NaN</td>\n      <td>BNP; DGRG; Hansen 2006; Hansen and Nielsen 200...</td>\n      <td>...</td>\n      <td>POINT (23.42850 37.75007)</td>\n      <td>NaN</td>\n      <td>NaN</td>\n      <td>NaN</td>\n      <td>NaN</td>\n      <td>NaN</td>\n      <td>NaN</td>\n      <td>NaN</td>\n      <td>NaN</td>\n      <td>NaN</td>\n    </tr>\n    <tr>\n      <th>4</th>\n      <td>Hanson2016_5</td>\n      <td>Aegira</td>\n      <td>Aigeira</td>\n      <td>Achaea</td>\n      <td>Greece</td>\n      <td>3</td>\n      <td>58 C1</td>\n      <td>-600</td>\n      <td>NaN</td>\n      <td>DGRG; Hansen and Nielsen 2004.</td>\n      <td>...</td>\n      <td>POINT (22.35572 38.14795)</td>\n      <td>NaN</td>\n      <td>NaN</td>\n      <td>NaN</td>\n      <td>NaN</td>\n      <td>NaN</td>\n      <td>NaN</td>\n      <td>NaN</td>\n      <td>NaN</td>\n      <td>NaN</td>\n    </tr>\n  </tbody>\n</table>\n<p>5 rows × 31 columns</p>\n</div>"
     },
     "execution_count": 25,
     "metadata": {},
     "output_type": "execute_result"
    }
   ],
   "source": [
    "roman_cities.head(5)"
   ],
   "metadata": {
    "collapsed": false,
    "pycharm": {
     "name": "#%%\n"
    }
   }
  },
  {
   "cell_type": "code",
   "execution_count": 26,
   "outputs": [
    {
     "data": {
      "text/plain": "1388"
     },
     "execution_count": 26,
     "metadata": {},
     "output_type": "execute_result"
    }
   ],
   "source": [
    "# all cities\n",
    "len(roman_cities)"
   ],
   "metadata": {
    "collapsed": false,
    "pycharm": {
     "name": "#%%\n"
    }
   }
  },
  {
   "cell_type": "code",
   "execution_count": 27,
   "outputs": [
    {
     "data": {
      "text/plain": "110163.0"
     },
     "execution_count": 27,
     "metadata": {},
     "output_type": "execute_result"
    }
   ],
   "source": [
    "roman_cities[\"inscr_N\"].sum()"
   ],
   "metadata": {
    "collapsed": false,
    "pycharm": {
     "name": "#%%\n"
    }
   }
  },
  {
   "cell_type": "code",
   "execution_count": 28,
   "outputs": [
    {
     "data": {
      "text/plain": "856"
     },
     "execution_count": 28,
     "metadata": {},
     "output_type": "execute_result"
    }
   ],
   "source": [
    "# cities with at least one inscription\n",
    "(roman_cities[\"inscr_N\"]>0).sum()"
   ],
   "metadata": {
    "collapsed": false,
    "pycharm": {
     "name": "#%%\n"
    }
   }
  },
  {
   "cell_type": "code",
   "execution_count": 29,
   "outputs": [
    {
     "data": {
      "text/plain": "0.6167146974063401"
     },
     "execution_count": 29,
     "metadata": {},
     "output_type": "execute_result"
    }
   ],
   "source": [
    "# proportion of cities with at least one inscription\n",
    "(roman_cities[\"inscr_N\"]>0).mean()"
   ],
   "metadata": {
    "collapsed": false,
    "pycharm": {
     "name": "#%%\n"
    }
   }
  },
  {
   "cell_type": "code",
   "execution_count": 30,
   "outputs": [
    {
     "data": {
      "text/plain": "889"
     },
     "execution_count": 30,
     "metadata": {},
     "output_type": "execute_result"
    }
   ],
   "source": [
    "# N western cities\n",
    "(roman_cities[\"western_province\"]).sum()"
   ],
   "metadata": {
    "collapsed": false,
    "pycharm": {
     "name": "#%%\n"
    }
   }
  },
  {
   "cell_type": "code",
   "execution_count": 31,
   "outputs": [
    {
     "data": {
      "text/plain": "657"
     },
     "execution_count": 31,
     "metadata": {},
     "output_type": "execute_result"
    }
   ],
   "source": [
    "((roman_cities[\"western_province\"]) & (roman_cities[\"inscr_N\"]>0)).sum()"
   ],
   "metadata": {
    "collapsed": false,
    "pycharm": {
     "name": "#%%\n"
    }
   }
  },
  {
   "cell_type": "code",
   "execution_count": 32,
   "outputs": [
    {
     "data": {
      "text/plain": "0.7390326209223848"
     },
     "execution_count": 32,
     "metadata": {},
     "output_type": "execute_result"
    }
   ],
   "source": [
    "((roman_cities[\"western_province\"]) & (roman_cities[\"inscr_N\"]>0)).sum() / (roman_cities[\"western_province\"]).sum()"
   ],
   "metadata": {
    "collapsed": false,
    "pycharm": {
     "name": "#%%\n"
    }
   }
  },
  {
   "cell_type": "markdown",
   "source": [
    "# Focus on western cities alone - basic explorations (feel free to skip)"
   ],
   "metadata": {
    "collapsed": false,
    "pycharm": {
     "name": "#%% md\n"
    }
   }
  },
  {
   "cell_type": "code",
   "execution_count": 33,
   "outputs": [
    {
     "data": {
      "text/plain": "889"
     },
     "execution_count": 33,
     "metadata": {},
     "output_type": "execute_result"
    }
   ],
   "source": [
    "roman_cities = roman_cities[roman_cities[\"western_province\"]]\n",
    "len(roman_cities)"
   ],
   "metadata": {
    "collapsed": false,
    "pycharm": {
     "name": "#%%\n"
    }
   }
  },
  {
   "cell_type": "code",
   "execution_count": 34,
   "outputs": [
    {
     "name": "stderr",
     "output_type": "stream",
     "text": [
      "/Users/kasev/Projects/social_diversity/socdiv_venv/lib/python3.10/site-packages/pandas/core/arraylike.py:364: RuntimeWarning: divide by zero encountered in log2\n",
      "  result = getattr(ufunc, method)(*inputs, **kwargs)\n"
     ]
    }
   ],
   "source": [
    "roman_cities[\"pop_est_log\"] = np.log(roman_cities[\"pop_est\"])\n",
    "roman_cities[\"inscr_N_log\"] = np.log(roman_cities[\"inscr_N\"])\n",
    "\n",
    "roman_cities[\"pop_est_log10\"] = np.log10(roman_cities[\"pop_est\"])\n",
    "roman_cities[\"inscr_N_log2\"] = np.log2(roman_cities[\"inscr_N\"])\n",
    "\n",
    "roman_cities[\"occups_N_log\"] = np.log2(roman_cities[\"occups_N\"])\n"
   ],
   "metadata": {
    "collapsed": false,
    "pycharm": {
     "name": "#%%\n"
    }
   }
  },
  {
   "cell_type": "code",
   "execution_count": 35,
   "outputs": [
    {
     "data": {
      "text/plain": "<AxesSubplot:xlabel='inscr_N', ylabel='pop_est'>"
     },
     "execution_count": 35,
     "metadata": {},
     "output_type": "execute_result"
    },
    {
     "data": {
      "text/plain": "<Figure size 432x288 with 1 Axes>",
      "image/png": "[encoded data removed]"
     },
     "metadata": {
      "needs_background": "light"
     },
     "output_type": "display_data"
    }
   ],
   "source": [
    "# all cities\n",
    "data=roman_cities\n",
    "sns.regplot(x=\"inscr_N\", y=\"pop_est\", data=data)"
   ],
   "metadata": {
    "collapsed": false,
    "pycharm": {
     "name": "#%%\n"
    }
   }
  },
  {
   "cell_type": "code",
   "execution_count": 36,
   "outputs": [
    {
     "data": {
      "text/plain": "<AxesSubplot:xlabel='inscr_N', ylabel='pop_est'>"
     },
     "execution_count": 36,
     "metadata": {},
     "output_type": "execute_result"
    },
    {
     "data": {
      "text/plain": "<Figure size 432x288 with 1 Axes>",
      "image/png": "[encoded data removed]"
     },
     "metadata": {
      "needs_background": "light"
     },
     "output_type": "display_data"
    }
   ],
   "source": [
    "# cities without Roma\n",
    "data=roman_cities[roman_cities[\"Ancient Toponym\"]!=\"Roma\"]\n",
    "sns.regplot(x=\"inscr_N\", y=\"pop_est\", data=data)"
   ],
   "metadata": {
    "collapsed": false,
    "pycharm": {
     "name": "#%%\n"
    }
   }
  },
  {
   "cell_type": "code",
   "execution_count": 37,
   "outputs": [
    {
     "data": {
      "text/plain": "<AxesSubplot:xlabel='inscr_N', ylabel='pop_est_log'>"
     },
     "execution_count": 37,
     "metadata": {},
     "output_type": "execute_result"
    },
    {
     "data": {
      "text/plain": "<Figure size 432x288 with 1 Axes>",
      "image/png": "[encoded data removed]"
     },
     "metadata": {
      "needs_background": "light"
     },
     "output_type": "display_data"
    }
   ],
   "source": [
    "# cities without Roma, POP LOG\n",
    "data=roman_cities[roman_cities[\"Ancient Toponym\"]!=\"Roma\"]\n",
    "sns.regplot(x=\"inscr_N\", y=\"pop_est_log\", data=data)"
   ],
   "metadata": {
    "collapsed": false,
    "pycharm": {
     "name": "#%%\n"
    }
   }
  },
  {
   "cell_type": "code",
   "execution_count": 38,
   "outputs": [
    {
     "data": {
      "text/plain": "<AxesSubplot:xlabel='inscr_N_log', ylabel='pop_est_log'>"
     },
     "execution_count": 38,
     "metadata": {},
     "output_type": "execute_result"
    },
    {
     "data": {
      "text/plain": "<Figure size 432x288 with 1 Axes>",
      "image/png": "[encoded data removed]"
     },
     "metadata": {
      "needs_background": "light"
     },
     "output_type": "display_data"
    }
   ],
   "source": [
    "# cities without Roma, POP LOG\n",
    "data=roman_cities[roman_cities[\"Ancient Toponym\"]!=\"Roma\"]\n",
    "sns.regplot(x=\"inscr_N_log\", y=\"pop_est_log\", data=data)"
   ],
   "metadata": {
    "collapsed": false,
    "pycharm": {
     "name": "#%%\n"
    }
   }
  },
  {
   "cell_type": "code",
   "execution_count": 39,
   "outputs": [
    {
     "data": {
      "text/plain": "<AxesSubplot:xlabel='inscr_N', ylabel='num_of_structures'>"
     },
     "execution_count": 39,
     "metadata": {},
     "output_type": "execute_result"
    },
    {
     "data": {
      "text/plain": "<Figure size 432x288 with 1 Axes>",
      "image/png": "[encoded data removed]"
     },
     "metadata": {
      "needs_background": "light"
     },
     "output_type": "display_data"
    }
   ],
   "source": [
    "# cities without Roma, POP LOG\n",
    "data=roman_cities[roman_cities[\"Ancient Toponym\"]!=\"Roma\"]\n",
    "sns.regplot(x=\"inscr_N\", y=\"num_of_structures\", data=data)"
   ],
   "metadata": {
    "collapsed": false,
    "pycharm": {
     "name": "#%%\n"
    }
   }
  },
  {
   "cell_type": "code",
   "execution_count": 40,
   "outputs": [
    {
     "data": {
      "text/plain": "<AxesSubplot:xlabel='occups_N', ylabel='num_of_structures'>"
     },
     "execution_count": 40,
     "metadata": {},
     "output_type": "execute_result"
    },
    {
     "data": {
      "text/plain": "<Figure size 432x288 with 1 Axes>",
      "image/png": "[encoded data removed]"
     },
     "metadata": {
      "needs_background": "light"
     },
     "output_type": "display_data"
    }
   ],
   "source": [
    "# cities without Roma, POP LOG\n",
    "data=roman_cities[\n",
    "    (roman_cities[\"Ancient Toponym\"]!=\"Roma\")\n",
    "    ]\n",
    "sns.regplot(x=\"occups_N\", y=\"num_of_structures\", data=data)"
   ],
   "metadata": {
    "collapsed": false,
    "pycharm": {
     "name": "#%%\n"
    }
   }
  },
  {
   "cell_type": "code",
   "execution_count": 41,
   "outputs": [
    {
     "data": {
      "text/plain": "<AxesSubplot:xlabel='occups_N', ylabel='num_of_structures'>"
     },
     "execution_count": 41,
     "metadata": {},
     "output_type": "execute_result"
    },
    {
     "data": {
      "text/plain": "<Figure size 432x288 with 1 Axes>",
      "image/png": "[encoded data removed]"
     },
     "metadata": {
      "needs_background": "light"
     },
     "output_type": "display_data"
    }
   ],
   "source": [
    "# cities without Roma, POP LOG\n",
    "data=roman_cities[\n",
    "    (roman_cities[\"Ancient Toponym\"]!=\"Roma\")\n",
    "    & (roman_cities[\"occups_N\"]>0)\n",
    "]\n",
    "sns.regplot(x=\"occups_N\", y=\"num_of_structures\", data=data)"
   ],
   "metadata": {
    "collapsed": false,
    "pycharm": {
     "name": "#%%\n"
    }
   }
  },
  {
   "cell_type": "code",
   "execution_count": 42,
   "outputs": [
    {
     "data": {
      "text/plain": "[-inf,\n -inf,\n -inf,\n 0.0,\n nan,\n nan,\n nan,\n nan,\n -inf,\n 2.321928094887362,\n nan,\n nan,\n nan,\n -inf,\n nan,\n 3.169925001442312,\n nan,\n nan,\n 0.0,\n -inf,\n -inf,\n 1.0,\n -inf,\n 3.9068905956085187,\n nan,\n 0.0,\n nan,\n 1.584962500721156,\n -inf,\n nan,\n -inf,\n nan,\n -inf,\n 3.0,\n 0.0,\n -inf,\n 0.0,\n 1.584962500721156,\n -inf,\n -inf,\n -inf,\n 0.0,\n nan,\n nan,\n nan,\n 2.584962500721156,\n 0.0,\n nan,\n 0.0,\n nan,\n -inf,\n nan,\n nan,\n nan,\n -inf,\n nan,\n nan,\n nan,\n -inf,\n -inf,\n nan,\n nan,\n 0.0,\n nan,\n -inf,\n nan,\n 3.169925001442312,\n 1.0,\n 0.0,\n -inf,\n 2.807354922057604,\n 0.0,\n 0.0,\n nan,\n nan,\n -inf,\n 2.0,\n -inf,\n -inf,\n nan,\n 0.0,\n nan,\n -inf,\n 3.4594316186372973,\n -inf,\n nan,\n 4.857980995127572,\n -inf,\n 0.0,\n 0.0,\n nan,\n -inf,\n 0.0,\n -inf,\n -inf,\n -inf,\n 0.0,\n 0.0,\n -inf,\n nan,\n -inf,\n nan,\n -inf,\n nan,\n -inf,\n 2.0,\n nan,\n nan,\n -inf,\n 0.0,\n -inf,\n -inf,\n -inf,\n nan,\n 1.0,\n 1.0,\n nan,\n 1.584962500721156,\n 0.0,\n -inf,\n -inf,\n 1.584962500721156,\n -inf,\n 4.906890595608519,\n 2.321928094887362,\n -inf,\n -inf,\n 0.0,\n -inf,\n 1.0,\n -inf,\n -inf,\n -inf,\n -inf,\n 0.0,\n -inf,\n -inf,\n -inf,\n -inf,\n 1.0,\n 2.584962500721156,\n 1.0,\n -inf,\n 0.0,\n 2.321928094887362,\n -inf,\n 1.584962500721156,\n -inf,\n -inf,\n -inf,\n 0.0,\n -inf,\n 2.321928094887362,\n -inf,\n -inf,\n -inf,\n -inf,\n nan,\n nan,\n 1.0,\n nan,\n -inf,\n nan,\n 1.0,\n -inf,\n -inf,\n -inf,\n nan,\n 0.0,\n -inf,\n nan,\n -inf,\n nan,\n -inf,\n -inf,\n 0.0,\n nan,\n -inf,\n -inf,\n -inf,\n -inf,\n -inf,\n -inf,\n 3.0,\n -inf,\n nan,\n -inf,\n -inf,\n 0.0,\n -inf,\n -inf,\n -inf,\n -inf,\n -inf,\n -inf,\n 0.0,\n 2.584962500721156,\n -inf,\n nan,\n nan,\n nan,\n -inf,\n -inf,\n -inf,\n -inf,\n 6.321928094887363,\n -inf,\n -inf,\n -inf,\n nan,\n -inf,\n -inf,\n -inf,\n -inf,\n -inf,\n nan,\n -inf,\n -inf,\n -inf,\n -inf,\n -inf,\n 1.0,\n -inf,\n -inf,\n 0.0,\n 3.321928094887362,\n -inf,\n nan,\n nan,\n -inf,\n 1.0,\n nan,\n -inf,\n -inf,\n 0.0,\n nan,\n -inf,\n nan,\n nan,\n -inf,\n nan,\n 0.0,\n 0.0,\n nan,\n nan,\n 3.807354922057604,\n nan,\n -inf,\n 1.584962500721156,\n nan,\n -inf,\n -inf,\n -inf,\n -inf,\n -inf,\n 0.0,\n nan,\n -inf,\n nan,\n nan,\n 2.0,\n -inf,\n nan,\n -inf,\n 0.0,\n -inf,\n -inf,\n -inf,\n nan,\n nan,\n 2.584962500721156,\n -inf,\n -inf,\n -inf,\n nan,\n -inf,\n -inf,\n -inf,\n 4.643856189774724,\n -inf,\n nan,\n -inf,\n -inf,\n -inf,\n nan,\n nan,\n -inf,\n -inf,\n -inf,\n -inf,\n 0.0,\n -inf,\n -inf,\n -inf,\n -inf,\n nan,\n -inf,\n -inf,\n -inf,\n -inf,\n nan,\n 1.584962500721156,\n -inf,\n -inf,\n -inf,\n nan,\n nan,\n -inf,\n 0.0,\n 1.584962500721156,\n 3.321928094887362,\n -inf,\n -inf,\n nan,\n -inf,\n -inf,\n -inf,\n -inf,\n 5.20945336562895,\n 1.0,\n -inf,\n 2.584962500721156,\n 4.584962500721156,\n nan,\n -inf,\n 2.321928094887362,\n 2.0,\n 3.9068905956085187,\n 1.0,\n 2.321928094887362,\n 2.584962500721156,\n 5.882643049361842,\n 1.0,\n -inf,\n -inf,\n 2.0,\n -inf,\n -inf,\n 3.169925001442312,\n -inf,\n 1.584962500721156,\n -inf,\n -inf,\n -inf,\n 0.0,\n 2.584962500721156,\n -inf,\n -inf,\n 0.0,\n 0.0,\n 0.0,\n 3.9068905956085187,\n 1.0,\n -inf,\n 1.0,\n -inf,\n 1.584962500721156,\n 1.0,\n -inf,\n -inf,\n -inf,\n -inf,\n -inf,\n -inf,\n -inf,\n -inf,\n 1.584962500721156,\n -inf,\n -inf,\n -inf,\n -inf,\n -inf,\n 1.0,\n -inf,\n -inf,\n -inf,\n -inf,\n -inf,\n -inf,\n -inf,\n -inf,\n -inf,\n -inf,\n 4.459431618637297,\n -inf,\n nan,\n 2.584962500721156,\n -inf,\n -inf,\n 1.584962500721156,\n -inf,\n -inf,\n -inf,\n -inf,\n 1.0,\n nan,\n -inf,\n nan,\n 2.0,\n nan,\n 1.584962500721156,\n nan,\n 2.807354922057604,\n 3.169925001442312,\n nan,\n 5.20945336562895,\n nan,\n nan,\n nan,\n nan,\n nan,\n nan,\n nan,\n nan,\n nan,\n nan,\n 7.6865005271832185,\n nan,\n nan,\n nan,\n nan,\n nan,\n nan,\n nan,\n nan,\n nan,\n -inf,\n nan,\n 2.0,\n 3.9068905956085187,\n nan,\n 2.321928094887362,\n nan,\n nan,\n nan,\n nan,\n nan,\n nan,\n nan,\n nan,\n 3.169925001442312,\n nan,\n nan,\n nan,\n 3.584962500721156,\n 2.321928094887362,\n 8.129283016944967,\n 2.321928094887362,\n 5.807354922057604,\n nan,\n 1.584962500721156,\n 2.321928094887362,\n nan,\n nan,\n nan,\n nan,\n nan,\n nan,\n 3.169925001442312,\n nan,\n nan,\n nan,\n 4.087462841250339,\n -inf,\n nan,\n -inf,\n nan,\n nan,\n nan,\n nan,\n 3.584962500721156,\n -inf,\n nan,\n nan,\n -inf,\n 3.9068905956085187,\n nan,\n 0.0,\n -inf,\n 5.129283016944966,\n 2.321928094887362,\n -inf,\n -inf,\n -inf,\n 2.807354922057604,\n -inf,\n -inf,\n nan,\n -inf,\n 1.0,\n -inf,\n 2.584962500721156,\n 0.0,\n -inf,\n -inf,\n -inf,\n nan,\n 0.0,\n -inf,\n 0.0,\n 0.0,\n -inf,\n -inf,\n 3.321928094887362,\n nan,\n nan,\n -inf,\n -inf,\n -inf,\n -inf,\n -inf,\n -inf,\n 2.321928094887362,\n -inf,\n 1.0,\n -inf,\n -inf,\n -inf,\n -inf,\n nan,\n -inf,\n 0.0,\n -inf,\n -inf,\n nan,\n -inf,\n nan,\n -inf,\n -inf,\n 2.0,\n 0.0,\n 3.9068905956085187,\n 3.584962500721156,\n 3.321928094887362,\n -inf,\n 2.321928094887362,\n 0.0,\n -inf,\n 1.584962500721156,\n 1.584962500721156,\n 2.321928094887362,\n 0.0,\n nan,\n -inf,\n -inf,\n -inf,\n 3.169925001442312,\n -inf,\n 0.0,\n 1.0,\n -inf,\n nan,\n 2.0,\n -inf,\n 3.0,\n 2.807354922057604,\n 2.807354922057604,\n 4.392317422778761,\n 3.0,\n 2.807354922057604,\n -inf,\n 2.807354922057604,\n nan,\n 4.087462841250339,\n 2.584962500721156,\n 1.584962500721156,\n nan,\n -inf,\n -inf,\n nan,\n 1.0,\n nan,\n 1.0,\n nan,\n nan,\n nan,\n -inf,\n nan,\n nan,\n 5.087462841250339,\n -inf,\n 4.459431618637297,\n nan,\n 0.0,\n nan,\n -inf,\n nan,\n 2.584962500721156,\n 2.584962500721156,\n 5.129283016944966,\n nan,\n 1.584962500721156,\n 4.247927513443585,\n -inf,\n nan,\n 1.584962500721156,\n nan,\n -inf,\n 1.584962500721156,\n 1.0,\n -inf,\n nan,\n 0.0,\n -inf,\n nan,\n 3.4594316186372973,\n 1.584962500721156,\n nan,\n -inf,\n 2.0,\n 2.807354922057604,\n 3.700439718141092,\n nan,\n -inf,\n 3.4594316186372973,\n nan,\n 2.807354922057604,\n 1.584962500721156,\n nan,\n -inf,\n 1.584962500721156,\n nan,\n 0.0,\n 3.4594316186372973,\n nan,\n 0.0,\n nan,\n 3.321928094887362,\n 0.0,\n 0.0,\n -inf,\n 3.321928094887362,\n 2.321928094887362,\n nan,\n 3.0,\n -inf,\n nan,\n nan,\n 1.0,\n 0.0,\n 3.9068905956085187,\n nan,\n 1.0,\n 1.0,\n 2.0,\n nan,\n -inf,\n -inf,\n nan,\n nan,\n 10.857203471508166,\n 1.584962500721156,\n -inf,\n 1.0,\n -inf,\n -inf,\n 1.0,\n 3.807354922057604,\n -inf,\n -inf,\n nan,\n nan,\n -inf,\n 0.0,\n -inf,\n -inf,\n 4.169925001442312,\n 3.321928094887362,\n 1.584962500721156,\n 1.584962500721156,\n nan,\n 1.584962500721156,\n 1.0,\n 1.584962500721156,\n 1.0,\n 2.0,\n nan,\n 3.807354922057604,\n 3.0,\n 3.0,\n 3.807354922057604,\n 3.0,\n nan,\n 2.0,\n 2.584962500721156,\n -inf,\n 3.169925001442312,\n 1.0,\n 1.0,\n nan,\n 3.169925001442312,\n nan,\n 3.169925001442312,\n 2.321928094887362,\n nan,\n 1.0,\n 1.0,\n -inf,\n -inf,\n 0.0,\n -inf,\n -inf,\n 1.0,\n 6.169925001442312,\n 2.584962500721156,\n 3.0,\n 4.169925001442312,\n 3.584962500721156,\n 1.584962500721156,\n 3.0,\n -inf,\n 0.0,\n 0.0,\n 1.0,\n -inf,\n 2.584962500721156,\n -inf,\n 4.087462841250339,\n -inf,\n -inf,\n -inf,\n 1.0,\n -inf,\n 4.169925001442312,\n 1.0,\n 3.0,\n 4.643856189774724,\n -inf,\n 1.0,\n 1.584962500721156,\n 5.930737337562887,\n 2.584962500721156,\n 3.0,\n 1.0,\n -inf,\n 2.321928094887362,\n -inf,\n -inf,\n 0.0,\n -inf,\n -inf,\n -inf,\n -inf,\n -inf,\n -inf,\n -inf,\n -inf,\n -inf,\n -inf,\n 0.0,\n 0.0,\n -inf,\n -inf,\n nan,\n nan,\n nan,\n nan,\n 1.0,\n -inf,\n nan,\n -inf,\n -inf,\n -inf,\n nan,\n -inf,\n -inf,\n -inf,\n -inf,\n -inf,\n -inf,\n 0.0,\n nan,\n -inf,\n nan,\n -inf,\n nan,\n nan,\n nan,\n -inf,\n -inf,\n -inf,\n -inf,\n nan,\n nan,\n -inf,\n nan,\n -inf,\n 2.0,\n nan,\n nan,\n -inf,\n 1.584962500721156,\n -inf,\n 1.584962500721156,\n nan,\n -inf,\n 0.0,\n 1.0,\n -inf,\n 0.0,\n 0.0,\n 3.584962500721156,\n -inf,\n 3.584962500721156,\n -inf,\n 1.584962500721156,\n nan,\n -inf,\n -inf,\n nan,\n 3.169925001442312,\n nan,\n 0.0,\n 2.584962500721156,\n nan,\n 0.0,\n -inf,\n 0.0,\n -inf,\n 0.0,\n 0.0,\n -inf,\n -inf,\n -inf,\n 2.584962500721156,\n 1.0,\n -inf,\n nan,\n -inf,\n nan,\n nan,\n nan,\n nan,\n 6.066089190457772,\n -inf,\n 4.087462841250339,\n 1.584962500721156,\n -inf,\n 2.584962500721156,\n 1.584962500721156,\n 1.0,\n 0.0,\n -inf,\n 4.169925001442312,\n 3.0,\n 0.0,\n 0.0,\n 0.0,\n 4.0,\n 0.0,\n 2.321928094887362,\n 0.0,\n 1.584962500721156,\n -inf,\n 3.321928094887362,\n 0.0,\n -inf,\n -inf,\n nan,\n nan,\n -inf,\n nan,\n nan,\n nan,\n 0.0,\n -inf,\n nan,\n nan,\n nan,\n nan,\n nan,\n nan,\n nan,\n -inf,\n nan,\n nan,\n nan,\n -inf,\n 0.0,\n nan,\n nan,\n nan,\n 1.0,\n -inf,\n 0.0,\n nan,\n -inf,\n -inf,\n 1.0]"
     },
     "execution_count": 42,
     "metadata": {},
     "output_type": "execute_result"
    }
   ],
   "source": [
    "roman_cities[\"occups_N_log\"].tolist()"
   ],
   "metadata": {
    "collapsed": false,
    "pycharm": {
     "name": "#%%\n"
    }
   }
  },
  {
   "cell_type": "code",
   "execution_count": 43,
   "outputs": [
    {
     "data": {
      "text/plain": "<AxesSubplot:xlabel='occups_N_log', ylabel='pop_est_log'>"
     },
     "execution_count": 43,
     "metadata": {},
     "output_type": "execute_result"
    },
    {
     "data": {
      "text/plain": "<Figure size 432x288 with 1 Axes>",
      "image/png": "[encoded data removed]"
     },
     "metadata": {
      "needs_background": "light"
     },
     "output_type": "display_data"
    }
   ],
   "source": [
    "# cities without Roma, POP LOG\n",
    "data=roman_cities[\n",
    "    (roman_cities[\"Ancient Toponym\"]!=\"Roma\")\n",
    "    & (roman_cities[\"occups_N\"]>0)\n",
    "]\n",
    "sns.regplot(x=\"occups_N_log\", y=\"pop_est_log\", data=data)"
   ],
   "metadata": {
    "collapsed": false,
    "pycharm": {
     "name": "#%%\n"
    }
   }
  },
  {
   "cell_type": "markdown",
   "source": [
    "# Measuring diversity"
   ],
   "metadata": {
    "collapsed": false,
    "pycharm": {
     "name": "#%% md\n"
    }
   }
  },
  {
   "cell_type": "code",
   "execution_count": 44,
   "outputs": [
    {
     "data": {
      "text/plain": "889"
     },
     "execution_count": 44,
     "metadata": {},
     "output_type": "execute_result"
    }
   ],
   "source": [
    "len(roman_cities)"
   ],
   "metadata": {
    "collapsed": false,
    "pycharm": {
     "name": "#%%\n"
    }
   }
  },
  {
   "cell_type": "code",
   "execution_count": 45,
   "outputs": [
    {
     "data": {
      "text/plain": "313"
     },
     "execution_count": 45,
     "metadata": {},
     "output_type": "execute_result"
    }
   ],
   "source": [
    "(roman_cities[\"occups_N\"]>0).sum()"
   ],
   "metadata": {
    "collapsed": false,
    "pycharm": {
     "name": "#%%\n"
    }
   }
  },
  {
   "cell_type": "code",
   "execution_count": 46,
   "outputs": [
    {
     "data": {
      "text/plain": "1855.0"
     },
     "execution_count": 46,
     "metadata": {},
     "output_type": "execute_result"
    }
   ],
   "source": [
    "roman_cities[\"occups_N\"].max()"
   ],
   "metadata": {
    "collapsed": false,
    "pycharm": {
     "name": "#%%\n"
    }
   }
  },
  {
   "cell_type": "code",
   "execution_count": 64,
   "outputs": [],
   "source": [
    "# roman cities western with at least one occupations\n",
    "roman_cities_wo = roman_cities[roman_cities[\"occups_N\"]>0].copy()"
   ],
   "metadata": {
    "collapsed": false,
    "pycharm": {
     "name": "#%%\n"
    }
   }
  },
  {
   "cell_type": "code",
   "execution_count": 58,
   "outputs": [
    {
     "data": {
      "text/plain": "Text(0, 0.5, 'N of cities')"
     },
     "execution_count": 58,
     "metadata": {},
     "output_type": "execute_result"
    },
    {
     "data": {
      "text/plain": "<Figure size 432x288 with 1 Axes>",
      "image/png": "[encoded data removed]"
     },
     "metadata": {
      "needs_background": "light"
     },
     "output_type": "display_data"
    }
   ],
   "source": [
    "ax=roman_cities_wo[\"occups_N\"].hist(bins=range(0,100,5))\n",
    "ax.set_xlabel(\"N of occupations\")\n",
    "ax.set_ylabel(\"N of cities\")"
   ],
   "metadata": {
    "collapsed": false,
    "pycharm": {
     "name": "#%%\n"
    }
   }
  },
  {
   "cell_type": "code",
   "execution_count": null,
   "outputs": [],
   "source": [
    "roman_cities_wo"
   ],
   "metadata": {
    "collapsed": false,
    "pycharm": {
     "name": "#%%\n"
    }
   }
  },
  {
   "cell_type": "code",
   "execution_count": 65,
   "outputs": [],
   "source": [
    "roman_cities_wo[\"occups_cats_unique_N\"] = roman_cities_wo[\"occups_cats_list\"].apply(lambda x: len(set(x)))"
   ],
   "metadata": {
    "collapsed": false,
    "pycharm": {
     "name": "#%%\n"
    }
   }
  },
  {
   "cell_type": "code",
   "execution_count": 78,
   "outputs": [
    {
     "data": {
      "text/plain": "<AxesSubplot:>"
     },
     "execution_count": 78,
     "metadata": {},
     "output_type": "execute_result"
    },
    {
     "data": {
      "text/plain": "<Figure size 432x288 with 1 Axes>",
      "image/png": "[encoded data removed]"
     },
     "metadata": {
      "needs_background": "light"
     },
     "output_type": "display_data"
    }
   ],
   "source": [
    "bins = [n+0.5 for n in range(0,9)]\n",
    "roman_cities_wo[\"occups_cats_unique_N\"].hist(bins=bins)"
   ],
   "metadata": {
    "collapsed": false,
    "pycharm": {
     "name": "#%%\n"
    }
   }
  },
  {
   "cell_type": "code",
   "execution_count": 75,
   "outputs": [
    {
     "data": {
      "text/plain": "8"
     },
     "execution_count": 75,
     "metadata": {},
     "output_type": "execute_result"
    }
   ],
   "source": [
    "len(set([el for sublist in roman_cities_wo[\"occups_cats_list\"] for el in sublist]))"
   ],
   "metadata": {
    "collapsed": false,
    "pycharm": {
     "name": "#%%\n"
    }
   }
  },
  {
   "cell_type": "code",
   "execution_count": 81,
   "outputs": [
    {
     "data": {
      "text/plain": "<AxesSubplot:>"
     },
     "execution_count": 81,
     "metadata": {},
     "output_type": "execute_result"
    },
    {
     "data": {
      "text/plain": "<Figure size 432x288 with 1 Axes>",
      "image/png": "[encoded data removed]"
     },
     "metadata": {
      "needs_background": "light"
     },
     "output_type": "display_data"
    }
   ],
   "source": [
    "roman_cities_wo[\"pop_est\"].hist(bins=range(0,100000, 5000))"
   ],
   "metadata": {
    "collapsed": false,
    "pycharm": {
     "name": "#%%\n"
    }
   }
  },
  {
   "cell_type": "code",
   "execution_count": null,
   "outputs": [],
   "source": [
    "roman_cities_wo[\"occups_cats_unique_N\"]"
   ],
   "metadata": {
    "collapsed": false,
    "pycharm": {
     "name": "#%%\n"
    }
   }
  }
 ],
 "metadata": {
  "kernelspec": {
   "name": "socdiv_venv",
   "language": "python",
   "display_name": "socdiv_venv"
  },
  "language_info": {
   "codemirror_mode": {
    "name": "ipython",
    "version": 2
   },
   "file_extension": ".py",
   "mimetype": "text/x-python",
   "name": "python",
   "nbconvert_exporter": "python",
   "pygments_lexer": "ipython2",
   "version": "2.7.6"
  }
 },
 "nbformat": 4,
 "nbformat_minor": 0
}