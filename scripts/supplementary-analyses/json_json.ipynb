{
 "cells": [
  {
   "cell_type": "code",
   "execution_count": 77,
   "metadata": {},
   "outputs": [],
   "source": [
    "import json\n",
    "import pandas as pd\n",
    "import geopandas as gpd\n",
    "import shapely"
   ]
  },
  {
   "cell_type": "markdown",
   "metadata": {},
   "source": [
    "Json file format can be used to represent tabular data in many different ways. This sometimes creates problem when we combine several different tools."
   ]
  },
  {
   "cell_type": "code",
   "execution_count": 52,
   "metadata": {},
   "outputs": [
    {
     "data": {
      "text/plain": [
       "{'col1': ['1-1', '1-2', '1-3'],\n",
       " 'col2': ['2-1', '2-2', '2-3'],\n",
       " 'col3': ['text', {'key': 'value'}, [0]]}"
      ]
     },
     "execution_count": 52,
     "metadata": {},
     "output_type": "execute_result"
    }
   ],
   "source": [
    "json_structure1 = {\n",
    "    \"col1\" : [\"1-1\", \"1-2\", \"1-3\"],\n",
    "    \"col2\" : [\"2-1\", \"2-2\", \"2-3\"],\n",
    "    \"col3\" : [\"text\", {\"key\": \"value\"}, [0]]\n",
    "}\n",
    "json_structure1"
   ]
  },
  {
   "cell_type": "code",
   "execution_count": 60,
   "metadata": {},
   "outputs": [
    {
     "data": {
      "text/html": [
       "<div>\n",
       "<style scoped>\n",
       "    .dataframe tbody tr th:only-of-type {\n",
       "        vertical-align: middle;\n",
       "    }\n",
       "\n",
       "    .dataframe tbody tr th {\n",
       "        vertical-align: top;\n",
       "    }\n",
       "\n",
       "    .dataframe thead th {\n",
       "        text-align: right;\n",
       "    }\n",
       "</style>\n",
       "<table border=\"1\" class=\"dataframe\">\n",
       "  <thead>\n",
       "    <tr style=\"text-align: right;\">\n",
       "      <th></th>\n",
       "      <th>col1</th>\n",
       "      <th>col2</th>\n",
       "      <th>col3</th>\n",
       "    </tr>\n",
       "  </thead>\n",
       "  <tbody>\n",
       "    <tr>\n",
       "      <th>0</th>\n",
       "      <td>1-1</td>\n",
       "      <td>2-1</td>\n",
       "      <td>text</td>\n",
       "    </tr>\n",
       "    <tr>\n",
       "      <th>1</th>\n",
       "      <td>1-2</td>\n",
       "      <td>2-2</td>\n",
       "      <td>{'key': 'value'}</td>\n",
       "    </tr>\n",
       "    <tr>\n",
       "      <th>2</th>\n",
       "      <td>1-3</td>\n",
       "      <td>2-3</td>\n",
       "      <td>[0]</td>\n",
       "    </tr>\n",
       "  </tbody>\n",
       "</table>\n",
       "</div>"
      ],
      "text/plain": [
       "  col1 col2              col3\n",
       "0  1-1  2-1              text\n",
       "1  1-2  2-2  {'key': 'value'}\n",
       "2  1-3  2-3               [0]"
      ]
     },
     "execution_count": 60,
     "metadata": {},
     "output_type": "execute_result"
    }
   ],
   "source": [
    "df = pd.DataFrame(json_structure1)\n",
    "df"
   ]
  },
  {
   "cell_type": "code",
   "execution_count": 61,
   "metadata": {},
   "outputs": [
    {
     "data": {
      "text/plain": [
       "{'col1': {'0': '1-1', '1': '1-2', '2': '1-3'},\n",
       " 'col2': {'0': '2-1', '1': '2-2', '2': '2-3'},\n",
       " 'col3': {'0': 'text', '1': {'key': 'value'}, '2': [0]}}"
      ]
     },
     "execution_count": 61,
     "metadata": {},
     "output_type": "execute_result"
    }
   ],
   "source": [
    "json_structure2 = eval(df.to_json())\n",
    "json_structure2"
   ]
  },
  {
   "cell_type": "code",
   "execution_count": 62,
   "metadata": {},
   "outputs": [
    {
     "data": {
      "text/plain": [
       "[{'col1': '1-1', 'col2': '2-1', 'col3': 'text'},\n",
       " {'col1': '1-2', 'col2': '2-2', 'col3': {'key': 'value'}},\n",
       " {'col1': '1-3', 'col2': '2-3', 'col3': [0]}]"
      ]
     },
     "execution_count": 62,
     "metadata": {},
     "output_type": "execute_result"
    }
   ],
   "source": [
    "json_structure3 = eval(df.to_json(orient = \"records\"))\n",
    "json_structure3"
   ]
  },
  {
   "cell_type": "code",
   "execution_count": 80,
   "metadata": {},
   "outputs": [
    {
     "data": {
      "text/html": [
       "<div>\n",
       "<style scoped>\n",
       "    .dataframe tbody tr th:only-of-type {\n",
       "        vertical-align: middle;\n",
       "    }\n",
       "\n",
       "    .dataframe tbody tr th {\n",
       "        vertical-align: top;\n",
       "    }\n",
       "\n",
       "    .dataframe thead th {\n",
       "        text-align: right;\n",
       "    }\n",
       "</style>\n",
       "<table border=\"1\" class=\"dataframe\">\n",
       "  <thead>\n",
       "    <tr style=\"text-align: right;\">\n",
       "      <th></th>\n",
       "      <th>col1</th>\n",
       "      <th>col2</th>\n",
       "      <th>col3</th>\n",
       "      <th>coordinates</th>\n",
       "    </tr>\n",
       "  </thead>\n",
       "  <tbody>\n",
       "    <tr>\n",
       "      <th>0</th>\n",
       "      <td>1-1</td>\n",
       "      <td>2-1</td>\n",
       "      <td>text</td>\n",
       "      <td>[0, 1]</td>\n",
       "    </tr>\n",
       "    <tr>\n",
       "      <th>1</th>\n",
       "      <td>1-2</td>\n",
       "      <td>2-2</td>\n",
       "      <td>{'key': 'value'}</td>\n",
       "      <td>[1, 2]</td>\n",
       "    </tr>\n",
       "    <tr>\n",
       "      <th>2</th>\n",
       "      <td>1-3</td>\n",
       "      <td>2-3</td>\n",
       "      <td>[0]</td>\n",
       "      <td>[3, 4]</td>\n",
       "    </tr>\n",
       "  </tbody>\n",
       "</table>\n",
       "</div>"
      ],
      "text/plain": [
       "  col1 col2              col3 coordinates\n",
       "0  1-1  2-1              text      [0, 1]\n",
       "1  1-2  2-2  {'key': 'value'}      [1, 2]\n",
       "2  1-3  2-3               [0]      [3, 4]"
      ]
     },
     "execution_count": 80,
     "metadata": {},
     "output_type": "execute_result"
    }
   ],
   "source": [
    "df[\"coordinates\"] = [[0,1], [1,2], [3,4]]\n",
    "df"
   ]
  },
  {
   "cell_type": "code",
   "execution_count": 81,
   "metadata": {},
   "outputs": [
    {
     "data": {
      "text/plain": [
       "[{'col1': '1-1', 'col2': '2-1', 'col3': 'text', 'coordinates': [0, 1]},\n",
       " {'col1': '1-2',\n",
       "  'col2': '2-2',\n",
       "  'col3': {'key': 'value'},\n",
       "  'coordinates': [1, 2]},\n",
       " {'col1': '1-3', 'col2': '2-3', 'col3': [0], 'coordinates': [3, 4]}]"
      ]
     },
     "execution_count": 81,
     "metadata": {},
     "output_type": "execute_result"
    }
   ],
   "source": [
    "eval(df.to_json(orient = \"records\"))"
   ]
  },
  {
   "cell_type": "code",
   "execution_count": 83,
   "metadata": {},
   "outputs": [
    {
     "name": "stderr",
     "output_type": "stream",
     "text": [
      "/home/kasev/social_diversity/socdiv_venv/lib/python3.6/site-packages/pyproj/crs/crs.py:53: FutureWarning: '+init=<authority>:<code>' syntax is deprecated. '<authority>:<code>' is the preferred initialization method. When making the change, be mindful of axis order changes: https://pyproj4.github.io/pyproj/stable/gotchas.html#axis-order-changes-in-proj-6\n",
      "  return _prepare_from_string(\" \".join(pjargs))\n"
     ]
    },
    {
     "data": {
      "text/html": [
       "<div>\n",
       "<style scoped>\n",
       "    .dataframe tbody tr th:only-of-type {\n",
       "        vertical-align: middle;\n",
       "    }\n",
       "\n",
       "    .dataframe tbody tr th {\n",
       "        vertical-align: top;\n",
       "    }\n",
       "\n",
       "    .dataframe thead th {\n",
       "        text-align: right;\n",
       "    }\n",
       "</style>\n",
       "<table border=\"1\" class=\"dataframe\">\n",
       "  <thead>\n",
       "    <tr style=\"text-align: right;\">\n",
       "      <th></th>\n",
       "      <th>col1</th>\n",
       "      <th>col2</th>\n",
       "      <th>geometry</th>\n",
       "      <th>coordinates</th>\n",
       "    </tr>\n",
       "  </thead>\n",
       "  <tbody>\n",
       "    <tr>\n",
       "      <th>0</th>\n",
       "      <td>1-1</td>\n",
       "      <td>2-1</td>\n",
       "      <td>POINT (0.00000 1.00000)</td>\n",
       "      <td>[0, 1]</td>\n",
       "    </tr>\n",
       "    <tr>\n",
       "      <th>1</th>\n",
       "      <td>1-2</td>\n",
       "      <td>2-2</td>\n",
       "      <td>POINT (1.00000 2.00000)</td>\n",
       "      <td>[1, 2]</td>\n",
       "    </tr>\n",
       "    <tr>\n",
       "      <th>2</th>\n",
       "      <td>1-3</td>\n",
       "      <td>2-3</td>\n",
       "      <td>POINT (3.00000 4.00000)</td>\n",
       "      <td>[3, 4]</td>\n",
       "    </tr>\n",
       "  </tbody>\n",
       "</table>\n",
       "</div>"
      ],
      "text/plain": [
       "  col1 col2                 geometry coordinates\n",
       "0  1-1  2-1  POINT (0.00000 1.00000)      [0, 1]\n",
       "1  1-2  2-2  POINT (1.00000 2.00000)      [1, 2]\n",
       "2  1-3  2-3  POINT (3.00000 4.00000)      [3, 4]"
      ]
     },
     "execution_count": 83,
     "metadata": {},
     "output_type": "execute_result"
    }
   ],
   "source": [
    "gdf = gpd.GeoDataFrame(gdf, geometry=gpd.points_from_xy(gdf[\"coordinates\"].apply(lambda x: x[0]), gdf[\"coordinates\"].apply(lambda x: x[1])), crs={\"init\": \"epsg:3857\"})\n",
    "gdf"
   ]
  },
  {
   "cell_type": "code",
   "execution_count": 58,
   "metadata": {},
   "outputs": [
    {
     "data": {
      "text/plain": [
       "<AxesSubplot:>"
      ]
     },
     "execution_count": 58,
     "metadata": {},
     "output_type": "execute_result"
    },
    {
     "data": {
      "image/png": "[encoded data removed]",
      "text/plain": [
       "<Figure size 432x288 with 1 Axes>"
      ]
     },
     "metadata": {
      "needs_background": "light"
     },
     "output_type": "display_data"
    }
   ],
   "source": [
    "gdf.plot()"
   ]
  },
  {
   "cell_type": "code",
   "execution_count": 70,
   "metadata": {},
   "outputs": [
    {
     "data": {
      "text/plain": [
       "{'type': 'FeatureCollection',\n",
       " 'features': [{'id': '0',\n",
       "   'type': 'Feature',\n",
       "   'properties': {'col1': '1-1', 'col2': '2-1', 'coordinates': [0, 1]},\n",
       "   'geometry': {'type': 'Point', 'coordinates': [0.0, 1.0]}},\n",
       "  {'id': '1',\n",
       "   'type': 'Feature',\n",
       "   'properties': {'col1': '1-2', 'col2': '2-2', 'coordinates': [1, 2]},\n",
       "   'geometry': {'type': 'Point', 'coordinates': [1.0, 2.0]}},\n",
       "  {'id': '2',\n",
       "   'type': 'Feature',\n",
       "   'properties': {'col1': '1-3', 'col2': '2-3', 'coordinates': [3, 4]},\n",
       "   'geometry': {'type': 'Point', 'coordinates': [3.0, 4.0]}}]}"
      ]
     },
     "execution_count": 70,
     "metadata": {},
     "output_type": "execute_result"
    }
   ],
   "source": [
    "eval(gdf.to_json())"
   ]
  },
  {
   "cell_type": "code",
   "execution_count": 78,
   "metadata": {},
   "outputs": [],
   "source": [
    "def gdf_to_geojson(gdf_input):\n",
    "    # serialize geometry:\n",
    "    gdf = gdf_input.copy()\n",
    "    gdf[\"geometry\"] = gdf[\"geometry\"].apply(lambda x: eval(json.dumps(shapely.geometry.mapping(x))))\n",
    "    # gdf into dict object in geojson structure:\n",
    "    for col in gdf.columns:\n",
    "        if list in [type(ins) for ins in gdf[col]]:\n",
    "            gdf[col] = gdf[col].apply(lambda x: str(x))\n",
    "    dict_list_object = [{\"type\" : \"Feature\", \"geometry\" : el[\"geometry\"], \"properties\": {key:val for key, val in el.items() if key != 'geometry'}} for el in gdf.to_dict(\"records\")]\n",
    "    geojson_structure = {\"type\": \"FeatureCollection\", \"features\": dict_list_object}\n",
    "    return geojson_structure"
   ]
  },
  {
   "cell_type": "code",
   "execution_count": 79,
   "metadata": {},
   "outputs": [
    {
     "name": "stderr",
     "output_type": "stream",
     "text": [
      "/home/kasev/social_diversity/socdiv_venv/lib/python3.6/site-packages/geopandas/geodataframe.py:1321: UserWarning: Geometry column does not contain geometry.\n",
      "  warnings.warn(\"Geometry column does not contain geometry.\")\n"
     ]
    },
    {
     "data": {
      "text/plain": [
       "{'type': 'FeatureCollection',\n",
       " 'features': [{'type': 'Feature',\n",
       "   'geometry': {'type': 'Point', 'coordinates': [0.0, 1.0]},\n",
       "   'properties': {'col1': '1-1', 'col2': '2-1', 'coordinates': '[0, 1]'}},\n",
       "  {'type': 'Feature',\n",
       "   'geometry': {'type': 'Point', 'coordinates': [1.0, 2.0]},\n",
       "   'properties': {'col1': '1-2', 'col2': '2-2', 'coordinates': '[1, 2]'}},\n",
       "  {'type': 'Feature',\n",
       "   'geometry': {'type': 'Point', 'coordinates': [3.0, 4.0]},\n",
       "   'properties': {'col1': '1-3', 'col2': '2-3', 'coordinates': '[3, 4]'}}]}"
      ]
     },
     "execution_count": 79,
     "metadata": {},
     "output_type": "execute_result"
    }
   ],
   "source": [
    "gdf_to_geojson(gdf)"
   ]
  },
  {
   "cell_type": "code",
   "execution_count": 87,
   "metadata": {},
   "outputs": [
    {
     "name": "stdout",
     "output_type": "stream",
     "text": [
      "hello\n"
     ]
    }
   ],
   "source": [
    "eval(\"print('hello')\")"
   ]
  },
  {
   "cell_type": "code",
   "execution_count": null,
   "metadata": {},
   "outputs": [],
   "source": []
  }
 ],
 "metadata": {
  "kernelspec": {
   "display_name": "socdiv_venv",
   "language": "python",
   "name": "socdiv_venv"
  },
  "language_info": {
   "codemirror_mode": {
    "name": "ipython",
    "version": 3
   },
   "file_extension": ".py",
   "mimetype": "text/x-python",
   "name": "python",
   "nbconvert_exporter": "python",
   "pygments_lexer": "ipython3",
   "version": "3.6.9"
  }
 },
 "nbformat": 4,
 "nbformat_minor": 4
}
