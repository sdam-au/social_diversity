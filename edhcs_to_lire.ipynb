{
 "cells": [
  {
   "cell_type": "code",
   "execution_count": 1,
   "metadata": {},
   "outputs": [],
   "source": [
    "import os"
   ]
  },
  {
   "cell_type": "code",
   "execution_count": 2,
   "metadata": {},
   "outputs": [],
   "source": [
    "with open(\"README.md\", \"r\") as file:\n",
    "    filecontent = file.read()\n",
    "    \n",
    "filecontent = filecontent.replace(\"EDHCS\", \"LIRE\")\n",
    "\n",
    "with open(\"README.md\", \"w\") as file:\n",
    "    file.write(filecontent)"
   ]
  },
  {
   "cell_type": "code",
   "execution_count": 7,
   "metadata": {},
   "outputs": [
    {
     "name": "stdout",
     "output_type": "stream",
     "text": [
      "1_DECLINE-OCCUPATIONS&ORGANIZATIONS.ipynb\n",
      "records\n",
      "6_OCCUPS&ORGS_TEMPORAL_backup.ipynb\n",
      "5_OCCUPS-TIGHTNESS.ipynb\n",
      "2_EXTRACTING-OCCUPATIONS&ORGANIZATIONS.ipynb\n",
      "3_OCCUPS&ORGS_BY-CONTEXT.ipynb\n",
      "sddk&geojsons.ipynb\n",
      "spatial.ipynb\n",
      "socdiv_venv\n",
      "geoplot_test.ipynb\n",
      ".ipynb_checkpoints\n",
      "json_json.ipynb\n",
      "4_OCCUPS&ORGS_TEMPORAL.ipynb\n",
      ".gitignore\n",
      "5b_OCCUPS&ORGS_SPATIAL_by-nearest.ipynb\n"
     ]
    }
   ],
   "source": [
    "for filename in os.listdir(\"scripts\"):\n",
    "    with open(filename, \"r\") as file:\n",
    "        filecontent = file.read()\n",
    "    filecontent = filecontent.replace(\"EDHCS\", \"LIRE\")\n",
    "    with open(filename, \"w\") as file:\n",
    "        file.write(filecontent)"
   ]
  },
  {
   "cell_type": "code",
   "execution_count": null,
   "metadata": {},
   "outputs": [],
   "source": []
  }
 ],
 "metadata": {
  "kernelspec": {
   "display_name": "Python 3",
   "language": "python",
   "name": "python3"
  },
  "language_info": {
   "codemirror_mode": {
    "name": "ipython",
    "version": 3
   },
   "file_extension": ".py",
   "mimetype": "text/x-python",
   "name": "python",
   "nbconvert_exporter": "python",
   "pygments_lexer": "ipython3",
   "version": "3.6.9"
  }
 },
 "nbformat": 4,
 "nbformat_minor": 4
}
